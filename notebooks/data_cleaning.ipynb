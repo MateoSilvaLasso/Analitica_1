{
 "cells": [
  {
   "cell_type": "markdown",
   "metadata": {},
   "source": [
    "# Context\n",
    "\n",
    "In this notebook we will do some data cleaning and data preprocessing in order to fix some issues of the data and prepare it to further analysis and modelling."
   ]
  },
  {
   "cell_type": "markdown",
   "metadata": {},
   "source": [
    "# Load packages"
   ]
  },
  {
   "cell_type": "code",
   "execution_count": 596,
   "metadata": {},
   "outputs": [],
   "source": [
    "import pandas as pd\n",
    "import numpy as np\n",
    "import matplotlib.pyplot as plt\n",
    "import seaborn as sns\n",
    "import datetime\n",
    "import random\n",
    "import os\n",
    "from unidecode import unidecode  # Library to remove accents\n",
    "\n",
    "\n",
    "pd.options.display.max_columns = 100\n",
    "pd.options.display.max_rows = 100\n"
   ]
  },
  {
   "cell_type": "markdown",
   "metadata": {},
   "source": [
    "# Load data\n",
    "\n",
    "using relative paths"
   ]
  },
  {
   "cell_type": "code",
   "execution_count": 597,
   "metadata": {},
   "outputs": [
    {
     "name": "stdout",
     "output_type": "stream",
     "text": [
      "Current file name: data_cleaning.ipynb\n",
      "\n",
      "Current absolute path: c:\\Users\\jhorea\\Dropbox\\ASPECTOS MAESTRIA\\Retos_maestria\\Reto_bancow\\Analitica_1\\notebooks\n",
      "BASE_DIR: c:\\Users\\jhorea\\Dropbox\\ASPECTOS MAESTRIA\\Retos_maestria\\Reto_bancow\\Analitica_1\n",
      "DATA_DIR: c:\\Users\\jhorea\\Dropbox\\ASPECTOS MAESTRIA\\Retos_maestria\\Reto_bancow\\Analitica_1\\Data\n",
      "OUTPUT_DIR: c:\\Users\\jhorea\\Dropbox\\ASPECTOS MAESTRIA\\Retos_maestria\\Reto_bancow\\Analitica_1\\Data\\output_data\n"
     ]
    }
   ],
   "source": [
    "filename = \"data_cleaning.ipynb\" # Current file name\n",
    "print(f'Current file name: {filename}\\n')\n",
    "print(f'Current absolute path: {os.getcwd()}')\n",
    "\n",
    "# Specify the paths, relative to the current file\n",
    "NOTEBOOKS_DIR = os.path.dirname(os.path.abspath(filename))\n",
    "BASE_DIR = os.path.dirname(NOTEBOOKS_DIR)\n",
    "DATA_DIR = os.path.join(BASE_DIR, \"Data\")\n",
    "OUTPUT_DIR = os.path.join(DATA_DIR, \"output_data\")\n",
    "\n",
    "print(f'BASE_DIR: {BASE_DIR}')\n",
    "print(f'DATA_DIR: {DATA_DIR}')\n",
    "print(f'OUTPUT_DIR: {OUTPUT_DIR}')"
   ]
  },
  {
   "cell_type": "code",
   "execution_count": 598,
   "metadata": {},
   "outputs": [
    {
     "data": {
      "text/html": [
       "<div>\n",
       "<style scoped>\n",
       "    .dataframe tbody tr th:only-of-type {\n",
       "        vertical-align: middle;\n",
       "    }\n",
       "\n",
       "    .dataframe tbody tr th {\n",
       "        vertical-align: top;\n",
       "    }\n",
       "\n",
       "    .dataframe thead th {\n",
       "        text-align: right;\n",
       "    }\n",
       "</style>\n",
       "<table border=\"1\" class=\"dataframe\">\n",
       "  <thead>\n",
       "    <tr style=\"text-align: right;\">\n",
       "      <th></th>\n",
       "      <th>Num</th>\n",
       "      <th>ID_modif</th>\n",
       "      <th>Cliente</th>\n",
       "      <th>Analista</th>\n",
       "      <th>Nombre analista</th>\n",
       "      <th>Tipo crédito</th>\n",
       "      <th>Fecha desem</th>\n",
       "      <th>Visita_analista_crédito</th>\n",
       "      <th>Visita_auditor</th>\n",
       "      <th>Actividad</th>\n",
       "      <th>Monto</th>\n",
       "      <th>Cuota</th>\n",
       "      <th>Plazo</th>\n",
       "      <th>Categoria</th>\n",
       "      <th>Hallazgo</th>\n",
       "      <th>Tipo hallazgo</th>\n",
       "      <th>Riesgo</th>\n",
       "      <th>Calificación cartera</th>\n",
       "      <th>Relaciones Laborales</th>\n",
       "      <th>Oficina</th>\n",
       "      <th>zona</th>\n",
       "      <th>Regional</th>\n",
       "      <th>Validación unico</th>\n",
       "      <th>Tipo analisis</th>\n",
       "      <th>Clasificac analisis</th>\n",
       "      <th>Estado</th>\n",
       "      <th>Año</th>\n",
       "      <th>Tipo</th>\n",
       "    </tr>\n",
       "  </thead>\n",
       "  <tbody>\n",
       "    <tr>\n",
       "      <th>0</th>\n",
       "      <td>1</td>\n",
       "      <td>7252440</td>\n",
       "      <td>Hector Julio Pabon Castano</td>\n",
       "      <td>AIZ</td>\n",
       "      <td>Juan Alejandro Trujillo Garcia</td>\n",
       "      <td>Renovacion</td>\n",
       "      <td>2021-06-11 00:00:00</td>\n",
       "      <td>NaN</td>\n",
       "      <td>2022-09-20 00:00:00</td>\n",
       "      <td>don patacon postobon</td>\n",
       "      <td>15069.268</td>\n",
       "      <td>792.642</td>\n",
       "      <td>36</td>\n",
       "      <td>FRAUDE_Y_PRÁCTICAS_INDEBIDAS</td>\n",
       "      <td>Crédito otorgado a mas de un titular con el mi...</td>\n",
       "      <td>Acto Irregular</td>\n",
       "      <td>1 - Alto</td>\n",
       "      <td>Si</td>\n",
       "      <td>Si</td>\n",
       "      <td>Dosquebradas</td>\n",
       "      <td>12</td>\n",
       "      <td>4</td>\n",
       "      <td>NaN</td>\n",
       "      <td>NaN</td>\n",
       "      <td>NaN</td>\n",
       "      <td>Cancelada</td>\n",
       "      <td>2022</td>\n",
       "      <td>Afecta Estabilidad</td>\n",
       "    </tr>\n",
       "    <tr>\n",
       "      <th>1</th>\n",
       "      <td>2</td>\n",
       "      <td>1143936676</td>\n",
       "      <td>Casas Marisol                                 ...</td>\n",
       "      <td>JQQ</td>\n",
       "      <td>Alexander Joaqui Quintero</td>\n",
       "      <td>Renovacion</td>\n",
       "      <td>2021-06-15 00:00:00</td>\n",
       "      <td>2021-06-08 00:00:00</td>\n",
       "      <td>NaN</td>\n",
       "      <td>expendio de comidas preparadas en cafeterias  ...</td>\n",
       "      <td>402.000</td>\n",
       "      <td>209.228</td>\n",
       "      <td>626</td>\n",
       "      <td>FRAUDE_Y_PRÁCTICAS_INDEBIDAS</td>\n",
       "      <td>Presunto negocio inexistente</td>\n",
       "      <td>Acto Irregular</td>\n",
       "      <td>1 - Alto</td>\n",
       "      <td>No</td>\n",
       "      <td>Si</td>\n",
       "      <td>Poblado</td>\n",
       "      <td>1</td>\n",
       "      <td>1</td>\n",
       "      <td>NaN</td>\n",
       "      <td>NaN</td>\n",
       "      <td>NaN</td>\n",
       "      <td>Castigo</td>\n",
       "      <td>2022</td>\n",
       "      <td>Afecta Estabilidad</td>\n",
       "    </tr>\n",
       "  </tbody>\n",
       "</table>\n",
       "</div>"
      ],
      "text/plain": [
       "   Num    ID_modif                                            Cliente  \\\n",
       "0    1     7252440                         Hector Julio Pabon Castano   \n",
       "1    2  1143936676  Casas Marisol                                 ...   \n",
       "\n",
       "  Analista                 Nombre analista Tipo crédito          Fecha desem  \\\n",
       "0      AIZ  Juan Alejandro Trujillo Garcia   Renovacion  2021-06-11 00:00:00   \n",
       "1      JQQ       Alexander Joaqui Quintero   Renovacion  2021-06-15 00:00:00   \n",
       "\n",
       "  Visita_analista_crédito       Visita_auditor  \\\n",
       "0                     NaN  2022-09-20 00:00:00   \n",
       "1     2021-06-08 00:00:00                  NaN   \n",
       "\n",
       "                                           Actividad      Monto    Cuota  \\\n",
       "0                               don patacon postobon  15069.268  792.642   \n",
       "1  expendio de comidas preparadas en cafeterias  ...    402.000  209.228   \n",
       "\n",
       "   Plazo                     Categoria  \\\n",
       "0     36  FRAUDE_Y_PRÁCTICAS_INDEBIDAS   \n",
       "1    626  FRAUDE_Y_PRÁCTICAS_INDEBIDAS   \n",
       "\n",
       "                                            Hallazgo   Tipo hallazgo  \\\n",
       "0  Crédito otorgado a mas de un titular con el mi...  Acto Irregular   \n",
       "1                       Presunto negocio inexistente  Acto Irregular   \n",
       "\n",
       "     Riesgo Calificación cartera Relaciones Laborales      Oficina   zona   \\\n",
       "0  1 - Alto                   Si                   Si  Dosquebradas     12   \n",
       "1  1 - Alto                   No                   Si       Poblado      1   \n",
       "\n",
       "   Regional Validación unico Tipo analisis  Clasificac analisis  \\\n",
       "0         4              NaN            NaN                 NaN   \n",
       "1         1              NaN            NaN                 NaN   \n",
       "\n",
       "                           Estado   Año                Tipo  \n",
       "0  Cancelada                       2022  Afecta Estabilidad  \n",
       "1  Castigo                         2022  Afecta Estabilidad  "
      ]
     },
     "execution_count": 598,
     "metadata": {},
     "output_type": "execute_result"
    }
   ],
   "source": [
    "df_base = pd.read_excel(os.path.join(DATA_DIR, \"historico_hallazgos.xlsx\"))\n",
    "df_base.head(2)"
   ]
  },
  {
   "cell_type": "markdown",
   "metadata": {},
   "source": [
    "# Overall check & Fix\n",
    "\n",
    "Reviewing the columns, we can gather valuable information about the data and the context, in order to know how to develop an EDA and ML project.  \n",
    "We can also clean the columns data, in order to have valuable information."
   ]
  },
  {
   "cell_type": "code",
   "execution_count": 599,
   "metadata": {},
   "outputs": [
    {
     "name": "stdout",
     "output_type": "stream",
     "text": [
      "<class 'pandas.core.frame.DataFrame'>\n",
      "RangeIndex: 3919 entries, 0 to 3918\n",
      "Data columns (total 28 columns):\n",
      " #   Column                   Non-Null Count  Dtype  \n",
      "---  ------                   --------------  -----  \n",
      " 0   Num                      3919 non-null   int64  \n",
      " 1   ID_modif                 3919 non-null   int64  \n",
      " 2   Cliente                  3918 non-null   object \n",
      " 3   Analista                 3919 non-null   object \n",
      " 4   Nombre analista          3919 non-null   object \n",
      " 5   Tipo crédito             3717 non-null   object \n",
      " 6   Fecha desem              3916 non-null   object \n",
      " 7   Visita_analista_crédito  3119 non-null   object \n",
      " 8   Visita_auditor           3800 non-null   object \n",
      " 9   Actividad                3867 non-null   object \n",
      " 10  Monto                    3919 non-null   float64\n",
      " 11  Cuota                    3919 non-null   object \n",
      " 12  Plazo                    3919 non-null   int64  \n",
      " 13  Categoria                3919 non-null   object \n",
      " 14  Hallazgo                 3917 non-null   object \n",
      " 15  Tipo hallazgo            3918 non-null   object \n",
      " 16  Riesgo                   3915 non-null   object \n",
      " 17  Calificación cartera     3889 non-null   object \n",
      " 18  Relaciones Laborales     3423 non-null   object \n",
      " 19  Oficina                  3919 non-null   object \n",
      " 20  zona                     3919 non-null   int64  \n",
      " 21  Regional                 3919 non-null   int64  \n",
      " 22  Validación unico         247 non-null    object \n",
      " 23  Tipo analisis            2397 non-null   object \n",
      " 24  Clasificac analisis      2397 non-null   object \n",
      " 25  Estado                   2786 non-null   object \n",
      " 26  Año                      3919 non-null   int64  \n",
      " 27  Tipo                     2786 non-null   object \n",
      "dtypes: float64(1), int64(6), object(21)\n",
      "memory usage: 857.4+ KB\n"
     ]
    }
   ],
   "source": [
    "df_base.info()"
   ]
  },
  {
   "cell_type": "markdown",
   "metadata": {},
   "source": [
    "--> In this context, isnt necessary to use columns like \"Num\" & \"ID_modif\" because they are not relevant for the analysis. So, we **will eliminate it**.\n"
   ]
  },
  {
   "cell_type": "code",
   "execution_count": 600,
   "metadata": {},
   "outputs": [],
   "source": [
    "df_base = df_base.drop(columns=[\"Num\", \"ID_modif\"])"
   ]
  },
  {
   "cell_type": "markdown",
   "metadata": {},
   "source": [
    "## Cliente"
   ]
  },
  {
   "cell_type": "code",
   "execution_count": 601,
   "metadata": {},
   "outputs": [
    {
     "name": "stdout",
     "output_type": "stream",
     "text": [
      "Number of different clients: 3459\n",
      "Number of clients with more than one record: 229\n",
      "\n",
      "Clients with more than one record:\n"
     ]
    },
    {
     "data": {
      "text/plain": [
       "Jose Manuel Arroyo Benavides     7\n",
       "Hector Angel Ochoa Caballero     6\n",
       "Fidel Antonio Carranza Garcia    6\n",
       "Enith  Garcia Vanegas            6\n",
       "Maria Eugenia Velasco Causaya    6\n",
       "                                ..\n",
       "Daniel Andres Barrero Sabogal    2\n",
       "Mireya  Solis Otero              2\n",
       "Silvia  Canga Mosquera           2\n",
       "Tomas Albeiro Zabaleta Serpa     2\n",
       "Yurani Katerine Lozano Perez     2\n",
       "Name: Cliente, Length: 229, dtype: int64"
      ]
     },
     "execution_count": 601,
     "metadata": {},
     "output_type": "execute_result"
    }
   ],
   "source": [
    "num_dif = df_base.Cliente.nunique()\n",
    "print(f'Number of different clients: {num_dif}')\n",
    "\n",
    "temp = df_base.Cliente.value_counts()\n",
    "temp = temp[temp > 1]\n",
    "print(f'Number of clients with more than one record: {len(temp)}')\n",
    "print(f'\\nClients with more than one record:')\n",
    "temp"
   ]
  },
  {
   "cell_type": "code",
   "execution_count": 602,
   "metadata": {},
   "outputs": [
    {
     "name": "stdout",
     "output_type": "stream",
     "text": [
      "Example of one client with more than one record:\n",
      "\n"
     ]
    },
    {
     "data": {
      "text/html": [
       "<div>\n",
       "<style scoped>\n",
       "    .dataframe tbody tr th:only-of-type {\n",
       "        vertical-align: middle;\n",
       "    }\n",
       "\n",
       "    .dataframe tbody tr th {\n",
       "        vertical-align: top;\n",
       "    }\n",
       "\n",
       "    .dataframe thead th {\n",
       "        text-align: right;\n",
       "    }\n",
       "</style>\n",
       "<table border=\"1\" class=\"dataframe\">\n",
       "  <thead>\n",
       "    <tr style=\"text-align: right;\">\n",
       "      <th></th>\n",
       "      <th>Cliente</th>\n",
       "      <th>Analista</th>\n",
       "      <th>Nombre analista</th>\n",
       "      <th>Tipo crédito</th>\n",
       "      <th>Fecha desem</th>\n",
       "      <th>Visita_analista_crédito</th>\n",
       "      <th>Visita_auditor</th>\n",
       "      <th>Actividad</th>\n",
       "      <th>Monto</th>\n",
       "      <th>Cuota</th>\n",
       "      <th>Plazo</th>\n",
       "      <th>Categoria</th>\n",
       "      <th>Hallazgo</th>\n",
       "      <th>Tipo hallazgo</th>\n",
       "      <th>Riesgo</th>\n",
       "      <th>Calificación cartera</th>\n",
       "      <th>Relaciones Laborales</th>\n",
       "      <th>Oficina</th>\n",
       "      <th>zona</th>\n",
       "      <th>Regional</th>\n",
       "      <th>Validación unico</th>\n",
       "      <th>Tipo analisis</th>\n",
       "      <th>Clasificac analisis</th>\n",
       "      <th>Estado</th>\n",
       "      <th>Año</th>\n",
       "      <th>Tipo</th>\n",
       "    </tr>\n",
       "  </thead>\n",
       "  <tbody>\n",
       "    <tr>\n",
       "      <th>3471</th>\n",
       "      <td>Nelly  Munoz Vivas</td>\n",
       "      <td>ROO</td>\n",
       "      <td>Robinson Ocoro Centeno</td>\n",
       "      <td>Preferenci</td>\n",
       "      <td>2024-04-15 00:00:00</td>\n",
       "      <td>2024-04-15 00:00:00</td>\n",
       "      <td>NaN</td>\n",
       "      <td>arrendamientos</td>\n",
       "      <td>5254.384</td>\n",
       "      <td>335.892</td>\n",
       "      <td>36</td>\n",
       "      <td>Otras_Políticas</td>\n",
       "      <td>Formato de vinculación con campos en blanco y/...</td>\n",
       "      <td>Incumple\\n P &amp; P</td>\n",
       "      <td>2 - Medio</td>\n",
       "      <td>No</td>\n",
       "      <td>No</td>\n",
       "      <td>Palmira</td>\n",
       "      <td>3</td>\n",
       "      <td>1</td>\n",
       "      <td>NaN</td>\n",
       "      <td>Análisis de carácter</td>\n",
       "      <td>Políticas</td>\n",
       "      <td>NaN</td>\n",
       "      <td>2024</td>\n",
       "      <td>NaN</td>\n",
       "    </tr>\n",
       "    <tr>\n",
       "      <th>3472</th>\n",
       "      <td>Nelly  Munoz Vivas</td>\n",
       "      <td>ROO</td>\n",
       "      <td>Robinson Ocoro Centeno</td>\n",
       "      <td>Preferenci</td>\n",
       "      <td>2024-04-15 00:00:00</td>\n",
       "      <td>2024-04-15 00:00:00</td>\n",
       "      <td>NaN</td>\n",
       "      <td>arrendamientos</td>\n",
       "      <td>5254.384</td>\n",
       "      <td>335.892</td>\n",
       "      <td>36</td>\n",
       "      <td>Otras_Políticas</td>\n",
       "      <td>Formato de autorización de consulta parcialmen...</td>\n",
       "      <td>Incumple\\n P &amp; P</td>\n",
       "      <td>2 - Medio</td>\n",
       "      <td>No</td>\n",
       "      <td>No</td>\n",
       "      <td>Palmira</td>\n",
       "      <td>3</td>\n",
       "      <td>1</td>\n",
       "      <td>NaN</td>\n",
       "      <td>Análisis de carácter</td>\n",
       "      <td>Políticas</td>\n",
       "      <td>NaN</td>\n",
       "      <td>2024</td>\n",
       "      <td>NaN</td>\n",
       "    </tr>\n",
       "    <tr>\n",
       "      <th>3624</th>\n",
       "      <td>Nelly  Munoz Vivas</td>\n",
       "      <td>ROO</td>\n",
       "      <td>Robinson Ocoro Centeno</td>\n",
       "      <td>Preferenci</td>\n",
       "      <td>2024-04-15 00:00:00</td>\n",
       "      <td>2024-04-15 00:00:00</td>\n",
       "      <td>2024-05-17 10:09:54.230000</td>\n",
       "      <td>arrendamientos</td>\n",
       "      <td>5254.384</td>\n",
       "      <td>335.892</td>\n",
       "      <td>36</td>\n",
       "      <td>Controles_Administrativos_de_Agencia</td>\n",
       "      <td>Deficiencias en el análisis de comité de crédito</td>\n",
       "      <td>Incumple\\n P &amp; P</td>\n",
       "      <td>2 - Medio</td>\n",
       "      <td>No</td>\n",
       "      <td>No</td>\n",
       "      <td>Palmira</td>\n",
       "      <td>3</td>\n",
       "      <td>1</td>\n",
       "      <td>NaN</td>\n",
       "      <td>Análisis de carácter</td>\n",
       "      <td>Control</td>\n",
       "      <td>NaN</td>\n",
       "      <td>2024</td>\n",
       "      <td>NaN</td>\n",
       "    </tr>\n",
       "  </tbody>\n",
       "</table>\n",
       "</div>"
      ],
      "text/plain": [
       "                 Cliente Analista         Nombre analista Tipo crédito  \\\n",
       "3471  Nelly  Munoz Vivas      ROO  Robinson Ocoro Centeno   Preferenci   \n",
       "3472  Nelly  Munoz Vivas      ROO  Robinson Ocoro Centeno   Preferenci   \n",
       "3624  Nelly  Munoz Vivas      ROO  Robinson Ocoro Centeno   Preferenci   \n",
       "\n",
       "              Fecha desem Visita_analista_crédito              Visita_auditor  \\\n",
       "3471  2024-04-15 00:00:00     2024-04-15 00:00:00                         NaN   \n",
       "3472  2024-04-15 00:00:00     2024-04-15 00:00:00                         NaN   \n",
       "3624  2024-04-15 00:00:00     2024-04-15 00:00:00  2024-05-17 10:09:54.230000   \n",
       "\n",
       "           Actividad     Monto    Cuota  Plazo  \\\n",
       "3471  arrendamientos  5254.384  335.892     36   \n",
       "3472  arrendamientos  5254.384  335.892     36   \n",
       "3624  arrendamientos  5254.384  335.892     36   \n",
       "\n",
       "                                 Categoria  \\\n",
       "3471                       Otras_Políticas   \n",
       "3472                       Otras_Políticas   \n",
       "3624  Controles_Administrativos_de_Agencia   \n",
       "\n",
       "                                               Hallazgo     Tipo hallazgo  \\\n",
       "3471  Formato de vinculación con campos en blanco y/...  Incumple\\n P & P   \n",
       "3472  Formato de autorización de consulta parcialmen...  Incumple\\n P & P   \n",
       "3624   Deficiencias en el análisis de comité de crédito  Incumple\\n P & P   \n",
       "\n",
       "         Riesgo Calificación cartera Relaciones Laborales Oficina   zona   \\\n",
       "3471  2 - Medio                   No                   No  Palmira      3   \n",
       "3472  2 - Medio                   No                   No  Palmira      3   \n",
       "3624  2 - Medio                   No                   No  Palmira      3   \n",
       "\n",
       "      Regional Validación unico        Tipo analisis  Clasificac analisis  \\\n",
       "3471         1              NaN  Análisis de carácter           Políticas   \n",
       "3472         1              NaN  Análisis de carácter           Políticas   \n",
       "3624         1              NaN  Análisis de carácter             Control   \n",
       "\n",
       "     Estado   Año Tipo  \n",
       "3471    NaN  2024  NaN  \n",
       "3472    NaN  2024  NaN  \n",
       "3624    NaN  2024  NaN  "
      ]
     },
     "execution_count": 602,
     "metadata": {},
     "output_type": "execute_result"
    }
   ],
   "source": [
    "print(\"Example of one client with more than one record:\\n\")\n",
    "df_base[df_base[\"Cliente\"]== \"Nelly  Munoz Vivas\"]"
   ]
  },
  {
   "cell_type": "markdown",
   "metadata": {},
   "source": [
    "--> With the above, we can see that each observation is a different audit analysis or **audit finding**, even for the same client/account."
   ]
  },
  {
   "cell_type": "code",
   "execution_count": 603,
   "metadata": {},
   "outputs": [
    {
     "data": {
      "text/plain": [
       "309       Carlos Alberto Cardona Ramirez\n",
       "1514               Farida  Franco Valero\n",
       "2152    Yecid Javier Gallardo Villalobos\n",
       "408        Yesica Milena Londono Vallejo\n",
       "385            Edilson  Cardona Betancur\n",
       "3753        Carolina  Santacruz Sandoval\n",
       "3213       Leydi Johanna Vargas Gonzalez\n",
       "3623       Monica Lizeth Valencia Cuaran\n",
       "432               Yorleny  Gomez Escobar\n",
       "1376           Teodolinda  Araque Araque\n",
       "Name: Cliente, dtype: object"
      ]
     },
     "execution_count": 603,
     "metadata": {},
     "output_type": "execute_result"
    }
   ],
   "source": [
    "df_base.Cliente.sample(10)"
   ]
  },
  {
   "cell_type": "code",
   "execution_count": 604,
   "metadata": {},
   "outputs": [],
   "source": [
    "# df_base[df_base[\"Cliente\"].str.contains(\"Simon Jose\", na=False)]"
   ]
  },
  {
   "cell_type": "markdown",
   "metadata": {},
   "source": [
    "--> After some explorations, we will assume that the client column doesnt have typos or gramatical errors, that affects in someway the data\n",
    "\n"
   ]
  },
  {
   "cell_type": "markdown",
   "metadata": {},
   "source": [
    "**CONCLUSIONS** \n",
    "\n",
    "\n",
    "Taking in consideration the possible uses or goals for this project, we will take this considerations:\n",
    "1. **This column isnt useful for predictions/inference of an anomaly detection or clasification model, but we will keep it only for reference and EDA**.\n",
    "2. **The clients-credit in the dataset should be unique, so we will eliminate the duplicated observations for the same Client-credit combination**. We take in consideration the possibility of a same client to have more than one credit in different moments."
   ]
  },
  {
   "cell_type": "code",
   "execution_count": 605,
   "metadata": {},
   "outputs": [],
   "source": [
    "df_base = df_base.drop_duplicates(subset=[\"Cliente\",\"Fecha desem\", \"Monto\", \"Cuota\", \"Plazo\"]) #To have only one observation per client-credit\n",
    "\n",
    "# rename Cliente column to avoid capital letters\n",
    "df_base.rename(columns={\"Cliente\":\"cliente\"}, inplace=True)"
   ]
  },
  {
   "cell_type": "code",
   "execution_count": 606,
   "metadata": {},
   "outputs": [
    {
     "data": {
      "text/plain": [
       "(3461, 26)"
      ]
     },
     "execution_count": 606,
     "metadata": {},
     "output_type": "execute_result"
    }
   ],
   "source": [
    "df_base.shape"
   ]
  },
  {
   "cell_type": "markdown",
   "metadata": {},
   "source": [
    "## Analista & Nombre analista"
   ]
  },
  {
   "cell_type": "code",
   "execution_count": 607,
   "metadata": {},
   "outputs": [
    {
     "name": "stdout",
     "output_type": "stream",
     "text": [
      "Number of different analyst: 399\n",
      "Number of analyst with more than one record: 382\n",
      "\n",
      "Analysts with more than one record:\n"
     ]
    },
    {
     "data": {
      "text/plain": [
       "GEE    44\n",
       "IOC    43\n",
       "FPN    34\n",
       "IMJ    31\n",
       "CNZ    29\n",
       "       ..\n",
       "MTM     2\n",
       "KGW     2\n",
       "FTM     2\n",
       "LVL     2\n",
       "CRA     2\n",
       "Name: Analista, Length: 382, dtype: int64"
      ]
     },
     "execution_count": 607,
     "metadata": {},
     "output_type": "execute_result"
    }
   ],
   "source": [
    "num_dif = df_base.Analista.nunique()\n",
    "print(f'Number of different analyst: {num_dif}')\n",
    "\n",
    "temp = df_base.Analista.value_counts()\n",
    "temp = temp[temp > 1]\n",
    "print(f'Number of analyst with more than one record: {len(temp)}')\n",
    "print(f'\\nAnalysts with more than one record:')\n",
    "temp"
   ]
  },
  {
   "cell_type": "code",
   "execution_count": 608,
   "metadata": {},
   "outputs": [
    {
     "data": {
      "text/plain": [
       "2637    HBM\n",
       "1661    ICZ\n",
       "409     FUN\n",
       "534     EHW\n",
       "3702    LNK\n",
       "Name: Analista, dtype: object"
      ]
     },
     "execution_count": 608,
     "metadata": {},
     "output_type": "execute_result"
    }
   ],
   "source": [
    "df_base.Analista.sample(5)"
   ]
  },
  {
   "cell_type": "code",
   "execution_count": 609,
   "metadata": {},
   "outputs": [
    {
     "data": {
      "text/plain": [
       "3    3461\n",
       "Name: Analista, dtype: int64"
      ]
     },
     "execution_count": 609,
     "metadata": {},
     "output_type": "execute_result"
    }
   ],
   "source": [
    "df_base.Analista.apply(lambda x: len(x)).value_counts()"
   ]
  },
  {
   "cell_type": "markdown",
   "metadata": {},
   "source": [
    "--> All the analyst codes have 3 letters."
   ]
  },
  {
   "cell_type": "code",
   "execution_count": 610,
   "metadata": {},
   "outputs": [
    {
     "name": "stdout",
     "output_type": "stream",
     "text": [
      "Number of different analyst\"s name: 399\n",
      "Number of analyst\"s name with more than one record: 379\n",
      "\n",
      "Analysts with more than one record:\n"
     ]
    },
    {
     "data": {
      "text/plain": [
       "Aleatorio                         94\n",
       "Gilberto Duque Duque              44\n",
       "Nicolas  Suaza Pulgarin           43\n",
       "Lindy Yureidy Areiza Osorio       34\n",
       "Esmeralda  Guayara Medina         31\n",
       "                                  ..\n",
       "Silvia Yeraldine Mejia Rumbo       2\n",
       "Marcela Paola Solano Fernandez     2\n",
       "Mayerly Ducuara Viuche             2\n",
       "Ruben Alejandro Vivas Gaspar       2\n",
       "Juan Camilo Segura Palma           2\n",
       "Name: Nombre analista, Length: 379, dtype: int64"
      ]
     },
     "execution_count": 610,
     "metadata": {},
     "output_type": "execute_result"
    }
   ],
   "source": [
    "num_dif = df_base[\"Nombre analista\"].nunique()\n",
    "print(f'Number of different analyst\"s name: {num_dif}')\n",
    "\n",
    "temp = df_base[\"Nombre analista\"].value_counts()\n",
    "temp = temp[temp > 1]\n",
    "print(f'Number of analyst\"s name with more than one record: {len(temp)}')\n",
    "print(f\"\\nAnalysts with more than one record:\")\n",
    "temp"
   ]
  },
  {
   "cell_type": "markdown",
   "metadata": {},
   "source": [
    "**CONCLUSIONS**\n",
    "\n",
    "1. **Both columns isnt valuable for our analysis nor modelling phase, but we will keep the analyst code for reference. For that reason, we will eliminate the analyst name.**\n",
    "2. **We will rename the column Analista**."
   ]
  },
  {
   "cell_type": "code",
   "execution_count": 611,
   "metadata": {},
   "outputs": [],
   "source": [
    "df_base = df_base.drop(columns=[\"Nombre analista\"])\n",
    "\n",
    "#rename analista column to avoid capital letters\n",
    "df_base = df_base.rename(columns={\"Analista\": \"analista\"})"
   ]
  },
  {
   "cell_type": "markdown",
   "metadata": {},
   "source": [
    "## Tipo crédito"
   ]
  },
  {
   "cell_type": "code",
   "execution_count": 612,
   "metadata": {},
   "outputs": [
    {
     "name": "stdout",
     "output_type": "stream",
     "text": [
      "Number of different credit types: 5\n",
      "Number of nan values: 202\n",
      "\n",
      "Credit types with more than one record:\n"
     ]
    },
    {
     "data": {
      "text/plain": [
       "Nuevo           1385\n",
       "Renovacion       816\n",
       "Preferenci       469\n",
       "Preferencial     321\n",
       "Renovación       268\n",
       "Name: Tipo crédito, dtype: int64"
      ]
     },
     "execution_count": 612,
     "metadata": {},
     "output_type": "execute_result"
    }
   ],
   "source": [
    "num_dif = df_base[\"Tipo crédito\"].nunique()\n",
    "print(f'Number of different credit types: {num_dif}')\n",
    "print(f'Number of nan values: {df_base[\"Tipo crédito\"].isna().sum()}')\n",
    "\n",
    "temp = df_base[\"Tipo crédito\"].value_counts()\n",
    "print(f\"\\nCredit types with more than one record:\")\n",
    "temp"
   ]
  },
  {
   "cell_type": "markdown",
   "metadata": {},
   "source": [
    "-- > There are a typo with the world \"Preferencial\" and \"Renovacion\". "
   ]
  },
  {
   "cell_type": "markdown",
   "metadata": {},
   "source": [
    "**CONCLUSIONS**\n",
    "\n",
    "1. **We will rename the \"Preferenci\" values as \"Preferencial\".**\n",
    "2. **We will rename the \"Renovación\" values as \"Renovacion\"**\n",
    "3. **We will rename the nan values with \"No_especificado\"**.\n",
    "4. **We will rename the column name to \"tipo_credito\"**\n",
    "5. We consider this column an important one for further analysis"
   ]
  },
  {
   "cell_type": "code",
   "execution_count": 613,
   "metadata": {},
   "outputs": [],
   "source": [
    "df_base = df_base.rename(columns={\"Tipo crédito\": \"tipo_credito\"})"
   ]
  },
  {
   "cell_type": "code",
   "execution_count": 614,
   "metadata": {},
   "outputs": [
    {
     "data": {
      "text/plain": [
       "Nuevo              1385\n",
       "Renovacion         1084\n",
       "Preferencial        790\n",
       "No_especificado     202\n",
       "Name: tipo_credito, dtype: int64"
      ]
     },
     "execution_count": 614,
     "metadata": {},
     "output_type": "execute_result"
    }
   ],
   "source": [
    "df_base[\"tipo_credito\"] = df_base[\"tipo_credito\"].fillna(\"No_especificado\")\n",
    "df_base[\"tipo_credito\"] = np.where(df_base[\"tipo_credito\"] == \"Renovación\", \"Renovacion\", df_base[\"tipo_credito\"])\n",
    "df_base[\"tipo_credito\"] = np.where(df_base[\"tipo_credito\"] == \"Preferenci\", \"Preferencial\", df_base[\"tipo_credito\"])\n",
    "df_base[\"tipo_credito\"].value_counts()"
   ]
  },
  {
   "cell_type": "markdown",
   "metadata": {},
   "source": [
    "## Fechas: de desembolso, visita analista y visita auditor"
   ]
  },
  {
   "cell_type": "code",
   "execution_count": 615,
   "metadata": {},
   "outputs": [
    {
     "data": {
      "text/plain": [
       "Fecha desem                object\n",
       "Visita_analista_crédito    object\n",
       "Visita_auditor             object\n",
       "dtype: object"
      ]
     },
     "execution_count": 615,
     "metadata": {},
     "output_type": "execute_result"
    }
   ],
   "source": [
    "df_base[[\"Fecha desem\",\"Visita_analista_crédito\",\"Visita_auditor\"]].dtypes"
   ]
  },
  {
   "cell_type": "code",
   "execution_count": 616,
   "metadata": {},
   "outputs": [
    {
     "data": {
      "text/html": [
       "<div>\n",
       "<style scoped>\n",
       "    .dataframe tbody tr th:only-of-type {\n",
       "        vertical-align: middle;\n",
       "    }\n",
       "\n",
       "    .dataframe tbody tr th {\n",
       "        vertical-align: top;\n",
       "    }\n",
       "\n",
       "    .dataframe thead th {\n",
       "        text-align: right;\n",
       "    }\n",
       "</style>\n",
       "<table border=\"1\" class=\"dataframe\">\n",
       "  <thead>\n",
       "    <tr style=\"text-align: right;\">\n",
       "      <th></th>\n",
       "      <th>Fecha desem</th>\n",
       "      <th>Visita_analista_crédito</th>\n",
       "      <th>Visita_auditor</th>\n",
       "    </tr>\n",
       "  </thead>\n",
       "  <tbody>\n",
       "    <tr>\n",
       "      <th>2431</th>\n",
       "      <td>2023-01-06 00:00:00</td>\n",
       "      <td>2023-01-02 00:00:00</td>\n",
       "      <td>2023-02-16 00:00:00</td>\n",
       "    </tr>\n",
       "    <tr>\n",
       "      <th>3342</th>\n",
       "      <td>2024-01-31 00:00:00</td>\n",
       "      <td>2024-01-30 00:00:00</td>\n",
       "      <td>2024-03-08 00:00:00</td>\n",
       "    </tr>\n",
       "    <tr>\n",
       "      <th>2107</th>\n",
       "      <td>2022-05-16 00:00:00</td>\n",
       "      <td>N/D</td>\n",
       "      <td>2023-08-16 00:00:00</td>\n",
       "    </tr>\n",
       "    <tr>\n",
       "      <th>1608</th>\n",
       "      <td>2022-06-13 00:00:00</td>\n",
       "      <td>2022-06-13 00:00:00</td>\n",
       "      <td>2023-01-13 00:00:00</td>\n",
       "    </tr>\n",
       "    <tr>\n",
       "      <th>3488</th>\n",
       "      <td>2024-03-27 00:00:00</td>\n",
       "      <td>NaN</td>\n",
       "      <td>2024-05-07 16:30:00</td>\n",
       "    </tr>\n",
       "    <tr>\n",
       "      <th>3905</th>\n",
       "      <td>2024-07-10 00:00:00</td>\n",
       "      <td>2024-07-05 00:00:00</td>\n",
       "      <td>2024-08-16 11:37:49.210000</td>\n",
       "    </tr>\n",
       "    <tr>\n",
       "      <th>968</th>\n",
       "      <td>31/03/2022</td>\n",
       "      <td>31/03/2022</td>\n",
       "      <td>00:00:00</td>\n",
       "    </tr>\n",
       "    <tr>\n",
       "      <th>2308</th>\n",
       "      <td>2023-07-22 00:00:00</td>\n",
       "      <td>2023-07-18 00:00:00</td>\n",
       "      <td>2023-07-28 08:50:00</td>\n",
       "    </tr>\n",
       "    <tr>\n",
       "      <th>1881</th>\n",
       "      <td>2023-03-30 00:00:00</td>\n",
       "      <td>2023-03-29 00:00:00</td>\n",
       "      <td>2023-05-09 00:00:00</td>\n",
       "    </tr>\n",
       "    <tr>\n",
       "      <th>3364</th>\n",
       "      <td>2024-02-29 00:00:00</td>\n",
       "      <td>2024-02-22 00:00:00</td>\n",
       "      <td>2024-03-13 00:00:00</td>\n",
       "    </tr>\n",
       "  </tbody>\n",
       "</table>\n",
       "</div>"
      ],
      "text/plain": [
       "              Fecha desem Visita_analista_crédito              Visita_auditor\n",
       "2431  2023-01-06 00:00:00     2023-01-02 00:00:00         2023-02-16 00:00:00\n",
       "3342  2024-01-31 00:00:00     2024-01-30 00:00:00         2024-03-08 00:00:00\n",
       "2107  2022-05-16 00:00:00                     N/D         2023-08-16 00:00:00\n",
       "1608  2022-06-13 00:00:00     2022-06-13 00:00:00         2023-01-13 00:00:00\n",
       "3488  2024-03-27 00:00:00                     NaN         2024-05-07 16:30:00\n",
       "3905  2024-07-10 00:00:00     2024-07-05 00:00:00  2024-08-16 11:37:49.210000\n",
       "968            31/03/2022              31/03/2022                    00:00:00\n",
       "2308  2023-07-22 00:00:00     2023-07-18 00:00:00         2023-07-28 08:50:00\n",
       "1881  2023-03-30 00:00:00     2023-03-29 00:00:00         2023-05-09 00:00:00\n",
       "3364  2024-02-29 00:00:00     2024-02-22 00:00:00         2024-03-13 00:00:00"
      ]
     },
     "execution_count": 616,
     "metadata": {},
     "output_type": "execute_result"
    }
   ],
   "source": [
    "df_base[[\"Fecha desem\",\"Visita_analista_crédito\",\"Visita_auditor\"]].sample(10, random_state=1)"
   ]
  },
  {
   "cell_type": "markdown",
   "metadata": {},
   "source": [
    "--> Above we can see at least 6 different formats that these columns have. This is an unwanted problem."
   ]
  },
  {
   "cell_type": "code",
   "execution_count": 617,
   "metadata": {},
   "outputs": [
    {
     "data": {
      "text/plain": [
       "Fecha desem                  3\n",
       "Visita_analista_crédito    753\n",
       "Visita_auditor             111\n",
       "dtype: int64"
      ]
     },
     "execution_count": 617,
     "metadata": {},
     "output_type": "execute_result"
    }
   ],
   "source": [
    "df_base[[\"Fecha desem\",\"Visita_analista_crédito\",\"Visita_auditor\"]].isna().sum()"
   ]
  },
  {
   "cell_type": "code",
   "execution_count": 618,
   "metadata": {},
   "outputs": [
    {
     "data": {
      "text/plain": [
       "(126, 25)"
      ]
     },
     "execution_count": 618,
     "metadata": {},
     "output_type": "execute_result"
    }
   ],
   "source": [
    "df_base[(df_base[\"Visita_auditor\"]==\"00:00:00\") | (df_base[\"Visita_auditor\"]==datetime.time(0, 0))].shape"
   ]
  },
  {
   "cell_type": "markdown",
   "metadata": {},
   "source": [
    "--> We can note that there are some observations with dates like \"00:00:00\""
   ]
  },
  {
   "cell_type": "markdown",
   "metadata": {},
   "source": [
    "**CONCLUSIONS**  \n",
    "  \n",
    "For further analysys or feature engineering, we can keep the columns \"Fecha desem\" and \"Visita_analista_credito\".\n",
    "\n",
    "1. **We will rename the columns to avoid capital letters and blank spaces.**\n",
    "2. **We will standarize the columns to a date format, avoiding errors and missing values**.\n",
    "3. **We will drop the observations with dates like \"00:00:00\".**\n",
    "4. **We will eliminate the auditor visit column**, because in an hipotetic modelling phase, we cant know the auditor visit in advance."
   ]
  },
  {
   "cell_type": "code",
   "execution_count": 619,
   "metadata": {},
   "outputs": [],
   "source": [
    "# rename columns\n",
    "df_base = df_base.rename(columns={\"Visita_analista_crédito\": \"visita_analista_credito\",\"Fecha desem\": \"fecha_desembolso\"})\n",
    "\n",
    "# drop observations with dates similar to 00:00:00\n",
    "df_base = df_base[(df_base[\"Visita_auditor\"]!=\"00:00:00\") | (df_base[\"Visita_auditor\"]!=datetime.time(0, 0))]\n",
    "\n",
    "# Define a function to handle different dates formats\n",
    "def convert_to_datetime(value):\n",
    "    if pd.isna(value) or value in [\"N/D\", \"00:00:00\", \"NAN\"]:  # Handle missing or invalid values\n",
    "        return pd.NaT\n",
    "    try:\n",
    "        return pd.to_datetime(value, dayfirst=True, errors='coerce')  # Convert to datetime and handle errors\n",
    "    except:\n",
    "        return pd.NaT  # Return NaT if it fails\n",
    "\n",
    "# Apply function to both columns\n",
    "df_base[\"fecha_desembolso\"] = df_base[\"fecha_desembolso\"].apply(convert_to_datetime)\n",
    "df_base[\"visita_analista_credito\"] = df_base[\"visita_analista_credito\"].apply(convert_to_datetime)\n",
    "\n",
    "# Drop column\n",
    "df_base = df_base.drop(columns=[\"Visita_auditor\"])"
   ]
  },
  {
   "cell_type": "code",
   "execution_count": 620,
   "metadata": {},
   "outputs": [
    {
     "data": {
      "text/plain": [
       "fecha_desembolso             4\n",
       "visita_analista_credito    901\n",
       "dtype: int64"
      ]
     },
     "execution_count": 620,
     "metadata": {},
     "output_type": "execute_result"
    }
   ],
   "source": [
    "df_base[[\"fecha_desembolso\",\"visita_analista_credito\"]].isna().sum()"
   ]
  },
  {
   "cell_type": "code",
   "execution_count": 621,
   "metadata": {},
   "outputs": [
    {
     "data": {
      "text/plain": [
       "fecha_desembolso           datetime64[ns]\n",
       "visita_analista_credito    datetime64[ns]\n",
       "dtype: object"
      ]
     },
     "execution_count": 621,
     "metadata": {},
     "output_type": "execute_result"
    }
   ],
   "source": [
    "df_base[[\"fecha_desembolso\",\"visita_analista_credito\"]].dtypes"
   ]
  },
  {
   "cell_type": "code",
   "execution_count": 622,
   "metadata": {},
   "outputs": [
    {
     "data": {
      "text/html": [
       "<div>\n",
       "<style scoped>\n",
       "    .dataframe tbody tr th:only-of-type {\n",
       "        vertical-align: middle;\n",
       "    }\n",
       "\n",
       "    .dataframe tbody tr th {\n",
       "        vertical-align: top;\n",
       "    }\n",
       "\n",
       "    .dataframe thead th {\n",
       "        text-align: right;\n",
       "    }\n",
       "</style>\n",
       "<table border=\"1\" class=\"dataframe\">\n",
       "  <thead>\n",
       "    <tr style=\"text-align: right;\">\n",
       "      <th></th>\n",
       "      <th>fecha_desembolso</th>\n",
       "      <th>visita_analista_credito</th>\n",
       "    </tr>\n",
       "  </thead>\n",
       "  <tbody>\n",
       "    <tr>\n",
       "      <th>2431</th>\n",
       "      <td>2023-01-06</td>\n",
       "      <td>2023-01-02</td>\n",
       "    </tr>\n",
       "    <tr>\n",
       "      <th>3342</th>\n",
       "      <td>2024-01-31</td>\n",
       "      <td>2024-01-30</td>\n",
       "    </tr>\n",
       "    <tr>\n",
       "      <th>2107</th>\n",
       "      <td>2022-05-16</td>\n",
       "      <td>NaT</td>\n",
       "    </tr>\n",
       "    <tr>\n",
       "      <th>1608</th>\n",
       "      <td>2022-06-13</td>\n",
       "      <td>2022-06-13</td>\n",
       "    </tr>\n",
       "    <tr>\n",
       "      <th>3488</th>\n",
       "      <td>2024-03-27</td>\n",
       "      <td>NaT</td>\n",
       "    </tr>\n",
       "    <tr>\n",
       "      <th>3905</th>\n",
       "      <td>2024-07-10</td>\n",
       "      <td>2024-07-05</td>\n",
       "    </tr>\n",
       "    <tr>\n",
       "      <th>968</th>\n",
       "      <td>2022-03-31</td>\n",
       "      <td>2022-03-31</td>\n",
       "    </tr>\n",
       "    <tr>\n",
       "      <th>2308</th>\n",
       "      <td>2023-07-22</td>\n",
       "      <td>2023-07-18</td>\n",
       "    </tr>\n",
       "    <tr>\n",
       "      <th>1881</th>\n",
       "      <td>2023-03-30</td>\n",
       "      <td>2023-03-29</td>\n",
       "    </tr>\n",
       "    <tr>\n",
       "      <th>3364</th>\n",
       "      <td>2024-02-29</td>\n",
       "      <td>2024-02-22</td>\n",
       "    </tr>\n",
       "  </tbody>\n",
       "</table>\n",
       "</div>"
      ],
      "text/plain": [
       "     fecha_desembolso visita_analista_credito\n",
       "2431       2023-01-06              2023-01-02\n",
       "3342       2024-01-31              2024-01-30\n",
       "2107       2022-05-16                     NaT\n",
       "1608       2022-06-13              2022-06-13\n",
       "3488       2024-03-27                     NaT\n",
       "3905       2024-07-10              2024-07-05\n",
       "968        2022-03-31              2022-03-31\n",
       "2308       2023-07-22              2023-07-18\n",
       "1881       2023-03-30              2023-03-29\n",
       "3364       2024-02-29              2024-02-22"
      ]
     },
     "execution_count": 622,
     "metadata": {},
     "output_type": "execute_result"
    }
   ],
   "source": [
    "df_base[[\"fecha_desembolso\",\"visita_analista_credito\"]].sample(10, random_state=1)"
   ]
  },
  {
   "cell_type": "markdown",
   "metadata": {},
   "source": [
    "## Actividad"
   ]
  },
  {
   "cell_type": "code",
   "execution_count": 623,
   "metadata": {},
   "outputs": [
    {
     "name": "stdout",
     "output_type": "stream",
     "text": [
      "Number of different activities values: 2364\n",
      "Number of nan values: 52\n",
      "\n",
      "Activities with more than one record:\n"
     ]
    },
    {
     "data": {
      "text/plain": [
       "venta de mercancia    57\n",
       "tienda                53\n",
       "arriendos             48\n",
       "venta de comidas      29\n",
       "maestro de obra       24\n",
       "venta de ropa         21\n",
       "Venta De Mercancia    20\n",
       "arrendamientos        18\n",
       "confeccion            17\n",
       "construccion          14\n",
       "venta de leche        14\n",
       "venta de comida       14\n",
       "confecciones          14\n",
       "Tienda                13\n",
       "venta de bebidas      13\n",
       "Name: Actividad, dtype: int64"
      ]
     },
     "execution_count": 623,
     "metadata": {},
     "output_type": "execute_result"
    }
   ],
   "source": [
    "num_dif = df_base[\"Actividad\"].nunique()\n",
    "print(f'Number of different activities values: {num_dif}')\n",
    "print(f'Number of nan values: {df_base[\"Actividad\"].isna().sum()}')\n",
    "\n",
    "temp = df_base[\"Actividad\"].value_counts()\n",
    "print(f\"\\nActivities with more than one record:\")\n",
    "temp[0:15]"
   ]
  },
  {
   "cell_type": "code",
   "execution_count": 624,
   "metadata": {},
   "outputs": [
    {
     "data": {
      "text/plain": [
       "venta de fritos                             6\n",
       "peluquer?a marisol                          1\n",
       "cl?nica de ropa gladys                      1\n",
       "arriendos viviendas                         1\n",
       "venta de tenis                              1\n",
       "distribuidora mariajo embutidos             1\n",
       "venta de calzado deportivo y ropa           1\n",
       "mini market carzay                          1\n",
       "venta mercancias y revistas por catalogo    1\n",
       "cultio de fresa                             1\n",
       "Name: Actividad, dtype: int64"
      ]
     },
     "execution_count": 624,
     "metadata": {},
     "output_type": "execute_result"
    }
   ],
   "source": [
    "temp.sample(10, random_state=10)"
   ]
  },
  {
   "cell_type": "markdown",
   "metadata": {},
   "source": [
    "--> We can see a lot of different activities, but also we can see that there are some values that are referring to the same, for example \"Tienda\" and \"tienda\".\n",
    "\n",
    "--> Several activities have typos and errors. This could difficult the analysis or next phases."
   ]
  },
  {
   "cell_type": "markdown",
   "metadata": {},
   "source": [
    "**CONCLUSIONS**  \n",
    "\n",
    "The activity variable could be very important for any EDA or modelling, but it has a lot of values, errors and should be very difficult to fix.  \n",
    "Despite that, we will try to fix the Activity column in order to gather some information in next steps.  \n",
    "\n",
    "1. **We will rename the variable column.**\n",
    "2. **We will run some fixes and considerations to the Activity column**.\n",
    "3. **and we will create a new Activity_v2 column to not drop the original one.**"
   ]
  },
  {
   "cell_type": "code",
   "execution_count": 625,
   "metadata": {},
   "outputs": [],
   "source": [
    "# Function to clean Activity values\n",
    "def clean_occupation(value):\n",
    "    if pd.isna(value):  # Handle missing values\n",
    "        return \"no_especificado\"\n",
    "    value = value.strip()  # Remove spaces at the beginning and end\n",
    "    value = unidecode(value)  # Remove accents\n",
    "    value = value.lower()  # Convert to lowercase\n",
    "    value = value.replace(\" \", \"_\")  # Replace spaces with underscores\n",
    "    return value\n",
    "\n",
    "# Apply function to the column\n",
    "df_base[\"Actividad\"] = df_base[\"Actividad\"].apply(clean_occupation)\n",
    "\n",
    "# rename column\n",
    "df_base = df_base.rename(columns={\"Actividad\": \"actividad\"})"
   ]
  },
  {
   "cell_type": "markdown",
   "metadata": {},
   "source": [
    "## Monto, cuota & plazo"
   ]
  },
  {
   "cell_type": "code",
   "execution_count": 626,
   "metadata": {},
   "outputs": [
    {
     "data": {
      "text/plain": [
       "Monto    float64\n",
       "Cuota     object\n",
       "Plazo      int64\n",
       "dtype: object"
      ]
     },
     "execution_count": 626,
     "metadata": {},
     "output_type": "execute_result"
    }
   ],
   "source": [
    "df_base[[\"Monto\",\"Cuota\",\"Plazo\"]].dtypes"
   ]
  },
  {
   "cell_type": "code",
   "execution_count": 627,
   "metadata": {},
   "outputs": [
    {
     "data": {
      "text/plain": [
       "Monto    0\n",
       "Cuota    0\n",
       "Plazo    0\n",
       "dtype: int64"
      ]
     },
     "execution_count": 627,
     "metadata": {},
     "output_type": "execute_result"
    }
   ],
   "source": [
    "df_base[[\"Monto\",\"Cuota\",\"Plazo\"]].isna().sum()"
   ]
  },
  {
   "cell_type": "code",
   "execution_count": 628,
   "metadata": {},
   "outputs": [
    {
     "data": {
      "text/plain": [
       "(12, 24)"
      ]
     },
     "execution_count": 628,
     "metadata": {},
     "output_type": "execute_result"
    }
   ],
   "source": [
    "df_base[(df_base[\"Cuota\"]==0) | (df_base[\"Plazo\"]==0) | (df_base[\"Monto\"]==0)].shape"
   ]
  },
  {
   "cell_type": "markdown",
   "metadata": {},
   "source": [
    "--> We note that the \"Cuota\" variable is an object, also there isnt nan values.  \n",
    "\n",
    "--> We also note that there are some observations with zero"
   ]
  },
  {
   "cell_type": "code",
   "execution_count": 629,
   "metadata": {},
   "outputs": [
    {
     "data": {
      "text/html": [
       "<div>\n",
       "<style scoped>\n",
       "    .dataframe tbody tr th:only-of-type {\n",
       "        vertical-align: middle;\n",
       "    }\n",
       "\n",
       "    .dataframe tbody tr th {\n",
       "        vertical-align: top;\n",
       "    }\n",
       "\n",
       "    .dataframe thead th {\n",
       "        text-align: right;\n",
       "    }\n",
       "</style>\n",
       "<table border=\"1\" class=\"dataframe\">\n",
       "  <thead>\n",
       "    <tr style=\"text-align: right;\">\n",
       "      <th></th>\n",
       "      <th>Monto</th>\n",
       "      <th>Cuota</th>\n",
       "      <th>Plazo</th>\n",
       "    </tr>\n",
       "  </thead>\n",
       "  <tbody>\n",
       "    <tr>\n",
       "      <th>0</th>\n",
       "      <td>15069.268</td>\n",
       "      <td>792.642</td>\n",
       "      <td>36</td>\n",
       "    </tr>\n",
       "    <tr>\n",
       "      <th>1</th>\n",
       "      <td>402.000</td>\n",
       "      <td>209.228</td>\n",
       "      <td>626</td>\n",
       "    </tr>\n",
       "    <tr>\n",
       "      <th>2</th>\n",
       "      <td>1433.360</td>\n",
       "      <td>178.915</td>\n",
       "      <td>15</td>\n",
       "    </tr>\n",
       "    <tr>\n",
       "      <th>3</th>\n",
       "      <td>19213.296</td>\n",
       "      <td>991.582</td>\n",
       "      <td>42</td>\n",
       "    </tr>\n",
       "    <tr>\n",
       "      <th>4</th>\n",
       "      <td>1055.378</td>\n",
       "      <td>205.648</td>\n",
       "      <td>6</td>\n",
       "    </tr>\n",
       "  </tbody>\n",
       "</table>\n",
       "</div>"
      ],
      "text/plain": [
       "       Monto    Cuota  Plazo\n",
       "0  15069.268  792.642     36\n",
       "1    402.000  209.228    626\n",
       "2   1433.360  178.915     15\n",
       "3  19213.296  991.582     42\n",
       "4   1055.378  205.648      6"
      ]
     },
     "execution_count": 629,
     "metadata": {},
     "output_type": "execute_result"
    }
   ],
   "source": [
    "df_base[[\"Monto\",\"Cuota\",\"Plazo\"]].iloc[0:5]"
   ]
  },
  {
   "cell_type": "markdown",
   "metadata": {},
   "source": [
    "--> We note that the values of Monto & Cuota are divided by 1000"
   ]
  },
  {
   "cell_type": "markdown",
   "metadata": {},
   "source": [
    "**CONCLUSIONS**\n",
    "\n",
    "1. We will modify the column names to avoid capital letters.\n",
    "2. **We will cast the Cuota column to float.** To do this, it is necessary to \"clean\" this column before cast it.\n",
    "3. **We will multiply the Monto & Cuota by 1000.**\n",
    "4. **We will drop the observations with a zero value in any of the three columns.**"
   ]
  },
  {
   "cell_type": "code",
   "execution_count": 630,
   "metadata": {},
   "outputs": [],
   "source": [
    "# rename columns\n",
    "df_base = df_base.rename(columns={\"Monto\": \"monto\", \"Cuota\": \"cuota\", \"Plazo\": \"plazo\"})\n",
    "\n",
    "# eliminate characters that are not numbers in Cuota\n",
    "df_base[\"cuota\"] = df_base[\"cuota\"].astype(str).str.replace(r'[^0-9.]', '', regex=True)\n",
    "\n",
    "# turn empty strings into 0\n",
    "df_base[\"cuota\"] = np.where(df_base[\"cuota\"] == \"\", \"0\", df_base[\"cuota\"])\n",
    "\n",
    "# convert to float\n",
    "df_base[\"cuota\"] = pd.to_numeric(df_base[\"cuota\"], errors='coerce')\n",
    "\n",
    "# multiply by 1000 to convert to thousands\n",
    "df_base[\"cuota\"] = round(df_base[\"cuota\"] * 1000)\n",
    "df_base[\"monto\"] = round(df_base[\"monto\"] * 1000)\n",
    "\n",
    "# drop the observations with a zero value in any of the three columns.\n",
    "df_base = df_base[(df_base[\"cuota\"] != 0) & (df_base[\"plazo\"] != 0) & (df_base[\"monto\"] != 0)]"
   ]
  },
  {
   "cell_type": "code",
   "execution_count": 631,
   "metadata": {},
   "outputs": [
    {
     "name": "stdout",
     "output_type": "stream",
     "text": [
      "        monto     cuota  plazo\n",
      "0  15069268.0  792642.0     36\n",
      "1    402000.0  209228.0    626\n"
     ]
    },
    {
     "data": {
      "text/plain": [
       "monto    float64\n",
       "cuota    float64\n",
       "plazo      int64\n",
       "dtype: object"
      ]
     },
     "execution_count": 631,
     "metadata": {},
     "output_type": "execute_result"
    }
   ],
   "source": [
    "print(df_base[[\"monto\",\"cuota\",\"plazo\"]].iloc[0:2])\n",
    "\n",
    "df_base[[\"monto\",\"cuota\",\"plazo\"]].dtypes\n"
   ]
  },
  {
   "cell_type": "markdown",
   "metadata": {},
   "source": [
    "## Categoria, hallazgo, tipo hallazgo, Riesgo"
   ]
  },
  {
   "cell_type": "code",
   "execution_count": 632,
   "metadata": {},
   "outputs": [
    {
     "data": {
      "text/plain": [
       "Categoria        object\n",
       "Hallazgo         object\n",
       "Tipo hallazgo    object\n",
       "Riesgo           object\n",
       "dtype: object"
      ]
     },
     "execution_count": 632,
     "metadata": {},
     "output_type": "execute_result"
    }
   ],
   "source": [
    "df_base[[\"Categoria\",\"Hallazgo\",\"Tipo hallazgo\", \"Riesgo\"]].dtypes"
   ]
  },
  {
   "cell_type": "code",
   "execution_count": 633,
   "metadata": {},
   "outputs": [
    {
     "data": {
      "text/plain": [
       "Categoria        0\n",
       "Hallazgo         2\n",
       "Tipo hallazgo    1\n",
       "Riesgo           4\n",
       "dtype: int64"
      ]
     },
     "execution_count": 633,
     "metadata": {},
     "output_type": "execute_result"
    }
   ],
   "source": [
    "df_base[[\"Categoria\",\"Hallazgo\",\"Tipo hallazgo\", \"Riesgo\"]].isna().sum()"
   ]
  },
  {
   "cell_type": "code",
   "execution_count": 634,
   "metadata": {},
   "outputs": [
    {
     "data": {
      "text/html": [
       "<div>\n",
       "<style scoped>\n",
       "    .dataframe tbody tr th:only-of-type {\n",
       "        vertical-align: middle;\n",
       "    }\n",
       "\n",
       "    .dataframe tbody tr th {\n",
       "        vertical-align: top;\n",
       "    }\n",
       "\n",
       "    .dataframe thead th {\n",
       "        text-align: right;\n",
       "    }\n",
       "</style>\n",
       "<table border=\"1\" class=\"dataframe\">\n",
       "  <thead>\n",
       "    <tr style=\"text-align: right;\">\n",
       "      <th></th>\n",
       "      <th>Categoria</th>\n",
       "      <th>Hallazgo</th>\n",
       "      <th>Tipo hallazgo</th>\n",
       "      <th>Riesgo</th>\n",
       "    </tr>\n",
       "  </thead>\n",
       "  <tbody>\n",
       "    <tr>\n",
       "      <th>2054</th>\n",
       "      <td>Sin_Hallazgo</td>\n",
       "      <td>Sin hallazgo</td>\n",
       "      <td>Sin Hallazgo</td>\n",
       "      <td>4 - Otro</td>\n",
       "    </tr>\n",
       "    <tr>\n",
       "      <th>2551</th>\n",
       "      <td>Otras_Políticas</td>\n",
       "      <td>No cumple con los requisitos propios del crédito</td>\n",
       "      <td>Incumple\\n P &amp; P</td>\n",
       "      <td>3 - Bajo</td>\n",
       "    </tr>\n",
       "    <tr>\n",
       "      <th>1518</th>\n",
       "      <td>REPUTACIÓN</td>\n",
       "      <td>Referencias no contactadas por el analista</td>\n",
       "      <td>Fallas en la Metodología</td>\n",
       "      <td>2 - Medio</td>\n",
       "    </tr>\n",
       "    <tr>\n",
       "      <th>931</th>\n",
       "      <td>ESTABILIDAD</td>\n",
       "      <td>Negocio en sociedad</td>\n",
       "      <td>Incumple P &amp; P</td>\n",
       "      <td>2 - Medio</td>\n",
       "    </tr>\n",
       "    <tr>\n",
       "      <th>529</th>\n",
       "      <td>Sin_Hallazgo</td>\n",
       "      <td>Sin hallazgo</td>\n",
       "      <td>Sin Hallazgo</td>\n",
       "      <td>4 - Otro</td>\n",
       "    </tr>\n",
       "  </tbody>\n",
       "</table>\n",
       "</div>"
      ],
      "text/plain": [
       "            Categoria                                          Hallazgo  \\\n",
       "2054     Sin_Hallazgo                                      Sin hallazgo   \n",
       "2551  Otras_Políticas  No cumple con los requisitos propios del crédito   \n",
       "1518       REPUTACIÓN        Referencias no contactadas por el analista   \n",
       "931       ESTABILIDAD                               Negocio en sociedad   \n",
       "529      Sin_Hallazgo                                      Sin hallazgo   \n",
       "\n",
       "                 Tipo hallazgo     Riesgo  \n",
       "2054              Sin Hallazgo   4 - Otro  \n",
       "2551          Incumple\\n P & P   3 - Bajo  \n",
       "1518  Fallas en la Metodología  2 - Medio  \n",
       "931             Incumple P & P  2 - Medio  \n",
       "529               Sin Hallazgo   4 - Otro  "
      ]
     },
     "execution_count": 634,
     "metadata": {},
     "output_type": "execute_result"
    }
   ],
   "source": [
    "df_base[[\"Categoria\",\"Hallazgo\",\"Tipo hallazgo\", \"Riesgo\"]].sample(5,random_state=2)"
   ]
  },
  {
   "cell_type": "markdown",
   "metadata": {},
   "source": [
    "--> We can see that each column have different strings formats, for example, capital letters, blank spaces, patterns like \"\\n\", etc.\n",
    "\n",
    "Now, we will review each column further"
   ]
  },
  {
   "cell_type": "markdown",
   "metadata": {},
   "source": [
    "### Categoria"
   ]
  },
  {
   "cell_type": "code",
   "execution_count": 635,
   "metadata": {},
   "outputs": [
    {
     "name": "stdout",
     "output_type": "stream",
     "text": [
      "Number of different Category values: 30\n",
      "Number of nan values: 0\n",
      "\n",
      "Category top:\n"
     ]
    },
    {
     "data": {
      "text/plain": [
       "Sin_Hallazgo                            1022\n",
       "Otras_Políticas                          525\n",
       "OTRAS_POLITICAS                          362\n",
       "Limitación_en_el_Alcance                 214\n",
       "LIMITACIÓN_EN_EL_ALCANCE                 196\n",
       "ESTABILIDAD                              153\n",
       "Políticas_Críticas                       121\n",
       "CALIDAD_DE_DATOS                         109\n",
       "Otros                                    109\n",
       "Existencia_y_Continuidad_del_Negocio      90\n",
       "FRAUDE_Y_PRÁCTICAS_INDEBIDAS              87\n",
       "Estabilidad                               72\n",
       "Reputación                                69\n",
       "Calidad_de_Datos                          57\n",
       "FLUJO_DE_CAJA                             48\n",
       "POLITICAS_CRITICAS                        38\n",
       "INCUMPLIMIENTO_AL_SAC                     36\n",
       "Flujo_de_Caja                             30\n",
       "EXISTENCIA_Y_CONTINUIDAD_DEL_NEGOCIO      24\n",
       "Controles_Gestión_Comercial               23\n",
       "REPUTACIÓN                                15\n",
       "Habilidad_Empresarial                     13\n",
       "Incumplimiento_Al_SAC                     12\n",
       "HABILIDAD_EMPRESARIAL                      8\n",
       "Controles_Administrativos_de_Agencia       7\n",
       "CONTROLES_ADMINISTRATIVOS_DE_AGENCIA       3\n",
       "Fraude_y_Prácticas_Indebidas               1\n",
       "SIN_HALLAZGO                               1\n",
       "otros                                      1\n",
       "Seguridad_de_la_Información                1\n",
       "Name: Categoria, dtype: int64"
      ]
     },
     "execution_count": 635,
     "metadata": {},
     "output_type": "execute_result"
    }
   ],
   "source": [
    "num_dif = df_base[\"Categoria\"].nunique()\n",
    "print(f'Number of different Category values: {num_dif}')\n",
    "print(f'Number of nan values: {df_base[\"Categoria\"].isna().sum()}')\n",
    "\n",
    "temp = df_base[\"Categoria\"].value_counts()\n",
    "print(f\"\\nCategory top:\")\n",
    "temp[0:]"
   ]
  },
  {
   "cell_type": "markdown",
   "metadata": {},
   "source": [
    "--> We find some values that are referred to the same but are wroten different."
   ]
  },
  {
   "cell_type": "markdown",
   "metadata": {},
   "source": [
    "### Hallazgo"
   ]
  },
  {
   "cell_type": "code",
   "execution_count": 636,
   "metadata": {},
   "outputs": [
    {
     "name": "stdout",
     "output_type": "stream",
     "text": [
      "Number of different Findings values: 89\n",
      "Number of nan values: 2\n",
      "\n",
      "Findings top:\n"
     ]
    },
    {
     "data": {
      "text/plain": [
       "Sin hallazgo                                                                                                                  1022\n",
       "Formato de vinculación con campos en blanco y/o errados                                                                        413\n",
       "Formato de autorización de consulta parcialmente diligenciado                                                                  276\n",
       "No se logró evidenciar la existencia del cliente y/o negocio                                                                   102\n",
       "Diferencias en el arraigo del cliente                                                                                          100\n",
       "Se evidencio existencia del cliente pero no se pudo confirmar el negocio                                                       100\n",
       "Se evidenció existencia del cliente pero no se pudo confirmar el negocio                                                        85\n",
       "Negocio en sociedad                                                                                                             85\n",
       "Información Errada en datos Básicos                                                                                             83\n",
       "Formato de autorización con fecha posterior a la consulta                                                                       76\n",
       "Otros Hallazgos                                                                                                                 72\n",
       "No cumple con los requisitos propios del crédito                                                                                68\n",
       "No se logro evidenciar la existencia del cliente y/o negocio                                                                    66\n",
       "Presunto negocio inexistente                                                                                                    61\n",
       "Diferencias en flujos de caja que afectan la liquidez                                                                           53\n",
       "Fallas en la georeferenciación                                                                                                  53\n",
       "No presenta los formatos de la metodología                                                                                      49\n",
       "Crédito otorgado a mas de un titular con el mismo negocio                                                                       45\n",
       "Información errada en datos básicos                                                                                             43\n",
       "Dirección del negocio no corresponde con la verificada por Auditoría                                                            38\n",
       "Seguimiento                                                                                                                     34\n",
       "Se evidencio existencia del negocio pero no se pudo confirmar la información financiera                                         29\n",
       "Insatisfacción del consumidor financiero - información insuficiente y/o debilidades en la atención                              28\n",
       "Se evidenció existencia del negocio pero no se pudo confirmar la información financiera                                         27\n",
       "Otros ingresos sin sustentación                                                                                                 26\n",
       "El cliente no confirmó la visita                                                                                                24\n",
       "Analista gestiona créditos en zona que no corresponde                                                                           23\n",
       "Referencias no contactadas por el analista                                                                                      23\n",
       "Factores de riesgo en la familia no identificados por el analista                                                               23\n",
       "Carpeta no encontrada                                                                                                           22\n",
       "Prenda abierta sin firma del cónyuge                                                                                            19\n",
       "Incumplimiento a la política de garantías                                                                                       18\n",
       "Alerta de Irregularidades                                                                                                       13\n",
       "Negocio no es de propiedad del cliente                                                                                          13\n",
       "Negocio inactivo o en decadencia posterior al desembolso                                                                        12\n",
       "Negocio inactivo                                                                                                                11\n",
       "Negocio no es del solicitante                                                                                                   11\n",
       "Insatisfacción del consumidor financiero - prácticas indebidas                                                                  10\n",
       "Fraude Interno (autocredito)                                                                                                    10\n",
       "No se ingresaron todas las cuotas financieras                                                                                   10\n",
       "No cumple con las condiciones para cartera micro                                                                                 9\n",
       "Negocio inactivo o en decadencia al momento del análisis                                                                         9\n",
       "Incumplimiento en tolerancia de moras                                                                                            9\n",
       "No se diligencia autorización para consulta a centrales de riesgo                                                                9\n",
       "Queja del cliente                                                                                                                8\n",
       "Incumplimiento en posesión del negocio (primera vez y cambio de actividad)                                                       8\n",
       "Formato de análisis de información financiera con enmendaduras y/o tachones                                                      7\n",
       "Incumple referencias                                                                                                             7\n",
       "Crédito otorgado con una actividad diferente a la realizada por el cliente                                                       7\n",
       "Aplican instrucciones comerciales por fuera de política\\n\\n                                                                      6\n",
       "No se efectuó visita por parte del Gerente a cliente con crédito o saldo expuesto superior a 25 SMMLV                            6\n",
       "Factores de riesgo no identificados por el analista                                                                              6\n",
       "Codeudor sin capacidad de pago                                                                                                   5\n",
       "Otros ingresos inexistentes                                                                                                      5\n",
       "Dudas sobre propiedad del negocio                                                                                                5\n",
       "No se evidenció consulta a centrales de riesgo                                                                                   4\n",
       "Cliente vendio el negocio posterior al desembolso                                                                                4\n",
       "Crédito otorgado por una actividad secundaria                                                                                    3\n",
       "Dudas evolución del negocio                                                                                                      3\n",
       "Faltó profundizar en el conocimiento del negocio y/o cliente                                                                     3\n",
       "Incumplimiento en posesión del negocio (Primera vez y cambio de actividad)                                                       3\n",
       "Ventas sobreestimadas                                                                                                            3\n",
       "Formato de análisis de información fnanciera con enmendaduras y/o tachones                                                       3\n",
       "Aplican instrucciones comerciales por fuera de política.\\n\\n                                                                     3\n",
       "Diferencias en flujo de caja que no afectan liquidez                                                                             3\n",
       "Cliente ilocalizado (Alerta de fraude)                                                                                           2\n",
       "Información Errada en datos Básicos                                                                                              2\n",
       "Fraude externo (Cobro de comisiones por un tercero) No atribuible al analista                                                    2\n",
       "Posible deficicencia en la atención al cliente                                                                                   2\n",
       "Factores de Riesgo – Crédito otorgado a cliente sabiendo que quien recibirá el dinero y pagará la obligación es un tercero       2\n",
       "Incumplimiento al proceso de Control de la Gestión de Créditos                                                                   2\n",
       "Negocio inexistente hechos sobrevinientes                                                                                        2\n",
       "referencias no contactadas por el analista                                                                                       1\n",
       "Negocio en decadencia                                                                                                            1\n",
       "Actividad de Alto Riesgo                                                                                                         1\n",
       "Deficiencias en el análisis de comité de crédito                                                                                 1\n",
       "No se ingresaron todas las cuotas financieras (No afecta liquidez)                                                               1\n",
       "Ingresos basados en combinación de actividades                                                                                   1\n",
       "Negocio inactivo posterior al desembolso                                                                                         1\n",
       "Adulteración, modificación o elaboración de la información o firmas en cualquier documento                                       1\n",
       "Actividad de Alto Risgo                                                                                                          1\n",
       "Diferencias en balance vs detalle de cifras                                                                                      1\n",
       "Cliente ilocalizado                                                                                                              1\n",
       "Fraude interno en recaudo de cuota con recibo de caja provisional                                                                1\n",
       "Incumplimiento en número de operaciones propias con el Banco W                                                                   1\n",
       "No se efectuó visita por parte del Gerente a cliente con crédito superior a 25 SMMLV                                             1\n",
       "Otros ingresos parcialmente sustentados                                                                                          1\n",
       "Negocio inactivo durante el proceso de analisis                                                                                  1\n",
       "Asuntos relacionados con seguridad de la información (Préstamo de usuarios y claves)                                             1\n",
       "Name: Hallazgo, dtype: int64"
      ]
     },
     "execution_count": 636,
     "metadata": {},
     "output_type": "execute_result"
    }
   ],
   "source": [
    "num_dif = df_base[\"Hallazgo\"].nunique()\n",
    "print(f'Number of different Findings values: {num_dif}')\n",
    "print(f'Number of nan values: {df_base[\"Hallazgo\"].isna().sum()}')\n",
    "\n",
    "temp = df_base[\"Hallazgo\"].value_counts()\n",
    "print(f\"\\nFindings top:\")\n",
    "temp[0:]"
   ]
  },
  {
   "cell_type": "markdown",
   "metadata": {},
   "source": [
    "--> This column is a description of the findings, is like a comments column. So, it is not necessary to modify a lot this column. Even, we could ignore this column."
   ]
  },
  {
   "cell_type": "markdown",
   "metadata": {},
   "source": [
    "### Tipo hallazgo"
   ]
  },
  {
   "cell_type": "code",
   "execution_count": 637,
   "metadata": {},
   "outputs": [
    {
     "name": "stdout",
     "output_type": "stream",
     "text": [
      "Number of different finding types values: 10\n",
      "Number of nan values: 1\n",
      "\n",
      "finding types top:\n"
     ]
    },
    {
     "data": {
      "text/plain": [
       "Sin Hallazgo                1018\n",
       "Incumple\\n P & P             632\n",
       "Fallas en la Metodología     570\n",
       "Incumple P & P               470\n",
       "Limitación                   410\n",
       "Acto Irregular               222\n",
       "Otros                        110\n",
       "Incumple P&P                   9\n",
       "Sin_Hallazgo                   3\n",
       "Sin hallazgo                   2\n",
       "Name: Tipo hallazgo, dtype: int64"
      ]
     },
     "execution_count": 637,
     "metadata": {},
     "output_type": "execute_result"
    }
   ],
   "source": [
    "num_dif = df_base[\"Tipo hallazgo\"].nunique()\n",
    "print(f'Number of different finding types values: {num_dif}')\n",
    "print(f'Number of nan values: {df_base[\"Tipo hallazgo\"].isna().sum()}')\n",
    "\n",
    "temp = df_base[\"Tipo hallazgo\"].value_counts()\n",
    "print(f\"\\nfinding types top:\")\n",
    "temp[0:]"
   ]
  },
  {
   "cell_type": "markdown",
   "metadata": {},
   "source": [
    "--> \"Limitacion\" is referred that the audit cant be completed due to several reasons. This observations doesnt add value to the next steps."
   ]
  },
  {
   "cell_type": "markdown",
   "metadata": {},
   "source": [
    "### Riesgo"
   ]
  },
  {
   "cell_type": "code",
   "execution_count": 638,
   "metadata": {},
   "outputs": [
    {
     "name": "stdout",
     "output_type": "stream",
     "text": [
      "Number of different Risk values: 5\n",
      "Number of nan values: 4\n",
      "\n",
      "Risk top:\n"
     ]
    },
    {
     "data": {
      "text/plain": [
       "4 - Otro     1363\n",
       "2 - Medio    1130\n",
       "3 - Bajo      443\n",
       "1 - Alto      348\n",
       "No aplica     159\n",
       "Name: Riesgo, dtype: int64"
      ]
     },
     "execution_count": 638,
     "metadata": {},
     "output_type": "execute_result"
    }
   ],
   "source": [
    "num_dif = df_base[\"Riesgo\"].nunique()\n",
    "print(f'Number of different Risk values: {num_dif}')\n",
    "print(f'Number of nan values: {df_base[\"Riesgo\"].isna().sum()}')\n",
    "\n",
    "temp = df_base[\"Riesgo\"].value_counts()\n",
    "print(f\"\\nRisk top:\")\n",
    "temp[0:]"
   ]
  },
  {
   "cell_type": "markdown",
   "metadata": {},
   "source": [
    "--> The \"Riesgo\" column is the cleanest one. It doesnt need cleaning steps.\n",
    "\n",
    "Now lets check the \"No aplica\" level"
   ]
  },
  {
   "cell_type": "code",
   "execution_count": 639,
   "metadata": {},
   "outputs": [
    {
     "data": {
      "text/plain": [
       "LIMITACIÓN_EN_EL_ALCANCE    95\n",
       "Sin_Hallazgo                64\n",
       "Name: Categoria, dtype: int64"
      ]
     },
     "execution_count": 639,
     "metadata": {},
     "output_type": "execute_result"
    }
   ],
   "source": [
    "df_base[df_base[\"Riesgo\"]==\"No aplica\"][\"Categoria\"].value_counts()"
   ]
  },
  {
   "cell_type": "code",
   "execution_count": 640,
   "metadata": {},
   "outputs": [
    {
     "data": {
      "text/plain": [
       "Sin hallazgo                                                                               64\n",
       "No se logro evidenciar la existencia del cliente y/o negocio                               43\n",
       "Se evidencio existencia del cliente pero no se pudo confirmar el negocio                   38\n",
       "Se evidencio existencia del negocio pero no se pudo confirmar la información financiera    13\n",
       "Name: Hallazgo, dtype: int64"
      ]
     },
     "execution_count": 640,
     "metadata": {},
     "output_type": "execute_result"
    }
   ],
   "source": [
    "df_base[df_base[\"Riesgo\"]==\"No aplica\"][\"Hallazgo\"].value_counts()"
   ]
  },
  {
   "cell_type": "code",
   "execution_count": 641,
   "metadata": {},
   "outputs": [
    {
     "data": {
      "text/plain": [
       "4 - Otro     954\n",
       "No aplica     64\n",
       "Name: Riesgo, dtype: int64"
      ]
     },
     "execution_count": 641,
     "metadata": {},
     "output_type": "execute_result"
    }
   ],
   "source": [
    "df_base[df_base[\"Categoria\"]==\"Sin_Hallazgo\"][\"Riesgo\"].value_counts()"
   ]
  },
  {
   "cell_type": "markdown",
   "metadata": {},
   "source": [
    "--> The \"No aplica\" level have values without findings or with limitations to complete the audit."
   ]
  },
  {
   "cell_type": "markdown",
   "metadata": {},
   "source": [
    "----"
   ]
  },
  {
   "cell_type": "markdown",
   "metadata": {},
   "source": [
    "### Conclusion\n",
    "\n",
    "To clean this columns:\n",
    "\n",
    "1. We will drop the few NA values for each column\n",
    "2. **We will avoid capital letters and drop some patterns.**\n",
    "3. **We will rename some values of 'Categoria' & 'Tipo hallazgo' columns in order to unify levels.**\n",
    "4. We will rename the columns to avoid capital letters.\n",
    "5. **We will drop the observations with \"Tipo hallazgo\" equal to \"Limitacion\"**.\n",
    "6. Due to the previous step (#5), we will rename the level \"No aplica\" of the \"Riesgo\" column to \"4 - otro\""
   ]
  },
  {
   "cell_type": "code",
   "execution_count": 642,
   "metadata": {},
   "outputs": [],
   "source": [
    "# Drop nan values of the 4 columns\n",
    "df_base = df_base.dropna(subset=[\"Categoria\",\"Hallazgo\",\"Tipo hallazgo\", \"Riesgo\"])\n",
    "\n",
    "# Function to clean the column values\n",
    "def clean_string_column(value):\n",
    "    if pd.isna(value):  # Handle missing values\n",
    "        return \"no_especificado\"\n",
    "    value = value.strip()  # Remove spaces at the beginning and end\n",
    "    value = unidecode(value)  # Remove accents\n",
    "    value = value.lower()  # Convert to lowercase\n",
    "    return value\n",
    "\n",
    "# Apply function to the 3 columns\n",
    "df_base[\"Categoria\"] = df_base[\"Categoria\"].apply(clean_string_column)\n",
    "df_base[\"Hallazgo\"] = df_base[\"Hallazgo\"].apply(clean_string_column)\n",
    "df_base[\"Tipo hallazgo\"] = df_base[\"Tipo hallazgo\"].apply(clean_string_column)\n",
    "\n",
    "# Combine some finding types values due to typos (incumple p&p)\n",
    "df_base[\"Tipo hallazgo\"] = df_base[\"Tipo hallazgo\"].apply(lambda x: \"incumple_p&p\" if \"incumple\" in x else x)\n",
    "\n",
    "# after review, there isnt more typos in \"Categoria\" column\n",
    "\n",
    "# rename columns\n",
    "df_base = df_base.rename(\n",
    "    columns={\n",
    "        \"Tipo hallazgo\": \"tipo_hallazgo\",\n",
    "        \"Riesgo\": \"riesgo\",\n",
    "        \"Categoria\": \"categoria\",\n",
    "        \"Hallazgo\": \"hallazgo\",\n",
    "    }\n",
    ")\n",
    "\n",
    "# drop observations with limitations (audit incomplete)\n",
    "df_base=df_base[df_base[\"tipo_hallazgo\"]!=\"limitacion\"]\n",
    "\n",
    "# Rename values \"No aplica\" of column Riesgo\n",
    "df_base[\"riesgo\"] = df_base[\"riesgo\"].str.replace(\"No aplica\",\"4 - Otro\")"
   ]
  },
  {
   "cell_type": "code",
   "execution_count": 643,
   "metadata": {},
   "outputs": [
    {
     "data": {
      "text/html": [
       "<div>\n",
       "<style scoped>\n",
       "    .dataframe tbody tr th:only-of-type {\n",
       "        vertical-align: middle;\n",
       "    }\n",
       "\n",
       "    .dataframe tbody tr th {\n",
       "        vertical-align: top;\n",
       "    }\n",
       "\n",
       "    .dataframe thead th {\n",
       "        text-align: right;\n",
       "    }\n",
       "</style>\n",
       "<table border=\"1\" class=\"dataframe\">\n",
       "  <thead>\n",
       "    <tr style=\"text-align: right;\">\n",
       "      <th></th>\n",
       "      <th>categoria</th>\n",
       "      <th>hallazgo</th>\n",
       "      <th>tipo_hallazgo</th>\n",
       "      <th>riesgo</th>\n",
       "    </tr>\n",
       "  </thead>\n",
       "  <tbody>\n",
       "    <tr>\n",
       "      <th>504</th>\n",
       "      <td>sin_hallazgo</td>\n",
       "      <td>sin hallazgo</td>\n",
       "      <td>sin hallazgo</td>\n",
       "      <td>4 - Otro</td>\n",
       "    </tr>\n",
       "    <tr>\n",
       "      <th>2649</th>\n",
       "      <td>otras_politicas</td>\n",
       "      <td>formato de autorizacion de consulta parcialmen...</td>\n",
       "      <td>incumple_p&amp;p</td>\n",
       "      <td>2 - Medio</td>\n",
       "    </tr>\n",
       "    <tr>\n",
       "      <th>695</th>\n",
       "      <td>calidad_de_datos</td>\n",
       "      <td>direccion del negocio no corresponde con la ve...</td>\n",
       "      <td>fallas en la metodologia</td>\n",
       "      <td>3 - Bajo</td>\n",
       "    </tr>\n",
       "    <tr>\n",
       "      <th>2673</th>\n",
       "      <td>otras_politicas</td>\n",
       "      <td>formato de vinculacion con campos en blanco y/...</td>\n",
       "      <td>incumple_p&amp;p</td>\n",
       "      <td>2 - Medio</td>\n",
       "    </tr>\n",
       "    <tr>\n",
       "      <th>839</th>\n",
       "      <td>estabilidad</td>\n",
       "      <td>diferencias en el arraigo del cliente</td>\n",
       "      <td>fallas en la metodologia</td>\n",
       "      <td>3 - Bajo</td>\n",
       "    </tr>\n",
       "  </tbody>\n",
       "</table>\n",
       "</div>"
      ],
      "text/plain": [
       "             categoria                                           hallazgo  \\\n",
       "504       sin_hallazgo                                       sin hallazgo   \n",
       "2649   otras_politicas  formato de autorizacion de consulta parcialmen...   \n",
       "695   calidad_de_datos  direccion del negocio no corresponde con la ve...   \n",
       "2673   otras_politicas  formato de vinculacion con campos en blanco y/...   \n",
       "839        estabilidad              diferencias en el arraigo del cliente   \n",
       "\n",
       "                 tipo_hallazgo     riesgo  \n",
       "504               sin hallazgo   4 - Otro  \n",
       "2649              incumple_p&p  2 - Medio  \n",
       "695   fallas en la metodologia   3 - Bajo  \n",
       "2673              incumple_p&p  2 - Medio  \n",
       "839   fallas en la metodologia   3 - Bajo  "
      ]
     },
     "execution_count": 643,
     "metadata": {},
     "output_type": "execute_result"
    }
   ],
   "source": [
    "df_base[[\"categoria\",\"hallazgo\",\"tipo_hallazgo\", \"riesgo\"]].sample(5,random_state=2)"
   ]
  },
  {
   "cell_type": "code",
   "execution_count": 644,
   "metadata": {},
   "outputs": [
    {
     "data": {
      "text/plain": [
       "categoria        0\n",
       "hallazgo         0\n",
       "tipo_hallazgo    0\n",
       "riesgo           0\n",
       "dtype: int64"
      ]
     },
     "execution_count": 644,
     "metadata": {},
     "output_type": "execute_result"
    }
   ],
   "source": [
    "df_base[[\"categoria\",\"hallazgo\",\"tipo_hallazgo\", \"riesgo\"]].isna().sum()"
   ]
  },
  {
   "cell_type": "code",
   "execution_count": 645,
   "metadata": {},
   "outputs": [
    {
     "data": {
      "text/plain": [
       "incumple_p&p                1111\n",
       "sin hallazgo                1020\n",
       "fallas en la metodologia     570\n",
       "acto irregular               222\n",
       "otros                        110\n",
       "Name: tipo_hallazgo, dtype: int64"
      ]
     },
     "execution_count": 645,
     "metadata": {},
     "output_type": "execute_result"
    }
   ],
   "source": [
    "df_base.tipo_hallazgo.value_counts()"
   ]
  },
  {
   "cell_type": "code",
   "execution_count": 646,
   "metadata": {},
   "outputs": [
    {
     "data": {
      "text/plain": [
       "2 - Medio    1130\n",
       "4 - Otro     1112\n",
       "3 - Bajo      443\n",
       "1 - Alto      348\n",
       "Name: riesgo, dtype: int64"
      ]
     },
     "execution_count": 646,
     "metadata": {},
     "output_type": "execute_result"
    }
   ],
   "source": [
    "df_base.riesgo.value_counts()"
   ]
  },
  {
   "cell_type": "code",
   "execution_count": 647,
   "metadata": {},
   "outputs": [
    {
     "data": {
      "text/plain": [
       "(3033, 24)"
      ]
     },
     "execution_count": 647,
     "metadata": {},
     "output_type": "execute_result"
    }
   ],
   "source": [
    "df_base.shape"
   ]
  },
  {
   "cell_type": "markdown",
   "metadata": {},
   "source": [
    "## Calificacion cartera y Relaciones laborales"
   ]
  },
  {
   "cell_type": "code",
   "execution_count": 648,
   "metadata": {},
   "outputs": [
    {
     "data": {
      "text/plain": [
       "No    2803\n",
       "Si     227\n",
       "si       3\n",
       "Name: Calificación cartera, dtype: int64"
      ]
     },
     "execution_count": 648,
     "metadata": {},
     "output_type": "execute_result"
    }
   ],
   "source": [
    "df_base[\"Calificación cartera\"].value_counts()  "
   ]
  },
  {
   "cell_type": "code",
   "execution_count": 649,
   "metadata": {},
   "outputs": [
    {
     "data": {
      "text/plain": [
       "No    2309\n",
       "Si     327\n",
       "Name: Relaciones Laborales, dtype: int64"
      ]
     },
     "execution_count": 649,
     "metadata": {},
     "output_type": "execute_result"
    }
   ],
   "source": [
    "df_base[\"Relaciones Laborales\"].value_counts()  "
   ]
  },
  {
   "cell_type": "code",
   "execution_count": 650,
   "metadata": {},
   "outputs": [
    {
     "data": {
      "text/plain": [
       "Calificación cartera      0\n",
       "Relaciones Laborales    397\n",
       "dtype: int64"
      ]
     },
     "execution_count": 650,
     "metadata": {},
     "output_type": "execute_result"
    }
   ],
   "source": [
    "df_base[[\"Calificación cartera\",\"Relaciones Laborales\"]].isna().sum()  "
   ]
  },
  {
   "cell_type": "markdown",
   "metadata": {},
   "source": [
    "--> This columns have few typos and Nan values"
   ]
  },
  {
   "cell_type": "markdown",
   "metadata": {},
   "source": [
    "**CONCLUSION**\n",
    "\n",
    "1. Rename columns to avoid ccapital letters\n",
    "2. We will change NA values to \"no_especificado\"\n",
    "3. fix typos in Calificación cartera"
   ]
  },
  {
   "cell_type": "code",
   "execution_count": 651,
   "metadata": {},
   "outputs": [],
   "source": [
    "# rename columns\n",
    "df_base.rename(columns={\"Calificación cartera\": \"calificacion_cartera\", \"Relaciones Laborales\": \"relaciones_laborales\"}, inplace=True)\n",
    "\n",
    "# NA values to \"no_especificado\"\n",
    "df_base[\"calificacion_cartera\"] = df_base[\"calificacion_cartera\"].fillna(\"no_especificado\")\n",
    "df_base[\"relaciones_laborales\"] = df_base[\"relaciones_laborales\"].fillna(\"no_especificado\")\n",
    "\n",
    "# fix typos\n",
    "df_base[\"calificacion_cartera\"] = df_base[\"calificacion_cartera\"].apply(lambda x: \"Si\" if \"si\" in x else x)\n"
   ]
  },
  {
   "cell_type": "markdown",
   "metadata": {},
   "source": [
    "## Oficina"
   ]
  },
  {
   "cell_type": "code",
   "execution_count": 652,
   "metadata": {},
   "outputs": [
    {
     "name": "stdout",
     "output_type": "stream",
     "text": [
      "Number of different \"Oficina\" values: 63\n",
      "Number of nan values: 0\n",
      "\n",
      "'Oficina' top:\n"
     ]
    },
    {
     "data": {
      "text/plain": [
       "Dosquebradas              177\n",
       "Ibague                    130\n",
       "Fonsecca                  125\n",
       "Tulua                      91\n",
       "Chaparral                  79\n",
       "Santa Rosa                 77\n",
       "Facatativa                 70\n",
       "Laureano Gómez             60\n",
       "Independencia              57\n",
       "Magangue                   56\n",
       "Pasto                      55\n",
       "Tulua Calle 25             54\n",
       "Sincelejo                  53\n",
       "Engativa                   52\n",
       "Poblado                    51\n",
       "Maicao                     49\n",
       "Palmira                    49\n",
       "Sur                        49\n",
       "Pereira Lagos              48\n",
       "Pasto Las Lunas            48\n",
       "El Espinal                 47\n",
       "Cartagena del Chaira       47\n",
       "Santa Marta                46\n",
       "San Juan del CesAR         45\n",
       "Armenia Sur                45\n",
       "La Plata                   45\n",
       "Jamundí                    45\n",
       "Santander de Quilichao     45\n",
       "Soledad                    45\n",
       "La Unión                   44\n",
       "Corozal                    44\n",
       "Calima                     44\n",
       "Ipiales                    43\n",
       "Riohacha                   43\n",
       "Chinchiná                  43\n",
       "Duitama                    43\n",
       "Barranquilla               43\n",
       "Kennedy                    42\n",
       "Zipaquira                  42\n",
       "La Dorada                  42\n",
       "Murillo Toro               42\n",
       "Quebradaseca               40\n",
       "Santa Librada              40\n",
       "Giron                      39\n",
       "Itagui                     39\n",
       "Villeta                    39\n",
       "Rionegro                   37\n",
       "Puerto Gaitan              37\n",
       "Alfonso López              34\n",
       "Autopista Norte            34\n",
       "Sabanalarga                33\n",
       "Sevilla                    33\n",
       "Quibdo                     33\n",
       "Apartado                   30\n",
       "Fundación                  26\n",
       "Patio Bonito               25\n",
       "Cereté                     25\n",
       "Belen                      25\n",
       "Calle 25                   25\n",
       "Buenaventura               25\n",
       "Pradera                    24\n",
       "Soacha                     22\n",
       "La Unión                   13\n",
       "Name: Oficina , dtype: int64"
      ]
     },
     "execution_count": 652,
     "metadata": {},
     "output_type": "execute_result"
    }
   ],
   "source": [
    "num_dif = df_base[\"Oficina \"].nunique()\n",
    "print(f'Number of different \"Oficina\" values: {num_dif}')\n",
    "print(f'Number of nan values: {df_base[\"Oficina \"].isna().sum()}')\n",
    "\n",
    "temp = df_base[\"Oficina \"].value_counts()\n",
    "print(f\"\\n'Oficina' top:\")\n",
    "temp"
   ]
  },
  {
   "cell_type": "markdown",
   "metadata": {},
   "source": [
    "--> This column seems without problems nor typos.\n",
    "\n",
    "**CONCLUSION**\n",
    "\n",
    "1. Change column name.\n",
    "2. avoid capital letters and blank spaces."
   ]
  },
  {
   "cell_type": "code",
   "execution_count": 653,
   "metadata": {},
   "outputs": [],
   "source": [
    "# Rename column Oficina\n",
    "df_base = df_base.rename(columns={\"Oficina \": \"oficina\"})\n",
    "\n",
    "# avoid capital letters and blank spaces\n",
    "df_base[\"oficina\"] = df_base[\"oficina\"].apply(lambda x: x.strip().lower())"
   ]
  },
  {
   "cell_type": "markdown",
   "metadata": {},
   "source": [
    "## Zona, regional"
   ]
  },
  {
   "cell_type": "code",
   "execution_count": 654,
   "metadata": {},
   "outputs": [
    {
     "name": "stdout",
     "output_type": "stream",
     "text": [
      "Number of different \"zona\" values: 17\n",
      "Number of nan values: 0\n",
      "\n",
      "'zona' top:\n"
     ]
    },
    {
     "data": {
      "text/plain": [
       "12    390\n",
       "11    340\n",
       "13    304\n",
       "3     252\n",
       "7     220\n",
       "4     216\n",
       "1     201\n",
       "15    197\n",
       "8     164\n",
       "6     137\n",
       "5     131\n",
       "14    121\n",
       "2      94\n",
       "10     92\n",
       "16     81\n",
       "17     56\n",
       "9      37\n",
       "Name: zona , dtype: int64"
      ]
     },
     "execution_count": 654,
     "metadata": {},
     "output_type": "execute_result"
    }
   ],
   "source": [
    "num_dif = df_base[\"zona \"].nunique()\n",
    "print(f'Number of different \"zona\" values: {num_dif}')\n",
    "print(f'Number of nan values: {df_base[\"zona \"].isna().sum()}')\n",
    "\n",
    "temp = df_base[\"zona \"].value_counts()\n",
    "print(f\"\\n'zona' top:\")\n",
    "temp"
   ]
  },
  {
   "cell_type": "code",
   "execution_count": 655,
   "metadata": {},
   "outputs": [
    {
     "name": "stdout",
     "output_type": "stream",
     "text": [
      "Number of different \"zona\" values: 5\n",
      "Number of nan values: 0\n",
      "\n",
      "'zona' top:\n"
     ]
    },
    {
     "data": {
      "text/plain": [
       "3    824\n",
       "4    757\n",
       "1    653\n",
       "5    502\n",
       "2    297\n",
       "Name: Regional, dtype: int64"
      ]
     },
     "execution_count": 655,
     "metadata": {},
     "output_type": "execute_result"
    }
   ],
   "source": [
    "num_dif = df_base[\"Regional\"].nunique()\n",
    "print(f'Number of different \"zona\" values: {num_dif}')\n",
    "print(f'Number of nan values: {df_base[\"Regional\"].isna().sum()}')\n",
    "\n",
    "temp = df_base[\"Regional\"].value_counts()\n",
    "print(f\"\\n'zona' top:\")\n",
    "temp"
   ]
  },
  {
   "cell_type": "markdown",
   "metadata": {},
   "source": [
    "--> Both columns also seems without problems\n",
    "\n",
    "**CONCLUSION**\n",
    "\n",
    "1. We will only change the column names."
   ]
  },
  {
   "cell_type": "code",
   "execution_count": 656,
   "metadata": {},
   "outputs": [],
   "source": [
    "# change column names\n",
    "df_base = df_base.rename(columns={\"zona \": \"zona\", \"Regional\": \"regional\"})"
   ]
  },
  {
   "cell_type": "markdown",
   "metadata": {},
   "source": [
    "## Validacion unico"
   ]
  },
  {
   "cell_type": "code",
   "execution_count": 657,
   "metadata": {},
   "outputs": [
    {
     "name": "stdout",
     "output_type": "stream",
     "text": [
      "Number of different \"validacion unico\" values: 2\n",
      "Number of nan values: 2821\n",
      "\n",
      "'validacion unico' top:\n"
     ]
    },
    {
     "data": {
      "text/plain": [
       "ok          184\n",
       "repetido     28\n",
       "Name: Validación unico, dtype: int64"
      ]
     },
     "execution_count": 657,
     "metadata": {},
     "output_type": "execute_result"
    }
   ],
   "source": [
    "num_dif = df_base[\"Validación unico\"].nunique()\n",
    "print(f'Number of different \"validacion unico\" values: {num_dif}')\n",
    "print(f'Number of nan values: {df_base[\"Validación unico\"].isna().sum()}')\n",
    "\n",
    "temp = df_base[\"Validación unico\"].value_counts()\n",
    "print(f\"\\n'validacion unico' top:\")\n",
    "temp"
   ]
  },
  {
   "cell_type": "markdown",
   "metadata": {},
   "source": [
    "--> This column seems like a validation column to check some \"repeated\" observations based on something that we currently dont know.\n",
    "\n",
    "**CONCLUSION** \n",
    "1. For now, we will drop the observations with \"repetido\" and also drop the column."
   ]
  },
  {
   "cell_type": "code",
   "execution_count": 658,
   "metadata": {},
   "outputs": [],
   "source": [
    "# drop observations with \"repetido\" value and drop column\n",
    "df_base = df_base[df_base[\"Validación unico\"] != \"repetido\"]\n",
    "df_base = df_base.drop(columns=[\"Validación unico\"])"
   ]
  },
  {
   "cell_type": "markdown",
   "metadata": {},
   "source": [
    "## Tipo analisis"
   ]
  },
  {
   "cell_type": "code",
   "execution_count": 659,
   "metadata": {},
   "outputs": [
    {
     "name": "stdout",
     "output_type": "stream",
     "text": [
      "Number of different \"Tipo analisis\" values: 5\n",
      "Number of nan values: 1353\n",
      "\n",
      "'Tipo analisis' top:\n"
     ]
    },
    {
     "data": {
      "text/plain": [
       "Análisis de carácter     978\n",
       "Sin hallazgo             566\n",
       "Otros                     56\n",
       "Analisis Cuantitativo     48\n",
       "Analisis de carácter       4\n",
       "Name: Tipo analisis , dtype: int64"
      ]
     },
     "execution_count": 659,
     "metadata": {},
     "output_type": "execute_result"
    }
   ],
   "source": [
    "num_dif = df_base[\"Tipo analisis \"].nunique()\n",
    "print(f'Number of different \"Tipo analisis\" values: {num_dif}')\n",
    "print(f'Number of nan values: {df_base[\"Tipo analisis \"].isna().sum()}')\n",
    "\n",
    "temp = df_base[\"Tipo analisis \"].value_counts()\n",
    "print(f\"\\n'Tipo analisis' top:\")\n",
    "temp"
   ]
  },
  {
   "cell_type": "markdown",
   "metadata": {},
   "source": [
    "--> This column have a lot of NA values and is no clear how this information could add value to our next steps.\n",
    "\n",
    "**CONCLUSIONS**\n",
    "1. We will drop this column due to the lack of valuable information"
   ]
  },
  {
   "cell_type": "code",
   "execution_count": 660,
   "metadata": {},
   "outputs": [],
   "source": [
    "#drop column Tipo analisis\n",
    "df_base = df_base.drop(columns=[\"Tipo analisis \"])"
   ]
  },
  {
   "cell_type": "markdown",
   "metadata": {},
   "source": [
    "## Clasificacion analisis"
   ]
  },
  {
   "cell_type": "code",
   "execution_count": 661,
   "metadata": {},
   "outputs": [
    {
     "name": "stdout",
     "output_type": "stream",
     "text": [
      "Number of different \"Clasificacion analisis\" values: 12\n",
      "Number of nan values: 1353\n",
      "\n",
      "'Clasificacion analisis' top:\n"
     ]
    },
    {
     "data": {
      "text/plain": [
       "Políticas                      617\n",
       "Sin hallazgo                   566\n",
       "Estabilidad                    103\n",
       "Alerta de fraude               101\n",
       "Reputación                      76\n",
       "Calidad de datos                65\n",
       "Flujo de caja                   48\n",
       "Otros                           42\n",
       "Quejas                          13\n",
       "Habilidad empresarial           12\n",
       "Control                          8\n",
       "Seguridad de la información      1\n",
       "Name: Clasificac analisis, dtype: int64"
      ]
     },
     "execution_count": 661,
     "metadata": {},
     "output_type": "execute_result"
    }
   ],
   "source": [
    "num_dif = df_base[\"Clasificac analisis\"].nunique()\n",
    "print(f'Number of different \"Clasificacion analisis\" values: {num_dif}')\n",
    "print(f'Number of nan values: {df_base[\"Clasificac analisis\"].isna().sum()}')\n",
    "\n",
    "temp = df_base[\"Clasificac analisis\"].value_counts()\n",
    "print(f\"\\n'Clasificacion analisis' top:\")\n",
    "temp"
   ]
  },
  {
   "cell_type": "markdown",
   "metadata": {},
   "source": [
    "--> This column have a lot of NA values and we think that this column data is very similar to the column \"Categoria\".\n",
    "\n",
    "**CONCLUSIONS**\n",
    "1. We will drop this column due that its data is similar to other column that have more information"
   ]
  },
  {
   "cell_type": "code",
   "execution_count": 662,
   "metadata": {},
   "outputs": [],
   "source": [
    "#drop column Tipo analisis\n",
    "df_base = df_base.drop(columns=[\"Clasificac analisis\"])"
   ]
  },
  {
   "cell_type": "markdown",
   "metadata": {},
   "source": [
    "## Estado"
   ]
  },
  {
   "cell_type": "code",
   "execution_count": 663,
   "metadata": {},
   "outputs": [
    {
     "name": "stdout",
     "output_type": "stream",
     "text": [
      "Number of different status values: 6\n",
      "Number of nan values: 626\n",
      "\n",
      "Status top:\n"
     ]
    },
    {
     "data": {
      "text/plain": [
       "Normal                            1078\n",
       "Cancelada                          983\n",
       "Castigo                            207\n",
       "Modificado                          92\n",
       "Cobro Judicial                      13\n",
       "Reestructurado                       6\n",
       "Name: Estado, dtype: int64"
      ]
     },
     "execution_count": 663,
     "metadata": {},
     "output_type": "execute_result"
    }
   ],
   "source": [
    "num_dif = df_base[\"Estado\"].nunique()\n",
    "print(f'Number of different status values: {num_dif}')\n",
    "print(f'Number of nan values: {df_base[\"Estado\"].isna().sum()}')\n",
    "\n",
    "temp = df_base[\"Estado\"].value_counts()\n",
    "print(f\"\\nStatus top:\")\n",
    "temp"
   ]
  },
  {
   "cell_type": "markdown",
   "metadata": {},
   "source": [
    "--> This columns seems to have valuable information about the credit status. Doesnt have typos but several NA values.\n",
    "\n",
    "**CONCLUSIONS**\n",
    "1. We will rename the column to avoid capital letters.\n",
    "2. We will fill NA values with \"no_especificado\".\n",
    "3. We will clean a little more the column to avoid capital letters nor blank spaces at the beginning or the last of the string."
   ]
  },
  {
   "cell_type": "code",
   "execution_count": 664,
   "metadata": {},
   "outputs": [],
   "source": [
    "#rename column Estado\n",
    "df_base = df_base.rename(columns={\"Estado\": \"estado\"})\n",
    "\n",
    "# fill NA with no_especificado\n",
    "df_base[\"estado\"] = df_base[\"estado\"].fillna(\"no_especificado\")\n",
    "\n",
    "# eliminate capital letters and blank spaces\n",
    "df_base[\"estado\"] = df_base[\"estado\"].apply(lambda x: x.strip().lower())"
   ]
  },
  {
   "cell_type": "markdown",
   "metadata": {},
   "source": [
    "## Año"
   ]
  },
  {
   "cell_type": "code",
   "execution_count": 665,
   "metadata": {},
   "outputs": [
    {
     "name": "stdout",
     "output_type": "stream",
     "text": [
      "Number of different year values: 3\n",
      "Number of nan values: 0\n",
      "\n",
      " Year top:\n"
     ]
    },
    {
     "data": {
      "text/plain": [
       "2022    1353\n",
       "2023    1026\n",
       "2024     626\n",
       "Name: Año, dtype: int64"
      ]
     },
     "execution_count": 665,
     "metadata": {},
     "output_type": "execute_result"
    }
   ],
   "source": [
    "num_dif = df_base[\"Año\"].nunique()\n",
    "print(f'Number of different year values: {num_dif}')\n",
    "print(f'Number of nan values: {df_base[\"Año\"].isna().sum()}')\n",
    "\n",
    "temp = df_base[\"Año\"].value_counts()\n",
    "print(f\"\\n Year top:\")\n",
    "temp"
   ]
  },
  {
   "cell_type": "markdown",
   "metadata": {},
   "source": [
    "--> Seems without problems\n",
    "\n",
    "**CONCLUSIONS**\n",
    "1. We will only rename the column\n"
   ]
  },
  {
   "cell_type": "code",
   "execution_count": 666,
   "metadata": {},
   "outputs": [],
   "source": [
    "# rename the column year\n",
    "df_base = df_base.rename(columns={\"Año\": \"year\"})"
   ]
  },
  {
   "cell_type": "markdown",
   "metadata": {},
   "source": [
    "## Tipo"
   ]
  },
  {
   "cell_type": "code",
   "execution_count": 667,
   "metadata": {},
   "outputs": [
    {
     "name": "stdout",
     "output_type": "stream",
     "text": [
      "Number of different type values: 3\n",
      "Number of nan values: 626\n",
      "\n",
      " type top:\n"
     ]
    },
    {
     "data": {
      "text/plain": [
       "Otros Hallazgos       1483\n",
       "Sin Hallazgo           748\n",
       "Afecta Estabilidad     148\n",
       "Name: Tipo, dtype: int64"
      ]
     },
     "execution_count": 667,
     "metadata": {},
     "output_type": "execute_result"
    }
   ],
   "source": [
    "num_dif = df_base[\"Tipo\"].nunique()\n",
    "print(f'Number of different type values: {num_dif}')\n",
    "print(f'Number of nan values: {df_base[\"Tipo\"].isna().sum()}')\n",
    "\n",
    "temp = df_base[\"Tipo\"].value_counts()\n",
    "print(f\"\\n type top:\")\n",
    "temp"
   ]
  },
  {
   "cell_type": "markdown",
   "metadata": {},
   "source": [
    "--> This column seems without typos but have several NA values. Right now, is not clear what is the information that this column have but we will keep it by now.\n",
    "\n",
    "**CONCLUSIONS**\n",
    "1. We will rename the column.\n",
    "2. We will fill the NA values with \"no_especificado\"\n",
    "3. We will avoid capital letters and blank spaces"
   ]
  },
  {
   "cell_type": "code",
   "execution_count": 668,
   "metadata": {},
   "outputs": [],
   "source": [
    "#rename the column\n",
    "df_base = df_base.rename(columns={\"Tipo\": \"tipo\"})\n",
    "\n",
    "#fill NA with no_especificado\n",
    "df_base[\"tipo\"] = df_base[\"tipo\"].fillna(\"no_especificado\")\n",
    "\n",
    "#avoid capital letters and blank spaces\n",
    "df_base[\"tipo\"] = df_base[\"tipo\"].apply(lambda x: x.strip().lower())"
   ]
  },
  {
   "cell_type": "markdown",
   "metadata": {},
   "source": [
    "# Temporal FE (new variables)"
   ]
  },
  {
   "cell_type": "code",
   "execution_count": 669,
   "metadata": {},
   "outputs": [
    {
     "data": {
      "text/plain": [
       "array(['1 - Alto', '4 - Otro', '3 - Bajo', '2 - Medio'], dtype=object)"
      ]
     },
     "execution_count": 669,
     "metadata": {},
     "output_type": "execute_result"
    }
   ],
   "source": [
    "df_base['riesgo'].unique()"
   ]
  },
  {
   "cell_type": "code",
   "execution_count": 670,
   "metadata": {},
   "outputs": [],
   "source": [
    "# Create new column riesgo, labeling the values to numbers (integers)\n",
    "\n",
    "df_base[\"riesgo_int\"] = df_base[\"riesgo\"].replace({\n",
    "    \"1 - Alto\": 1,\n",
    "    \"2 - Medio\": 2,\n",
    "    \"3 - Bajo\": 3,\n",
    "    \"4 - Otro\": 4\n",
    "})"
   ]
  },
  {
   "cell_type": "code",
   "execution_count": 671,
   "metadata": {},
   "outputs": [
    {
     "data": {
      "text/plain": [
       "2    1117\n",
       "4    1112\n",
       "3     430\n",
       "1     346\n",
       "Name: riesgo_int, dtype: int64"
      ]
     },
     "execution_count": 671,
     "metadata": {},
     "output_type": "execute_result"
    }
   ],
   "source": [
    "df_base[\"riesgo_int\"].value_counts()"
   ]
  },
  {
   "cell_type": "code",
   "execution_count": 672,
   "metadata": {},
   "outputs": [],
   "source": [
    "# Function to combine some Activity values to create macro-activities\n",
    "def combine_occupation(value):\n",
    "    if any(char in value for char in [\"no_especificado\"]):\n",
    "        return \"no_especificado\"\n",
    "    if any(char in value for char in [\"ambulant\"]):\n",
    "        return \"comercio_ambulante\"\n",
    "    elif any(\n",
    "        char in value\n",
    "        for char in [\n",
    "            \"agrico\",\n",
    "            \"agricultura\",\n",
    "            \"agro\",\n",
    "            \"agricultor\",\n",
    "            \"culti\",\n",
    "            \"ganad\",\n",
    "            \"cerdo\",\n",
    "            \"pollo\",\n",
    "            \"vaca\" \"animal\",\n",
    "            \"cr?\",\n",
    "            \"cria\",\n",
    "            \"platano\",\n",
    "            \"banano\",\n",
    "        ]\n",
    "    ):\n",
    "        return \"agricultura_ganaderia_y_afines\"\n",
    "    elif any(\n",
    "        char in value\n",
    "        for char in [\n",
    "            \"comida\",\n",
    "            \"restau\",\n",
    "            \"alimen\",\n",
    "            \"condimento\",\n",
    "            \"cafe\",\n",
    "            \"caf?\",\n",
    "            \"frit\",\n",
    "            \"plato\",\n",
    "            \"frut\",\n",
    "            \"fruv\",\n",
    "            \"pan\",\n",
    "            \"helad\",\n",
    "            \"arepa\",\n",
    "            \"empana\",\n",
    "            \"piz\",\n",
    "            \"leche\",\n",
    "        ]\n",
    "    ):\n",
    "        return \"sector_alimenticio\"\n",
    "    elif any(char in value for char in [\"arriendo\", \"arren\", \"inmobi\", \"alquil\"]):\n",
    "        return \"arriendos_alquiler_e_inmobiliarios\"\n",
    "    elif any(char in value for char in [\"obra\", \"const\", \"interior\"]):\n",
    "        return \"construccion_obras_y_afines\"\n",
    "    elif any(\n",
    "        char in value for char in [\"confecc\", \"modist\", \"sastr\", \"costur\", \"prenda\"]\n",
    "    ):\n",
    "        return \"confeccion_y_afines\"\n",
    "    elif any(\n",
    "        char in value for char in [\"venta\", \"vta\", \"comercio\", \"mercancia\", \"comerci\"]\n",
    "    ):\n",
    "        return \"comercio_y_ventas_general\"\n",
    "    elif any(char in value for char in [\"tienda\", \"almac\", \"supermer\", \"abarro\"]):\n",
    "        return \"tiendas_y_almacenes_varios\"\n",
    "    elif any(\n",
    "        char in value\n",
    "        for char in [\n",
    "            \"mecan\",\n",
    "            \"autom\",\n",
    "            \"metal\",\n",
    "            \"tecnico\",\n",
    "            \"t?cni\",\n",
    "            \"electri\",\n",
    "            \"soldad\",\n",
    "            \"pint\",\n",
    "            \"laton\",\n",
    "            \"taller\",\n",
    "            \"manteni\",\n",
    "            \"reparaci\",\n",
    "            \"arregl\",\n",
    "            \"ebanist\",\n",
    "            \"herr\",\n",
    "            \"plome\",\n",
    "            \"artesan\",\n",
    "        ]\n",
    "    ):\n",
    "        return \"oficios_tecnicos_y_manuales\"\n",
    "    elif any(\n",
    "        char in value for char in [\"transp\", \"trasp\", \"taxi\", \"bus\", \"vehicu\", \"moto\"]\n",
    "    ):\n",
    "        return \"transporte_y_vehiculos\"\n",
    "    elif any(\n",
    "        char in value\n",
    "        for char in [\n",
    "            \"manicur\",\n",
    "            \"peluq\",\n",
    "            \"bell\",\n",
    "            \"unas\",\n",
    "            \"u?as\",\n",
    "            \"spa\",\n",
    "            \"pein\",\n",
    "            \"estili\",\n",
    "            \"maquill\",\n",
    "            \"barber\",\n",
    "            \"masaj\",\n",
    "            \"depil\",\n",
    "            \"esteti\",\n",
    "        ]\n",
    "    ):\n",
    "        return \"belleza_y_estetica\"\n",
    "    elif any(\n",
    "        char in value for char in [\"enferm\", \"medic\", \"salud\", \"drog\", \"farm\", \"hospi\"]\n",
    "    ):\n",
    "        return \"salud_y_afines\"\n",
    "    elif any(\n",
    "        char in value\n",
    "        for char in [\"educ\", \"escol\", \"refuer\", \"univ\", \"coleg\", \"clase\", \"docen\"]\n",
    "    ):\n",
    "        return \"servicios_educativos\"\n",
    "    elif any(char in value for char in [\"aseo\", \"limpieza\", \"aseador\"]):\n",
    "        return \"servicios_de_limpieza\"\n",
    "    # elif any(\n",
    "    #     char in value\n",
    "    #     for char in [\"eria\", \"aria\", \"vario\", \"guada\", \"miscel\", \"publici\"]\n",
    "    # ):\n",
    "    #     return \"otros_comercios_servicios_oficios\"\n",
    "    else:\n",
    "        return \"otros\"\n",
    "\n",
    "\n",
    "df_base[\"actividad_v2\"] = df_base[\"actividad\"].apply(combine_occupation)\n",
    "\n",
    "# To check all the activities that have \"venta\" or \"vta\" or \"comercio\" or \"mercancia\" or \"comerci\" in the name\n",
    "# pd.Series([x for x in df_base[\"actividad\"] if any(char in x for char in [\"venta\", \"vta\", \"comercio\",\"mercancia\",\"comerci\"])]).unique()"
   ]
  },
  {
   "cell_type": "code",
   "execution_count": 673,
   "metadata": {},
   "outputs": [
    {
     "name": "stdout",
     "output_type": "stream",
     "text": [
      "Number of different activities (Version2) values: 16\n",
      "Number of nan values: 0\n",
      "\n",
      "Activities (Version2) with more than one record:\n"
     ]
    },
    {
     "data": {
      "text/plain": [
       "otros                                 666\n",
       "comercio_y_ventas_general             648\n",
       "sector_alimenticio                    408\n",
       "tiendas_y_almacenes_varios            199\n",
       "agricultura_ganaderia_y_afines        194\n",
       "oficios_tecnicos_y_manuales           169\n",
       "belleza_y_estetica                    156\n",
       "confeccion_y_afines                   142\n",
       "arriendos_alquiler_e_inmobiliarios    127\n",
       "construccion_obras_y_afines            97\n",
       "transporte_y_vehiculos                 69\n",
       "no_especificado                        51\n",
       "salud_y_afines                         36\n",
       "servicios_educativos                   17\n",
       "comercio_ambulante                     15\n",
       "servicios_de_limpieza                  11\n",
       "Name: actividad_v2, dtype: int64"
      ]
     },
     "execution_count": 673,
     "metadata": {},
     "output_type": "execute_result"
    }
   ],
   "source": [
    "num_dif = df_base[\"actividad_v2\"].nunique()\n",
    "print(f'Number of different activities (Version2) values: {num_dif}')\n",
    "print(f'Number of nan values: {df_base[\"actividad_v2\"].isna().sum()}')\n",
    "\n",
    "temp = df_base[\"actividad_v2\"].value_counts()\n",
    "print(f\"\\nActivities (Version2) with more than one record:\")\n",
    "temp"
   ]
  },
  {
   "cell_type": "markdown",
   "metadata": {},
   "source": [
    "# Final result"
   ]
  },
  {
   "cell_type": "code",
   "execution_count": 590,
   "metadata": {},
   "outputs": [
    {
     "name": "stdout",
     "output_type": "stream",
     "text": [
      "<class 'pandas.core.frame.DataFrame'>\n",
      "Int64Index: 3005 entries, 0 to 3918\n",
      "Data columns (total 23 columns):\n",
      " #   Column                   Non-Null Count  Dtype         \n",
      "---  ------                   --------------  -----         \n",
      " 0   cliente                  3004 non-null   object        \n",
      " 1   analista                 3005 non-null   object        \n",
      " 2   tipo_credito             3005 non-null   object        \n",
      " 3   fecha_desembolso         3002 non-null   datetime64[ns]\n",
      " 4   visita_analista_credito  2194 non-null   datetime64[ns]\n",
      " 5   actividad                3005 non-null   object        \n",
      " 6   monto                    3005 non-null   float64       \n",
      " 7   cuota                    3005 non-null   float64       \n",
      " 8   plazo                    3005 non-null   int64         \n",
      " 9   categoria                3005 non-null   object        \n",
      " 10  hallazgo                 3005 non-null   object        \n",
      " 11  tipo_hallazgo            3005 non-null   object        \n",
      " 12  riesgo                   3005 non-null   object        \n",
      " 13  calificacion_cartera     3005 non-null   object        \n",
      " 14  relaciones_laborales     3005 non-null   object        \n",
      " 15  oficina                  3005 non-null   object        \n",
      " 16  zona                     3005 non-null   int64         \n",
      " 17  regional                 3005 non-null   int64         \n",
      " 18  estado                   3005 non-null   object        \n",
      " 19  year                     3005 non-null   int64         \n",
      " 20  tipo                     3005 non-null   object        \n",
      " 21  actividad_v2             3005 non-null   object        \n",
      " 22  riesgo_int               3005 non-null   int64         \n",
      "dtypes: datetime64[ns](2), float64(2), int64(5), object(14)\n",
      "memory usage: 563.4+ KB\n"
     ]
    }
   ],
   "source": [
    "df_base.info()"
   ]
  },
  {
   "cell_type": "code",
   "execution_count": 591,
   "metadata": {},
   "outputs": [],
   "source": [
    "# move the actividad_v2 column next to actividad\n",
    "df_base = df_base[[\"cliente\", \"analista\", \"tipo_credito\", \"actividad\", \"actividad_v2\", \"monto\", \"cuota\", \"plazo\", \"fecha_desembolso\", \"visita_analista_credito\", \"categoria\", \"hallazgo\", \"tipo_hallazgo\", \"calificacion_cartera\", \"relaciones_laborales\", \"oficina\", \"zona\", \"regional\", \"estado\", \"year\", \"tipo\",\"riesgo\",\"riesgo_int\"]]"
   ]
  },
  {
   "cell_type": "code",
   "execution_count": 592,
   "metadata": {},
   "outputs": [
    {
     "data": {
      "text/html": [
       "<div>\n",
       "<style scoped>\n",
       "    .dataframe tbody tr th:only-of-type {\n",
       "        vertical-align: middle;\n",
       "    }\n",
       "\n",
       "    .dataframe tbody tr th {\n",
       "        vertical-align: top;\n",
       "    }\n",
       "\n",
       "    .dataframe thead th {\n",
       "        text-align: right;\n",
       "    }\n",
       "</style>\n",
       "<table border=\"1\" class=\"dataframe\">\n",
       "  <thead>\n",
       "    <tr style=\"text-align: right;\">\n",
       "      <th></th>\n",
       "      <th>cliente</th>\n",
       "      <th>analista</th>\n",
       "      <th>tipo_credito</th>\n",
       "      <th>actividad</th>\n",
       "      <th>actividad_v2</th>\n",
       "      <th>monto</th>\n",
       "      <th>cuota</th>\n",
       "      <th>plazo</th>\n",
       "      <th>fecha_desembolso</th>\n",
       "      <th>visita_analista_credito</th>\n",
       "      <th>categoria</th>\n",
       "      <th>hallazgo</th>\n",
       "      <th>tipo_hallazgo</th>\n",
       "      <th>calificacion_cartera</th>\n",
       "      <th>relaciones_laborales</th>\n",
       "      <th>oficina</th>\n",
       "      <th>zona</th>\n",
       "      <th>regional</th>\n",
       "      <th>estado</th>\n",
       "      <th>year</th>\n",
       "      <th>tipo</th>\n",
       "      <th>riesgo</th>\n",
       "      <th>riesgo_int</th>\n",
       "    </tr>\n",
       "  </thead>\n",
       "  <tbody>\n",
       "    <tr>\n",
       "      <th>1225</th>\n",
       "      <td>Hernandez Agudelo Oscar                       ...</td>\n",
       "      <td>CXF</td>\n",
       "      <td>No_especificado</td>\n",
       "      <td>venta_de_frutas_y_verduras</td>\n",
       "      <td>sector_alimenticio</td>\n",
       "      <td>800000.0</td>\n",
       "      <td>168168.0</td>\n",
       "      <td>8</td>\n",
       "      <td>2022-05-28</td>\n",
       "      <td>2022-05-27</td>\n",
       "      <td>otras_politicas</td>\n",
       "      <td>formato de vinculacion con campos en blanco y/...</td>\n",
       "      <td>incumple_p&amp;p</td>\n",
       "      <td>No</td>\n",
       "      <td>no_especificado</td>\n",
       "      <td>tulua calle 25</td>\n",
       "      <td>3</td>\n",
       "      <td>1</td>\n",
       "      <td>cancelada</td>\n",
       "      <td>2022</td>\n",
       "      <td>otros hallazgos</td>\n",
       "      <td>2 - Medio</td>\n",
       "      <td>2</td>\n",
       "    </tr>\n",
       "    <tr>\n",
       "      <th>3901</th>\n",
       "      <td>Carlos Mario Lopera Eusse</td>\n",
       "      <td>JPR</td>\n",
       "      <td>Preferencial</td>\n",
       "      <td>video_juegos</td>\n",
       "      <td>otros</td>\n",
       "      <td>2558540.0</td>\n",
       "      <td>277413.0</td>\n",
       "      <td>18</td>\n",
       "      <td>2024-07-06</td>\n",
       "      <td>2024-07-03</td>\n",
       "      <td>otras_politicas</td>\n",
       "      <td>formato de vinculacion con campos en blanco y/...</td>\n",
       "      <td>incumple_p&amp;p</td>\n",
       "      <td>No</td>\n",
       "      <td>No</td>\n",
       "      <td>buenaventura</td>\n",
       "      <td>4</td>\n",
       "      <td>1</td>\n",
       "      <td>no_especificado</td>\n",
       "      <td>2024</td>\n",
       "      <td>no_especificado</td>\n",
       "      <td>2 - Medio</td>\n",
       "      <td>2</td>\n",
       "    </tr>\n",
       "    <tr>\n",
       "      <th>3490</th>\n",
       "      <td>Jose Napoleon Garcia Sotomayor</td>\n",
       "      <td>NBP</td>\n",
       "      <td>Renovacion</td>\n",
       "      <td>venta_de_mercanc?as_ropa</td>\n",
       "      <td>comercio_y_ventas_general</td>\n",
       "      <td>12157376.0</td>\n",
       "      <td>978704.0</td>\n",
       "      <td>24</td>\n",
       "      <td>2024-03-27</td>\n",
       "      <td>NaT</td>\n",
       "      <td>sin_hallazgo</td>\n",
       "      <td>sin hallazgo</td>\n",
       "      <td>sin hallazgo</td>\n",
       "      <td>No</td>\n",
       "      <td>No</td>\n",
       "      <td>maicao</td>\n",
       "      <td>15</td>\n",
       "      <td>4</td>\n",
       "      <td>no_especificado</td>\n",
       "      <td>2024</td>\n",
       "      <td>no_especificado</td>\n",
       "      <td>4 - Otro</td>\n",
       "      <td>4</td>\n",
       "    </tr>\n",
       "    <tr>\n",
       "      <th>2244</th>\n",
       "      <td>Luz Esneda Ortiz Gonzalez</td>\n",
       "      <td>KAU</td>\n",
       "      <td>Renovacion</td>\n",
       "      <td>servicios_domesticos</td>\n",
       "      <td>otros</td>\n",
       "      <td>3175976.0</td>\n",
       "      <td>252439.0</td>\n",
       "      <td>24</td>\n",
       "      <td>2023-04-25</td>\n",
       "      <td>2023-04-25</td>\n",
       "      <td>flujo_de_caja</td>\n",
       "      <td>diferencias en flujos de caja que afectan la l...</td>\n",
       "      <td>fallas en la metodologia</td>\n",
       "      <td>Si</td>\n",
       "      <td>No</td>\n",
       "      <td>rionegro</td>\n",
       "      <td>8</td>\n",
       "      <td>3</td>\n",
       "      <td>cancelada</td>\n",
       "      <td>2023</td>\n",
       "      <td>otros hallazgos</td>\n",
       "      <td>2 - Medio</td>\n",
       "      <td>2</td>\n",
       "    </tr>\n",
       "    <tr>\n",
       "      <th>2755</th>\n",
       "      <td>Gloriceth  Tarras Urango</td>\n",
       "      <td>LGA</td>\n",
       "      <td>Nuevo</td>\n",
       "      <td>venta_de_cerdo_y_carima?olas</td>\n",
       "      <td>agricultura_ganaderia_y_afines</td>\n",
       "      <td>2178200.0</td>\n",
       "      <td>235048.0</td>\n",
       "      <td>18</td>\n",
       "      <td>2023-11-17</td>\n",
       "      <td>2023-11-17</td>\n",
       "      <td>otras_politicas</td>\n",
       "      <td>formato de vinculacion con campos en blanco y/...</td>\n",
       "      <td>incumple_p&amp;p</td>\n",
       "      <td>No</td>\n",
       "      <td>No</td>\n",
       "      <td>cereté</td>\n",
       "      <td>15</td>\n",
       "      <td>5</td>\n",
       "      <td>normal</td>\n",
       "      <td>2023</td>\n",
       "      <td>otros hallazgos</td>\n",
       "      <td>2 - Medio</td>\n",
       "      <td>2</td>\n",
       "    </tr>\n",
       "  </tbody>\n",
       "</table>\n",
       "</div>"
      ],
      "text/plain": [
       "                                                cliente analista  \\\n",
       "1225  Hernandez Agudelo Oscar                       ...      CXF   \n",
       "3901                          Carlos Mario Lopera Eusse      JPR   \n",
       "3490                     Jose Napoleon Garcia Sotomayor      NBP   \n",
       "2244                          Luz Esneda Ortiz Gonzalez      KAU   \n",
       "2755                           Gloriceth  Tarras Urango      LGA   \n",
       "\n",
       "         tipo_credito                     actividad  \\\n",
       "1225  No_especificado    venta_de_frutas_y_verduras   \n",
       "3901     Preferencial                  video_juegos   \n",
       "3490       Renovacion      venta_de_mercanc?as_ropa   \n",
       "2244       Renovacion          servicios_domesticos   \n",
       "2755            Nuevo  venta_de_cerdo_y_carima?olas   \n",
       "\n",
       "                        actividad_v2       monto     cuota  plazo  \\\n",
       "1225              sector_alimenticio    800000.0  168168.0      8   \n",
       "3901                           otros   2558540.0  277413.0     18   \n",
       "3490       comercio_y_ventas_general  12157376.0  978704.0     24   \n",
       "2244                           otros   3175976.0  252439.0     24   \n",
       "2755  agricultura_ganaderia_y_afines   2178200.0  235048.0     18   \n",
       "\n",
       "     fecha_desembolso visita_analista_credito        categoria  \\\n",
       "1225       2022-05-28              2022-05-27  otras_politicas   \n",
       "3901       2024-07-06              2024-07-03  otras_politicas   \n",
       "3490       2024-03-27                     NaT     sin_hallazgo   \n",
       "2244       2023-04-25              2023-04-25    flujo_de_caja   \n",
       "2755       2023-11-17              2023-11-17  otras_politicas   \n",
       "\n",
       "                                               hallazgo  \\\n",
       "1225  formato de vinculacion con campos en blanco y/...   \n",
       "3901  formato de vinculacion con campos en blanco y/...   \n",
       "3490                                       sin hallazgo   \n",
       "2244  diferencias en flujos de caja que afectan la l...   \n",
       "2755  formato de vinculacion con campos en blanco y/...   \n",
       "\n",
       "                 tipo_hallazgo calificacion_cartera relaciones_laborales  \\\n",
       "1225              incumple_p&p                   No      no_especificado   \n",
       "3901              incumple_p&p                   No                   No   \n",
       "3490              sin hallazgo                   No                   No   \n",
       "2244  fallas en la metodologia                   Si                   No   \n",
       "2755              incumple_p&p                   No                   No   \n",
       "\n",
       "             oficina  zona  regional           estado  year             tipo  \\\n",
       "1225  tulua calle 25     3         1        cancelada  2022  otros hallazgos   \n",
       "3901    buenaventura     4         1  no_especificado  2024  no_especificado   \n",
       "3490          maicao    15         4  no_especificado  2024  no_especificado   \n",
       "2244        rionegro     8         3        cancelada  2023  otros hallazgos   \n",
       "2755          cereté    15         5           normal  2023  otros hallazgos   \n",
       "\n",
       "         riesgo  riesgo_int  \n",
       "1225  2 - Medio           2  \n",
       "3901  2 - Medio           2  \n",
       "3490   4 - Otro           4  \n",
       "2244  2 - Medio           2  \n",
       "2755  2 - Medio           2  "
      ]
     },
     "execution_count": 592,
     "metadata": {},
     "output_type": "execute_result"
    }
   ],
   "source": [
    "df_base.sample(5)"
   ]
  },
  {
   "cell_type": "markdown",
   "metadata": {},
   "source": [
    "# Export clean data"
   ]
  },
  {
   "cell_type": "code",
   "execution_count": 595,
   "metadata": {},
   "outputs": [],
   "source": [
    "# # Export df_base to output DIR --- AWARE-ONLY WHEN NEEDED\n",
    "# OUTPUT_FILE = os.path.join(OUTPUT_DIR, \"hallazgos_clean.xlsx\")\n",
    "# df_base.to_excel(OUTPUT_FILE)"
   ]
  },
  {
   "cell_type": "code",
   "execution_count": null,
   "metadata": {},
   "outputs": [],
   "source": []
  }
 ],
 "metadata": {
  "kernelspec": {
   "display_name": "base",
   "language": "python",
   "name": "python3"
  },
  "language_info": {
   "codemirror_mode": {
    "name": "ipython",
    "version": 3
   },
   "file_extension": ".py",
   "mimetype": "text/x-python",
   "name": "python",
   "nbconvert_exporter": "python",
   "pygments_lexer": "ipython3",
   "version": "3.10.9"
  }
 },
 "nbformat": 4,
 "nbformat_minor": 2
}
