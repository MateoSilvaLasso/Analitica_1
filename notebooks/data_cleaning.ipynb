{
 "cells": [
  {
   "cell_type": "markdown",
   "metadata": {},
   "source": [
    "# Context\n",
    "\n",
    "In this notebook we will do some data cleaning and data preprocessing in order to fix some issues of the data and prepare it to further analysis and modelling. Moreover, we will create some new variables to improve our future analysis."
   ]
  },
  {
   "cell_type": "markdown",
   "metadata": {},
   "source": [
    "# Load packages"
   ]
  },
  {
   "cell_type": "code",
   "execution_count": 1,
   "metadata": {},
   "outputs": [],
   "source": [
    "import pandas as pd\n",
    "import numpy as np\n",
    "import matplotlib.pyplot as plt\n",
    "import seaborn as sns\n",
    "import datetime\n",
    "import random\n",
    "import os\n",
    "from unidecode import unidecode  # Library to remove accents\n",
    "\n",
    "\n",
    "pd.options.display.max_columns = 100\n",
    "pd.options.display.max_rows = 100\n"
   ]
  },
  {
   "cell_type": "markdown",
   "metadata": {},
   "source": [
    "# Load data\n",
    "\n",
    "using relative paths"
   ]
  },
  {
   "cell_type": "code",
   "execution_count": null,
   "metadata": {},
   "outputs": [
    {
     "name": "stdout",
     "output_type": "stream",
     "text": [
      "Current file name: data_preprocessing.ipynb\n",
      "\n",
      "Current absolute path: c:\\Users\\jhona\\Dropbox\\ASPECTOS MAESTRIA\\Retos_maestria\\Reto_bancow\\Analitica_1\\notebooks\n",
      "BASE_DIR: c:\\Users\\jhona\\Dropbox\\ASPECTOS MAESTRIA\\Retos_maestria\\Reto_bancow\\Analitica_1\n",
      "DATA_DIR: c:\\Users\\jhona\\Dropbox\\ASPECTOS MAESTRIA\\Retos_maestria\\Reto_bancow\\Analitica_1\\Data\n",
      "OUTPUT_DIR: c:\\Users\\jhona\\Dropbox\\ASPECTOS MAESTRIA\\Retos_maestria\\Reto_bancow\\Analitica_1\\Data\\output_data\n"
     ]
    }
   ],
   "source": [
    "filename = \"data_cleaning.ipynb\" # Current file name\n",
    "print(f'Current file name: {filename}\\n')\n",
    "print(f'Current absolute path: {os.getcwd()}')\n",
    "\n",
    "# Specify the paths, relative to the current file\n",
    "NOTEBOOKS_DIR = os.path.dirname(os.path.abspath(filename))\n",
    "BASE_DIR = os.path.dirname(NOTEBOOKS_DIR)\n",
    "DATA_DIR = os.path.join(BASE_DIR, \"Data\")\n",
    "OUTPUT_DIR = os.path.join(DATA_DIR, \"output_data\")\n",
    "\n",
    "print(f'BASE_DIR: {BASE_DIR}')\n",
    "print(f'DATA_DIR: {DATA_DIR}')\n",
    "print(f'OUTPUT_DIR: {OUTPUT_DIR}')"
   ]
  },
  {
   "cell_type": "code",
   "execution_count": 3,
   "metadata": {},
   "outputs": [
    {
     "data": {
      "text/html": [
       "<div>\n",
       "<style scoped>\n",
       "    .dataframe tbody tr th:only-of-type {\n",
       "        vertical-align: middle;\n",
       "    }\n",
       "\n",
       "    .dataframe tbody tr th {\n",
       "        vertical-align: top;\n",
       "    }\n",
       "\n",
       "    .dataframe thead th {\n",
       "        text-align: right;\n",
       "    }\n",
       "</style>\n",
       "<table border=\"1\" class=\"dataframe\">\n",
       "  <thead>\n",
       "    <tr style=\"text-align: right;\">\n",
       "      <th></th>\n",
       "      <th>Num</th>\n",
       "      <th>ID_modif</th>\n",
       "      <th>Cliente</th>\n",
       "      <th>Analista</th>\n",
       "      <th>Nombre analista</th>\n",
       "      <th>Tipo crédito</th>\n",
       "      <th>Fecha desem</th>\n",
       "      <th>Visita_analista_crédito</th>\n",
       "      <th>Visita_auditor</th>\n",
       "      <th>Actividad</th>\n",
       "      <th>Monto</th>\n",
       "      <th>Cuota</th>\n",
       "      <th>Plazo</th>\n",
       "      <th>Categoria</th>\n",
       "      <th>Hallazgo</th>\n",
       "      <th>Tipo hallazgo</th>\n",
       "      <th>Riesgo</th>\n",
       "      <th>Calificación cartera</th>\n",
       "      <th>Relaciones Laborales</th>\n",
       "      <th>Oficina</th>\n",
       "      <th>zona</th>\n",
       "      <th>Regional</th>\n",
       "      <th>Validación unico</th>\n",
       "      <th>Tipo analisis</th>\n",
       "      <th>Clasificac analisis</th>\n",
       "      <th>Estado</th>\n",
       "      <th>Año</th>\n",
       "      <th>Tipo</th>\n",
       "    </tr>\n",
       "  </thead>\n",
       "  <tbody>\n",
       "    <tr>\n",
       "      <th>0</th>\n",
       "      <td>1</td>\n",
       "      <td>7252440</td>\n",
       "      <td>Hector Julio Pabon Castano</td>\n",
       "      <td>AIZ</td>\n",
       "      <td>Juan Alejandro Trujillo Garcia</td>\n",
       "      <td>Renovacion</td>\n",
       "      <td>2021-06-11 00:00:00</td>\n",
       "      <td>NaN</td>\n",
       "      <td>2022-09-20 00:00:00</td>\n",
       "      <td>don patacon postobon</td>\n",
       "      <td>15069.268</td>\n",
       "      <td>792.642</td>\n",
       "      <td>36</td>\n",
       "      <td>FRAUDE_Y_PRÁCTICAS_INDEBIDAS</td>\n",
       "      <td>Crédito otorgado a mas de un titular con el mi...</td>\n",
       "      <td>Acto Irregular</td>\n",
       "      <td>1 - Alto</td>\n",
       "      <td>Si</td>\n",
       "      <td>Si</td>\n",
       "      <td>Dosquebradas</td>\n",
       "      <td>12</td>\n",
       "      <td>4</td>\n",
       "      <td>NaN</td>\n",
       "      <td>NaN</td>\n",
       "      <td>NaN</td>\n",
       "      <td>Cancelada</td>\n",
       "      <td>2022</td>\n",
       "      <td>Afecta Estabilidad</td>\n",
       "    </tr>\n",
       "    <tr>\n",
       "      <th>1</th>\n",
       "      <td>2</td>\n",
       "      <td>1143936676</td>\n",
       "      <td>Casas Marisol                                 ...</td>\n",
       "      <td>JQQ</td>\n",
       "      <td>Alexander Joaqui Quintero</td>\n",
       "      <td>Renovacion</td>\n",
       "      <td>2021-06-15 00:00:00</td>\n",
       "      <td>2021-06-08 00:00:00</td>\n",
       "      <td>NaN</td>\n",
       "      <td>expendio de comidas preparadas en cafeterias  ...</td>\n",
       "      <td>402.000</td>\n",
       "      <td>209.228</td>\n",
       "      <td>626</td>\n",
       "      <td>FRAUDE_Y_PRÁCTICAS_INDEBIDAS</td>\n",
       "      <td>Presunto negocio inexistente</td>\n",
       "      <td>Acto Irregular</td>\n",
       "      <td>1 - Alto</td>\n",
       "      <td>No</td>\n",
       "      <td>Si</td>\n",
       "      <td>Poblado</td>\n",
       "      <td>1</td>\n",
       "      <td>1</td>\n",
       "      <td>NaN</td>\n",
       "      <td>NaN</td>\n",
       "      <td>NaN</td>\n",
       "      <td>Castigo</td>\n",
       "      <td>2022</td>\n",
       "      <td>Afecta Estabilidad</td>\n",
       "    </tr>\n",
       "  </tbody>\n",
       "</table>\n",
       "</div>"
      ],
      "text/plain": [
       "   Num    ID_modif                                            Cliente  \\\n",
       "0    1     7252440                         Hector Julio Pabon Castano   \n",
       "1    2  1143936676  Casas Marisol                                 ...   \n",
       "\n",
       "  Analista                 Nombre analista Tipo crédito          Fecha desem  \\\n",
       "0      AIZ  Juan Alejandro Trujillo Garcia   Renovacion  2021-06-11 00:00:00   \n",
       "1      JQQ       Alexander Joaqui Quintero   Renovacion  2021-06-15 00:00:00   \n",
       "\n",
       "  Visita_analista_crédito       Visita_auditor  \\\n",
       "0                     NaN  2022-09-20 00:00:00   \n",
       "1     2021-06-08 00:00:00                  NaN   \n",
       "\n",
       "                                           Actividad      Monto    Cuota  \\\n",
       "0                               don patacon postobon  15069.268  792.642   \n",
       "1  expendio de comidas preparadas en cafeterias  ...    402.000  209.228   \n",
       "\n",
       "   Plazo                     Categoria  \\\n",
       "0     36  FRAUDE_Y_PRÁCTICAS_INDEBIDAS   \n",
       "1    626  FRAUDE_Y_PRÁCTICAS_INDEBIDAS   \n",
       "\n",
       "                                            Hallazgo   Tipo hallazgo  \\\n",
       "0  Crédito otorgado a mas de un titular con el mi...  Acto Irregular   \n",
       "1                       Presunto negocio inexistente  Acto Irregular   \n",
       "\n",
       "     Riesgo Calificación cartera Relaciones Laborales      Oficina   zona   \\\n",
       "0  1 - Alto                   Si                   Si  Dosquebradas     12   \n",
       "1  1 - Alto                   No                   Si       Poblado      1   \n",
       "\n",
       "   Regional Validación unico Tipo analisis  Clasificac analisis  \\\n",
       "0         4              NaN            NaN                 NaN   \n",
       "1         1              NaN            NaN                 NaN   \n",
       "\n",
       "                           Estado   Año                Tipo  \n",
       "0  Cancelada                       2022  Afecta Estabilidad  \n",
       "1  Castigo                         2022  Afecta Estabilidad  "
      ]
     },
     "execution_count": 3,
     "metadata": {},
     "output_type": "execute_result"
    }
   ],
   "source": [
    "df_base = pd.read_excel(os.path.join(DATA_DIR, \"historico_hallazgos.xlsx\"))\n",
    "df_base.head(2)"
   ]
  },
  {
   "cell_type": "markdown",
   "metadata": {},
   "source": [
    "# Overall check\n",
    "\n",
    "Reviewing the columns, we can gather valuable information about the data and the context, in order to know how to develop an EDA and ML project.  \n",
    "We can also clean the columns data, in order to have valuable information."
   ]
  },
  {
   "cell_type": "code",
   "execution_count": 4,
   "metadata": {},
   "outputs": [
    {
     "name": "stdout",
     "output_type": "stream",
     "text": [
      "<class 'pandas.core.frame.DataFrame'>\n",
      "RangeIndex: 3919 entries, 0 to 3918\n",
      "Data columns (total 28 columns):\n",
      " #   Column                   Non-Null Count  Dtype  \n",
      "---  ------                   --------------  -----  \n",
      " 0   Num                      3919 non-null   int64  \n",
      " 1   ID_modif                 3919 non-null   int64  \n",
      " 2   Cliente                  3918 non-null   object \n",
      " 3   Analista                 3919 non-null   object \n",
      " 4   Nombre analista          3919 non-null   object \n",
      " 5   Tipo crédito             3717 non-null   object \n",
      " 6   Fecha desem              3916 non-null   object \n",
      " 7   Visita_analista_crédito  3119 non-null   object \n",
      " 8   Visita_auditor           3800 non-null   object \n",
      " 9   Actividad                3867 non-null   object \n",
      " 10  Monto                    3919 non-null   float64\n",
      " 11  Cuota                    3919 non-null   object \n",
      " 12  Plazo                    3919 non-null   int64  \n",
      " 13  Categoria                3919 non-null   object \n",
      " 14  Hallazgo                 3917 non-null   object \n",
      " 15  Tipo hallazgo            3918 non-null   object \n",
      " 16  Riesgo                   3915 non-null   object \n",
      " 17  Calificación cartera     3889 non-null   object \n",
      " 18  Relaciones Laborales     3423 non-null   object \n",
      " 19  Oficina                  3919 non-null   object \n",
      " 20  zona                     3919 non-null   int64  \n",
      " 21  Regional                 3919 non-null   int64  \n",
      " 22  Validación unico         247 non-null    object \n",
      " 23  Tipo analisis            2397 non-null   object \n",
      " 24  Clasificac analisis      2397 non-null   object \n",
      " 25  Estado                   2786 non-null   object \n",
      " 26  Año                      3919 non-null   int64  \n",
      " 27  Tipo                     2786 non-null   object \n",
      "dtypes: float64(1), int64(6), object(21)\n",
      "memory usage: 857.4+ KB\n"
     ]
    }
   ],
   "source": [
    "df_base.info()"
   ]
  },
  {
   "cell_type": "markdown",
   "metadata": {},
   "source": [
    "--> In this context, isnt necessary to use columns like \"Num\" & \"ID_modif\" because they are not relevant for the analysis. So, we **will eliminate it**.\n"
   ]
  },
  {
   "cell_type": "code",
   "execution_count": 5,
   "metadata": {},
   "outputs": [],
   "source": [
    "df = df_base.drop(columns=[\"Num\", \"ID_modif\"])"
   ]
  },
  {
   "cell_type": "markdown",
   "metadata": {},
   "source": [
    "## Cliente"
   ]
  },
  {
   "cell_type": "code",
   "execution_count": 6,
   "metadata": {},
   "outputs": [
    {
     "name": "stdout",
     "output_type": "stream",
     "text": [
      "Number of different clients: 3459\n",
      "Number of clients with more than one record: 229\n",
      "\n",
      "Clients with more than one record:\n"
     ]
    },
    {
     "data": {
      "text/plain": [
       "Cliente\n",
       "Jose Manuel Arroyo Benavides               7\n",
       "Hector Angel Ochoa Caballero               6\n",
       "Enith  Garcia Vanegas                      6\n",
       "Maria Eugenia Velasco Causaya              6\n",
       "Bairon Alejandro Toro Osuna                6\n",
       "                                          ..\n",
       "Carolina  Quintana Valencia                2\n",
       "Daniela  Serrano Aguirre                   2\n",
       "Carlos Julio Yaguara Guevara               2\n",
       "Alvaro  Mafla Ruiz                         2\n",
       "Marleny Del Socorro Jaramillo Casta?Eda    2\n",
       "Name: count, Length: 229, dtype: int64"
      ]
     },
     "execution_count": 6,
     "metadata": {},
     "output_type": "execute_result"
    }
   ],
   "source": [
    "num_dif = df.Cliente.nunique()\n",
    "print(f'Number of different clients: {num_dif}')\n",
    "\n",
    "temp = df.Cliente.value_counts()\n",
    "temp = temp[temp > 1]\n",
    "print(f'Number of clients with more than one record: {len(temp)}')\n",
    "print(f'\\nClients with more than one record:')\n",
    "temp"
   ]
  },
  {
   "cell_type": "code",
   "execution_count": 7,
   "metadata": {},
   "outputs": [
    {
     "name": "stdout",
     "output_type": "stream",
     "text": [
      "Example of one client with more than one record:\n",
      "\n"
     ]
    },
    {
     "data": {
      "text/html": [
       "<div>\n",
       "<style scoped>\n",
       "    .dataframe tbody tr th:only-of-type {\n",
       "        vertical-align: middle;\n",
       "    }\n",
       "\n",
       "    .dataframe tbody tr th {\n",
       "        vertical-align: top;\n",
       "    }\n",
       "\n",
       "    .dataframe thead th {\n",
       "        text-align: right;\n",
       "    }\n",
       "</style>\n",
       "<table border=\"1\" class=\"dataframe\">\n",
       "  <thead>\n",
       "    <tr style=\"text-align: right;\">\n",
       "      <th></th>\n",
       "      <th>Cliente</th>\n",
       "      <th>Analista</th>\n",
       "      <th>Nombre analista</th>\n",
       "      <th>Tipo crédito</th>\n",
       "      <th>Fecha desem</th>\n",
       "      <th>Visita_analista_crédito</th>\n",
       "      <th>Visita_auditor</th>\n",
       "      <th>Actividad</th>\n",
       "      <th>Monto</th>\n",
       "      <th>Cuota</th>\n",
       "      <th>Plazo</th>\n",
       "      <th>Categoria</th>\n",
       "      <th>Hallazgo</th>\n",
       "      <th>Tipo hallazgo</th>\n",
       "      <th>Riesgo</th>\n",
       "      <th>Calificación cartera</th>\n",
       "      <th>Relaciones Laborales</th>\n",
       "      <th>Oficina</th>\n",
       "      <th>zona</th>\n",
       "      <th>Regional</th>\n",
       "      <th>Validación unico</th>\n",
       "      <th>Tipo analisis</th>\n",
       "      <th>Clasificac analisis</th>\n",
       "      <th>Estado</th>\n",
       "      <th>Año</th>\n",
       "      <th>Tipo</th>\n",
       "    </tr>\n",
       "  </thead>\n",
       "  <tbody>\n",
       "    <tr>\n",
       "      <th>3471</th>\n",
       "      <td>Nelly  Munoz Vivas</td>\n",
       "      <td>ROO</td>\n",
       "      <td>Robinson Ocoro Centeno</td>\n",
       "      <td>Preferenci</td>\n",
       "      <td>2024-04-15 00:00:00</td>\n",
       "      <td>2024-04-15 00:00:00</td>\n",
       "      <td>NaN</td>\n",
       "      <td>arrendamientos</td>\n",
       "      <td>5254.384</td>\n",
       "      <td>335.892</td>\n",
       "      <td>36</td>\n",
       "      <td>Otras_Políticas</td>\n",
       "      <td>Formato de vinculación con campos en blanco y/...</td>\n",
       "      <td>Incumple\\n P &amp; P</td>\n",
       "      <td>2 - Medio</td>\n",
       "      <td>No</td>\n",
       "      <td>No</td>\n",
       "      <td>Palmira</td>\n",
       "      <td>3</td>\n",
       "      <td>1</td>\n",
       "      <td>NaN</td>\n",
       "      <td>Análisis de carácter</td>\n",
       "      <td>Políticas</td>\n",
       "      <td>NaN</td>\n",
       "      <td>2024</td>\n",
       "      <td>NaN</td>\n",
       "    </tr>\n",
       "    <tr>\n",
       "      <th>3472</th>\n",
       "      <td>Nelly  Munoz Vivas</td>\n",
       "      <td>ROO</td>\n",
       "      <td>Robinson Ocoro Centeno</td>\n",
       "      <td>Preferenci</td>\n",
       "      <td>2024-04-15 00:00:00</td>\n",
       "      <td>2024-04-15 00:00:00</td>\n",
       "      <td>NaN</td>\n",
       "      <td>arrendamientos</td>\n",
       "      <td>5254.384</td>\n",
       "      <td>335.892</td>\n",
       "      <td>36</td>\n",
       "      <td>Otras_Políticas</td>\n",
       "      <td>Formato de autorización de consulta parcialmen...</td>\n",
       "      <td>Incumple\\n P &amp; P</td>\n",
       "      <td>2 - Medio</td>\n",
       "      <td>No</td>\n",
       "      <td>No</td>\n",
       "      <td>Palmira</td>\n",
       "      <td>3</td>\n",
       "      <td>1</td>\n",
       "      <td>NaN</td>\n",
       "      <td>Análisis de carácter</td>\n",
       "      <td>Políticas</td>\n",
       "      <td>NaN</td>\n",
       "      <td>2024</td>\n",
       "      <td>NaN</td>\n",
       "    </tr>\n",
       "    <tr>\n",
       "      <th>3624</th>\n",
       "      <td>Nelly  Munoz Vivas</td>\n",
       "      <td>ROO</td>\n",
       "      <td>Robinson Ocoro Centeno</td>\n",
       "      <td>Preferenci</td>\n",
       "      <td>2024-04-15 00:00:00</td>\n",
       "      <td>2024-04-15 00:00:00</td>\n",
       "      <td>2024-05-17 10:09:54.230000</td>\n",
       "      <td>arrendamientos</td>\n",
       "      <td>5254.384</td>\n",
       "      <td>335.892</td>\n",
       "      <td>36</td>\n",
       "      <td>Controles_Administrativos_de_Agencia</td>\n",
       "      <td>Deficiencias en el análisis de comité de crédito</td>\n",
       "      <td>Incumple\\n P &amp; P</td>\n",
       "      <td>2 - Medio</td>\n",
       "      <td>No</td>\n",
       "      <td>No</td>\n",
       "      <td>Palmira</td>\n",
       "      <td>3</td>\n",
       "      <td>1</td>\n",
       "      <td>NaN</td>\n",
       "      <td>Análisis de carácter</td>\n",
       "      <td>Control</td>\n",
       "      <td>NaN</td>\n",
       "      <td>2024</td>\n",
       "      <td>NaN</td>\n",
       "    </tr>\n",
       "  </tbody>\n",
       "</table>\n",
       "</div>"
      ],
      "text/plain": [
       "                 Cliente Analista         Nombre analista Tipo crédito  \\\n",
       "3471  Nelly  Munoz Vivas      ROO  Robinson Ocoro Centeno   Preferenci   \n",
       "3472  Nelly  Munoz Vivas      ROO  Robinson Ocoro Centeno   Preferenci   \n",
       "3624  Nelly  Munoz Vivas      ROO  Robinson Ocoro Centeno   Preferenci   \n",
       "\n",
       "              Fecha desem Visita_analista_crédito              Visita_auditor  \\\n",
       "3471  2024-04-15 00:00:00     2024-04-15 00:00:00                         NaN   \n",
       "3472  2024-04-15 00:00:00     2024-04-15 00:00:00                         NaN   \n",
       "3624  2024-04-15 00:00:00     2024-04-15 00:00:00  2024-05-17 10:09:54.230000   \n",
       "\n",
       "           Actividad     Monto    Cuota  Plazo  \\\n",
       "3471  arrendamientos  5254.384  335.892     36   \n",
       "3472  arrendamientos  5254.384  335.892     36   \n",
       "3624  arrendamientos  5254.384  335.892     36   \n",
       "\n",
       "                                 Categoria  \\\n",
       "3471                       Otras_Políticas   \n",
       "3472                       Otras_Políticas   \n",
       "3624  Controles_Administrativos_de_Agencia   \n",
       "\n",
       "                                               Hallazgo     Tipo hallazgo  \\\n",
       "3471  Formato de vinculación con campos en blanco y/...  Incumple\\n P & P   \n",
       "3472  Formato de autorización de consulta parcialmen...  Incumple\\n P & P   \n",
       "3624   Deficiencias en el análisis de comité de crédito  Incumple\\n P & P   \n",
       "\n",
       "         Riesgo Calificación cartera Relaciones Laborales Oficina   zona   \\\n",
       "3471  2 - Medio                   No                   No  Palmira      3   \n",
       "3472  2 - Medio                   No                   No  Palmira      3   \n",
       "3624  2 - Medio                   No                   No  Palmira      3   \n",
       "\n",
       "      Regional Validación unico        Tipo analisis  Clasificac analisis  \\\n",
       "3471         1              NaN  Análisis de carácter           Políticas   \n",
       "3472         1              NaN  Análisis de carácter           Políticas   \n",
       "3624         1              NaN  Análisis de carácter             Control   \n",
       "\n",
       "     Estado   Año Tipo  \n",
       "3471    NaN  2024  NaN  \n",
       "3472    NaN  2024  NaN  \n",
       "3624    NaN  2024  NaN  "
      ]
     },
     "execution_count": 7,
     "metadata": {},
     "output_type": "execute_result"
    }
   ],
   "source": [
    "print(\"Example of one client with more than one record:\\n\")\n",
    "df[df[\"Cliente\"]== \"Nelly  Munoz Vivas\"]"
   ]
  },
  {
   "cell_type": "markdown",
   "metadata": {},
   "source": [
    "--> With the above, we can see that each observation is a different audit analysis or **audit finding**, even for the same client/account."
   ]
  },
  {
   "cell_type": "code",
   "execution_count": 8,
   "metadata": {},
   "outputs": [
    {
     "data": {
      "text/plain": [
       "2031             Herlinda  Agudelo Cardenas\n",
       "1104                   Elizabeth  Martinez \n",
       "2459           Idilvia Marina Gil Arregoces\n",
       "2477              Francisco  Liberato Perez\n",
       "2357                  Alfonso  Arias Torres\n",
       "3273            Ana Isabel Hernandez Rivera\n",
       "571     Laura  Alejandra  Ramirez  Mendoza \n",
       "437            Juan Sebastian Virguez Guana\n",
       "3704           Tomas Albeiro Zabaleta Serpa\n",
       "2566        Elizabeth  Anrea Florez Zuleta \n",
       "Name: Cliente, dtype: object"
      ]
     },
     "execution_count": 8,
     "metadata": {},
     "output_type": "execute_result"
    }
   ],
   "source": [
    "df.Cliente.sample(10)"
   ]
  },
  {
   "cell_type": "code",
   "execution_count": 9,
   "metadata": {},
   "outputs": [],
   "source": [
    "# df[df[\"Cliente\"].str.contains(\"Simon Jose\", na=False)]"
   ]
  },
  {
   "cell_type": "markdown",
   "metadata": {},
   "source": [
    "--> After some explorations, we will assume that the client column doesnt have typos or gramatical errors, that affects in someway the data\n",
    "\n"
   ]
  },
  {
   "cell_type": "markdown",
   "metadata": {},
   "source": [
    "**CONCLUSIONS** \n",
    "\n",
    "\n",
    "Taking in consideration the possible uses or goals for this project, we will take this considerations:\n",
    "1. **This column isnt useful for predictions/inference of an anomaly detection or clasification model, but we will keep it only for reference and EDA**.\n",
    "2. **The clients-credit in the dataset should be unique, so we will eliminate the duplicated observations for the same Client-credit combination**. We take in consideration the possibility of a same client to have more than one credit in different moments."
   ]
  },
  {
   "cell_type": "code",
   "execution_count": 10,
   "metadata": {},
   "outputs": [],
   "source": [
    "df = df.drop_duplicates(subset=[\"Cliente\",\"Fecha desem\", \"Monto\", \"Cuota\", \"Plazo\"]) #To have only one observation per client-credit\n",
    "\n",
    "# rename Cliente column to avoid capital letters\n",
    "df.rename(columns={\"Cliente\":\"cliente\"}, inplace=True)"
   ]
  },
  {
   "cell_type": "code",
   "execution_count": 11,
   "metadata": {},
   "outputs": [
    {
     "data": {
      "text/plain": [
       "(3461, 26)"
      ]
     },
     "execution_count": 11,
     "metadata": {},
     "output_type": "execute_result"
    }
   ],
   "source": [
    "df.shape"
   ]
  },
  {
   "cell_type": "markdown",
   "metadata": {},
   "source": [
    "## Analista & Nombre analista"
   ]
  },
  {
   "cell_type": "code",
   "execution_count": 12,
   "metadata": {},
   "outputs": [
    {
     "name": "stdout",
     "output_type": "stream",
     "text": [
      "Number of different analyst: 399\n",
      "Number of analyst with more than one record: 382\n",
      "\n",
      "Analysts with more than one record:\n"
     ]
    },
    {
     "data": {
      "text/plain": [
       "Analista\n",
       "GEE    44\n",
       "IOC    43\n",
       "FPN    34\n",
       "IMJ    31\n",
       "CNZ    29\n",
       "       ..\n",
       "CRA     2\n",
       "IJS     2\n",
       "GDW     2\n",
       "MTM     2\n",
       "KXP     2\n",
       "Name: count, Length: 382, dtype: int64"
      ]
     },
     "execution_count": 12,
     "metadata": {},
     "output_type": "execute_result"
    }
   ],
   "source": [
    "num_dif = df.Analista.nunique()\n",
    "print(f'Number of different analyst: {num_dif}')\n",
    "\n",
    "temp = df.Analista.value_counts()\n",
    "temp = temp[temp > 1]\n",
    "print(f'Number of analyst with more than one record: {len(temp)}')\n",
    "print(f'\\nAnalysts with more than one record:')\n",
    "temp"
   ]
  },
  {
   "cell_type": "code",
   "execution_count": 13,
   "metadata": {},
   "outputs": [
    {
     "data": {
      "text/plain": [
       "2728    IZA\n",
       "1711    YPN\n",
       "2635    JOT\n",
       "343     EQJ\n",
       "931     HKB\n",
       "Name: Analista, dtype: object"
      ]
     },
     "execution_count": 13,
     "metadata": {},
     "output_type": "execute_result"
    }
   ],
   "source": [
    "df.Analista.sample(5)"
   ]
  },
  {
   "cell_type": "code",
   "execution_count": 14,
   "metadata": {},
   "outputs": [
    {
     "data": {
      "text/plain": [
       "Analista\n",
       "3    3461\n",
       "Name: count, dtype: int64"
      ]
     },
     "execution_count": 14,
     "metadata": {},
     "output_type": "execute_result"
    }
   ],
   "source": [
    "df.Analista.apply(lambda x: len(x)).value_counts()"
   ]
  },
  {
   "cell_type": "markdown",
   "metadata": {},
   "source": [
    "--> All the analyst codes have 3 letters."
   ]
  },
  {
   "cell_type": "code",
   "execution_count": 15,
   "metadata": {},
   "outputs": [
    {
     "name": "stdout",
     "output_type": "stream",
     "text": [
      "Number of different analyst\"s name: 399\n",
      "Number of analyst\"s name with more than one record: 379\n",
      "\n",
      "Analysts with more than one record:\n"
     ]
    },
    {
     "data": {
      "text/plain": [
       "Nombre analista\n",
       "Aleatorio                          94\n",
       "Gilberto Duque Duque               44\n",
       "Nicolas  Suaza Pulgarin            43\n",
       "Lindy Yureidy Areiza Osorio        34\n",
       "Esmeralda  Guayara Medina          31\n",
       "                                   ..\n",
       "Edinson Orlando Omana Clavijo       2\n",
       "Miller Leidy Valencia Giraldo       2\n",
       "Arleidy Xiomara Guerrero Suarez     2\n",
       "Cheryjan Stid Velez Gaona           2\n",
       "Daniel Bustamante                   2\n",
       "Name: count, Length: 379, dtype: int64"
      ]
     },
     "execution_count": 15,
     "metadata": {},
     "output_type": "execute_result"
    }
   ],
   "source": [
    "num_dif = df[\"Nombre analista\"].nunique()\n",
    "print(f'Number of different analyst\"s name: {num_dif}')\n",
    "\n",
    "temp = df[\"Nombre analista\"].value_counts()\n",
    "temp = temp[temp > 1]\n",
    "print(f'Number of analyst\"s name with more than one record: {len(temp)}')\n",
    "print(f\"\\nAnalysts with more than one record:\")\n",
    "temp"
   ]
  },
  {
   "cell_type": "markdown",
   "metadata": {},
   "source": [
    "**CONCLUSIONS**\n",
    "\n",
    "1. **Both columns isnt valuable for our analysis nor modelling phase, but we will keep the analyst code for reference. For that reason, we will eliminate the analyst name.**\n",
    "2. **We will rename the column Analista**."
   ]
  },
  {
   "cell_type": "code",
   "execution_count": 16,
   "metadata": {},
   "outputs": [],
   "source": [
    "df = df.drop(columns=[\"Nombre analista\"])\n",
    "\n",
    "#rename analista column to avoid capital letters\n",
    "df = df.rename(columns={\"Analista\": \"analista\"})"
   ]
  },
  {
   "cell_type": "markdown",
   "metadata": {},
   "source": [
    "## Tipo crédito"
   ]
  },
  {
   "cell_type": "code",
   "execution_count": 17,
   "metadata": {},
   "outputs": [
    {
     "name": "stdout",
     "output_type": "stream",
     "text": [
      "Number of different credit types: 5\n",
      "Number of nan values: 202\n",
      "\n",
      "Credit types with more than one record:\n"
     ]
    },
    {
     "data": {
      "text/plain": [
       "Tipo crédito\n",
       "Nuevo           1385\n",
       "Renovacion       816\n",
       "Preferenci       469\n",
       "Preferencial     321\n",
       "Renovación       268\n",
       "Name: count, dtype: int64"
      ]
     },
     "execution_count": 17,
     "metadata": {},
     "output_type": "execute_result"
    }
   ],
   "source": [
    "num_dif = df[\"Tipo crédito\"].nunique()\n",
    "print(f'Number of different credit types: {num_dif}')\n",
    "print(f'Number of nan values: {df[\"Tipo crédito\"].isna().sum()}')\n",
    "\n",
    "temp = df[\"Tipo crédito\"].value_counts()\n",
    "print(f\"\\nCredit types with more than one record:\")\n",
    "temp"
   ]
  },
  {
   "cell_type": "markdown",
   "metadata": {},
   "source": [
    "-- > There are a typo with the world \"Preferencial\" and \"Renovacion\". "
   ]
  },
  {
   "cell_type": "markdown",
   "metadata": {},
   "source": [
    "**CONCLUSIONS**\n",
    "\n",
    "1. **We will rename the \"Preferenci\" values as \"Preferencial\".**\n",
    "2. **We will rename the \"Renovación\" values as \"Renovacion\"**\n",
    "3. **We will rename the nan values with \"No_especificado\"**.\n",
    "4. **We will rename the column name to \"tipo_credito\"**\n",
    "5. We consider this column an important one for further analysis"
   ]
  },
  {
   "cell_type": "code",
   "execution_count": 18,
   "metadata": {},
   "outputs": [],
   "source": [
    "df = df.rename(columns={\"Tipo crédito\": \"tipo_credito\"})"
   ]
  },
  {
   "cell_type": "code",
   "execution_count": 19,
   "metadata": {},
   "outputs": [
    {
     "data": {
      "text/plain": [
       "tipo_credito\n",
       "Nuevo              1385\n",
       "Renovacion         1084\n",
       "Preferencial        790\n",
       "No_especificado     202\n",
       "Name: count, dtype: int64"
      ]
     },
     "execution_count": 19,
     "metadata": {},
     "output_type": "execute_result"
    }
   ],
   "source": [
    "df[\"tipo_credito\"] = df[\"tipo_credito\"].fillna(\"No_especificado\")\n",
    "df[\"tipo_credito\"] = np.where(df[\"tipo_credito\"] == \"Renovación\", \"Renovacion\", df[\"tipo_credito\"])\n",
    "df[\"tipo_credito\"] = np.where(df[\"tipo_credito\"] == \"Preferenci\", \"Preferencial\", df[\"tipo_credito\"])\n",
    "df[\"tipo_credito\"].value_counts()"
   ]
  },
  {
   "cell_type": "markdown",
   "metadata": {},
   "source": [
    "## Fechas: de desembolso, visita analista y visita auditor"
   ]
  },
  {
   "cell_type": "code",
   "execution_count": 20,
   "metadata": {},
   "outputs": [
    {
     "data": {
      "text/plain": [
       "Fecha desem                object\n",
       "Visita_analista_crédito    object\n",
       "Visita_auditor             object\n",
       "dtype: object"
      ]
     },
     "execution_count": 20,
     "metadata": {},
     "output_type": "execute_result"
    }
   ],
   "source": [
    "df[[\"Fecha desem\",\"Visita_analista_crédito\",\"Visita_auditor\"]].dtypes"
   ]
  },
  {
   "cell_type": "code",
   "execution_count": 21,
   "metadata": {},
   "outputs": [
    {
     "data": {
      "text/html": [
       "<div>\n",
       "<style scoped>\n",
       "    .dataframe tbody tr th:only-of-type {\n",
       "        vertical-align: middle;\n",
       "    }\n",
       "\n",
       "    .dataframe tbody tr th {\n",
       "        vertical-align: top;\n",
       "    }\n",
       "\n",
       "    .dataframe thead th {\n",
       "        text-align: right;\n",
       "    }\n",
       "</style>\n",
       "<table border=\"1\" class=\"dataframe\">\n",
       "  <thead>\n",
       "    <tr style=\"text-align: right;\">\n",
       "      <th></th>\n",
       "      <th>Fecha desem</th>\n",
       "      <th>Visita_analista_crédito</th>\n",
       "      <th>Visita_auditor</th>\n",
       "    </tr>\n",
       "  </thead>\n",
       "  <tbody>\n",
       "    <tr>\n",
       "      <th>2431</th>\n",
       "      <td>2023-01-06 00:00:00</td>\n",
       "      <td>2023-01-02 00:00:00</td>\n",
       "      <td>2023-02-16 00:00:00</td>\n",
       "    </tr>\n",
       "    <tr>\n",
       "      <th>3342</th>\n",
       "      <td>2024-01-31 00:00:00</td>\n",
       "      <td>2024-01-30 00:00:00</td>\n",
       "      <td>2024-03-08 00:00:00</td>\n",
       "    </tr>\n",
       "    <tr>\n",
       "      <th>2107</th>\n",
       "      <td>2022-05-16 00:00:00</td>\n",
       "      <td>N/D</td>\n",
       "      <td>2023-08-16 00:00:00</td>\n",
       "    </tr>\n",
       "    <tr>\n",
       "      <th>1608</th>\n",
       "      <td>2022-06-13 00:00:00</td>\n",
       "      <td>2022-06-13 00:00:00</td>\n",
       "      <td>2023-01-13 00:00:00</td>\n",
       "    </tr>\n",
       "    <tr>\n",
       "      <th>3488</th>\n",
       "      <td>2024-03-27 00:00:00</td>\n",
       "      <td>NaN</td>\n",
       "      <td>2024-05-07 16:30:00</td>\n",
       "    </tr>\n",
       "    <tr>\n",
       "      <th>3905</th>\n",
       "      <td>2024-07-10 00:00:00</td>\n",
       "      <td>2024-07-05 00:00:00</td>\n",
       "      <td>2024-08-16 11:37:49.210000</td>\n",
       "    </tr>\n",
       "    <tr>\n",
       "      <th>968</th>\n",
       "      <td>31/03/2022</td>\n",
       "      <td>31/03/2022</td>\n",
       "      <td>00:00:00</td>\n",
       "    </tr>\n",
       "    <tr>\n",
       "      <th>2308</th>\n",
       "      <td>2023-07-22 00:00:00</td>\n",
       "      <td>2023-07-18 00:00:00</td>\n",
       "      <td>2023-07-28 08:50:00</td>\n",
       "    </tr>\n",
       "    <tr>\n",
       "      <th>1881</th>\n",
       "      <td>2023-03-30 00:00:00</td>\n",
       "      <td>2023-03-29 00:00:00</td>\n",
       "      <td>2023-05-09 00:00:00</td>\n",
       "    </tr>\n",
       "    <tr>\n",
       "      <th>3364</th>\n",
       "      <td>2024-02-29 00:00:00</td>\n",
       "      <td>2024-02-22 00:00:00</td>\n",
       "      <td>2024-03-13 00:00:00</td>\n",
       "    </tr>\n",
       "  </tbody>\n",
       "</table>\n",
       "</div>"
      ],
      "text/plain": [
       "              Fecha desem Visita_analista_crédito              Visita_auditor\n",
       "2431  2023-01-06 00:00:00     2023-01-02 00:00:00         2023-02-16 00:00:00\n",
       "3342  2024-01-31 00:00:00     2024-01-30 00:00:00         2024-03-08 00:00:00\n",
       "2107  2022-05-16 00:00:00                     N/D         2023-08-16 00:00:00\n",
       "1608  2022-06-13 00:00:00     2022-06-13 00:00:00         2023-01-13 00:00:00\n",
       "3488  2024-03-27 00:00:00                     NaN         2024-05-07 16:30:00\n",
       "3905  2024-07-10 00:00:00     2024-07-05 00:00:00  2024-08-16 11:37:49.210000\n",
       "968            31/03/2022              31/03/2022                    00:00:00\n",
       "2308  2023-07-22 00:00:00     2023-07-18 00:00:00         2023-07-28 08:50:00\n",
       "1881  2023-03-30 00:00:00     2023-03-29 00:00:00         2023-05-09 00:00:00\n",
       "3364  2024-02-29 00:00:00     2024-02-22 00:00:00         2024-03-13 00:00:00"
      ]
     },
     "execution_count": 21,
     "metadata": {},
     "output_type": "execute_result"
    }
   ],
   "source": [
    "df[[\"Fecha desem\",\"Visita_analista_crédito\",\"Visita_auditor\"]].sample(10, random_state=1)"
   ]
  },
  {
   "cell_type": "markdown",
   "metadata": {},
   "source": [
    "--> Above we can see at least 6 different formats that these columns have. This is an unwanted problem."
   ]
  },
  {
   "cell_type": "code",
   "execution_count": 22,
   "metadata": {},
   "outputs": [
    {
     "data": {
      "text/plain": [
       "Fecha desem                  3\n",
       "Visita_analista_crédito    753\n",
       "Visita_auditor             111\n",
       "dtype: int64"
      ]
     },
     "execution_count": 22,
     "metadata": {},
     "output_type": "execute_result"
    }
   ],
   "source": [
    "df[[\"Fecha desem\",\"Visita_analista_crédito\",\"Visita_auditor\"]].isna().sum()"
   ]
  },
  {
   "cell_type": "code",
   "execution_count": 23,
   "metadata": {},
   "outputs": [
    {
     "data": {
      "text/plain": [
       "(126, 25)"
      ]
     },
     "execution_count": 23,
     "metadata": {},
     "output_type": "execute_result"
    }
   ],
   "source": [
    "df[(df[\"Visita_auditor\"]==\"00:00:00\") | (df[\"Visita_auditor\"]==datetime.time(0, 0))].shape"
   ]
  },
  {
   "cell_type": "markdown",
   "metadata": {},
   "source": [
    "--> We can note that there are some observations with dates like \"00:00:00\""
   ]
  },
  {
   "cell_type": "markdown",
   "metadata": {},
   "source": [
    "**CONCLUSIONS**  \n",
    "  \n",
    "For further analysys or feature engineering, we can keep the columns \"Fecha desem\" and \"Visita_analista_credito\".\n",
    "\n",
    "1. **We will rename the columns to avoid capital letters and blank spaces.**\n",
    "2. **We will standarize the columns to a date format, avoiding errors and missing values**.\n",
    "3. **We will drop the observations with dates like \"00:00:00\".**\n",
    "4. **We will eliminate the auditor visit column**, because in an hipotetic modelling phase, we cant know the auditor visit in advance."
   ]
  },
  {
   "cell_type": "code",
   "execution_count": 24,
   "metadata": {},
   "outputs": [],
   "source": [
    "# rename columns\n",
    "df = df.rename(columns={\"Visita_analista_crédito\": \"visita_analista_credito\",\"Fecha desem\": \"fecha_desembolso\"})\n",
    "\n",
    "# drop observations with dates similar to 00:00:00\n",
    "df = df[(df[\"Visita_auditor\"]!=\"00:00:00\") & (df[\"Visita_auditor\"]!=datetime.time(0, 0))]\n",
    "\n",
    "# Define a function to handle different dates formats\n",
    "def convert_to_datetime(value):\n",
    "    if pd.isna(value) or value in [\"N/D\", \"NAN\"]:  # Handle missing or invalid values\n",
    "        return pd.NaT\n",
    "    try:\n",
    "        return pd.to_datetime(value, dayfirst=True, errors='coerce')  # Convert to datetime and handle errors\n",
    "    except:\n",
    "        return pd.NaT  # Return NaT if it fails\n",
    "\n",
    "# Apply function to both columns\n",
    "df[\"fecha_desembolso\"] = df[\"fecha_desembolso\"].apply(convert_to_datetime)\n",
    "df[\"visita_analista_credito\"] = df[\"visita_analista_credito\"].apply(convert_to_datetime)\n",
    "\n",
    "# Drop column\n",
    "df = df.drop(columns=[\"Visita_auditor\"])"
   ]
  },
  {
   "cell_type": "code",
   "execution_count": 25,
   "metadata": {},
   "outputs": [
    {
     "data": {
      "text/plain": [
       "fecha_desembolso             4\n",
       "visita_analista_credito    873\n",
       "dtype: int64"
      ]
     },
     "execution_count": 25,
     "metadata": {},
     "output_type": "execute_result"
    }
   ],
   "source": [
    "df[[\"fecha_desembolso\",\"visita_analista_credito\"]].isna().sum()"
   ]
  },
  {
   "cell_type": "code",
   "execution_count": 26,
   "metadata": {},
   "outputs": [
    {
     "data": {
      "text/plain": [
       "fecha_desembolso           datetime64[ns]\n",
       "visita_analista_credito    datetime64[ns]\n",
       "dtype: object"
      ]
     },
     "execution_count": 26,
     "metadata": {},
     "output_type": "execute_result"
    }
   ],
   "source": [
    "df[[\"fecha_desembolso\",\"visita_analista_credito\"]].dtypes"
   ]
  },
  {
   "cell_type": "code",
   "execution_count": 27,
   "metadata": {},
   "outputs": [
    {
     "data": {
      "text/html": [
       "<div>\n",
       "<style scoped>\n",
       "    .dataframe tbody tr th:only-of-type {\n",
       "        vertical-align: middle;\n",
       "    }\n",
       "\n",
       "    .dataframe tbody tr th {\n",
       "        vertical-align: top;\n",
       "    }\n",
       "\n",
       "    .dataframe thead th {\n",
       "        text-align: right;\n",
       "    }\n",
       "</style>\n",
       "<table border=\"1\" class=\"dataframe\">\n",
       "  <thead>\n",
       "    <tr style=\"text-align: right;\">\n",
       "      <th></th>\n",
       "      <th>fecha_desembolso</th>\n",
       "      <th>visita_analista_credito</th>\n",
       "    </tr>\n",
       "  </thead>\n",
       "  <tbody>\n",
       "    <tr>\n",
       "      <th>1930</th>\n",
       "      <td>2023-04-28</td>\n",
       "      <td>NaT</td>\n",
       "    </tr>\n",
       "    <tr>\n",
       "      <th>3362</th>\n",
       "      <td>2024-02-16</td>\n",
       "      <td>2024-02-12</td>\n",
       "    </tr>\n",
       "    <tr>\n",
       "      <th>1047</th>\n",
       "      <td>2022-05-13</td>\n",
       "      <td>2022-05-10</td>\n",
       "    </tr>\n",
       "    <tr>\n",
       "      <th>2129</th>\n",
       "      <td>2023-04-14</td>\n",
       "      <td>NaT</td>\n",
       "    </tr>\n",
       "    <tr>\n",
       "      <th>1473</th>\n",
       "      <td>2022-08-20</td>\n",
       "      <td>2022-08-17</td>\n",
       "    </tr>\n",
       "    <tr>\n",
       "      <th>657</th>\n",
       "      <td>2022-10-20</td>\n",
       "      <td>2022-10-15</td>\n",
       "    </tr>\n",
       "    <tr>\n",
       "      <th>222</th>\n",
       "      <td>2022-09-22</td>\n",
       "      <td>2022-09-22</td>\n",
       "    </tr>\n",
       "    <tr>\n",
       "      <th>3328</th>\n",
       "      <td>2024-01-31</td>\n",
       "      <td>2024-01-20</td>\n",
       "    </tr>\n",
       "    <tr>\n",
       "      <th>2168</th>\n",
       "      <td>2022-11-21</td>\n",
       "      <td>2022-11-21</td>\n",
       "    </tr>\n",
       "    <tr>\n",
       "      <th>204</th>\n",
       "      <td>2022-08-20</td>\n",
       "      <td>2022-08-19</td>\n",
       "    </tr>\n",
       "  </tbody>\n",
       "</table>\n",
       "</div>"
      ],
      "text/plain": [
       "     fecha_desembolso visita_analista_credito\n",
       "1930       2023-04-28                     NaT\n",
       "3362       2024-02-16              2024-02-12\n",
       "1047       2022-05-13              2022-05-10\n",
       "2129       2023-04-14                     NaT\n",
       "1473       2022-08-20              2022-08-17\n",
       "657        2022-10-20              2022-10-15\n",
       "222        2022-09-22              2022-09-22\n",
       "3328       2024-01-31              2024-01-20\n",
       "2168       2022-11-21              2022-11-21\n",
       "204        2022-08-20              2022-08-19"
      ]
     },
     "execution_count": 27,
     "metadata": {},
     "output_type": "execute_result"
    }
   ],
   "source": [
    "df[[\"fecha_desembolso\",\"visita_analista_credito\"]].sample(10, random_state=1)"
   ]
  },
  {
   "cell_type": "markdown",
   "metadata": {},
   "source": [
    "## Actividad"
   ]
  },
  {
   "cell_type": "code",
   "execution_count": 28,
   "metadata": {},
   "outputs": [
    {
     "name": "stdout",
     "output_type": "stream",
     "text": [
      "Number of different activities values: 2273\n",
      "Number of nan values: 52\n",
      "\n",
      "Activities with more than one record:\n"
     ]
    },
    {
     "data": {
      "text/plain": [
       "Actividad\n",
       "venta de mercancia    57\n",
       "tienda                52\n",
       "arriendos             48\n",
       "venta de comidas      29\n",
       "maestro de obra       24\n",
       "venta de ropa         21\n",
       "arrendamientos        18\n",
       "confeccion            17\n",
       "Venta De Mercancia    16\n",
       "construccion          14\n",
       "venta de comida       14\n",
       "confecciones          14\n",
       "venta de leche        14\n",
       "Tienda                12\n",
       "mercancia             12\n",
       "Name: count, dtype: int64"
      ]
     },
     "execution_count": 28,
     "metadata": {},
     "output_type": "execute_result"
    }
   ],
   "source": [
    "num_dif = df[\"Actividad\"].nunique()\n",
    "print(f'Number of different activities values: {num_dif}')\n",
    "print(f'Number of nan values: {df[\"Actividad\"].isna().sum()}')\n",
    "\n",
    "temp = df[\"Actividad\"].value_counts()\n",
    "print(f\"\\nActivities with more than one record:\")\n",
    "temp[0:15]"
   ]
  },
  {
   "cell_type": "code",
   "execution_count": 29,
   "metadata": {},
   "outputs": [
    {
     "data": {
      "text/plain": [
       "Actividad\n",
       "producci?n mantecados y panaderia                                          1\n",
       "ajonjoli                                                                   1\n",
       "oficial construccion                                                       2\n",
       "cuidado en casa                                                            1\n",
       "venta de comidas y empanas - elaboracion de comidas y platos preparados    1\n",
       "cria y comercio de cerdos                                                  1\n",
       "fundicion de metal                                                         1\n",
       "mandarin                                                                   1\n",
       "restaurante el balcon                                                      1\n",
       "estetic glam                                                               1\n",
       "Name: count, dtype: int64"
      ]
     },
     "execution_count": 29,
     "metadata": {},
     "output_type": "execute_result"
    }
   ],
   "source": [
    "temp.sample(10, random_state=10)"
   ]
  },
  {
   "cell_type": "markdown",
   "metadata": {},
   "source": [
    "--> We can see a lot of different activities, but also we can see that there are some values that are referring to the same, for example \"Tienda\" and \"tienda\".\n",
    "\n",
    "--> Several activities have typos and errors. This could difficult the analysis or next phases."
   ]
  },
  {
   "cell_type": "markdown",
   "metadata": {},
   "source": [
    "**CONCLUSIONS**  \n",
    "\n",
    "The activity variable could be very important for any EDA or modelling, but it has a lot of values, errors and should be very difficult to fix.  \n",
    "Despite that, we will try to fix the Activity column in order to gather some information in next steps.  \n",
    "\n",
    "1. **We will rename the variable column.**\n",
    "2. **We will run some fixes and considerations to the Activity column**.\n",
    "3. **and we will create a new activity_v2 column to not drop the original one.**"
   ]
  },
  {
   "cell_type": "code",
   "execution_count": 30,
   "metadata": {},
   "outputs": [],
   "source": [
    "# Function to clean Activity values\n",
    "def clean_occupation(value):\n",
    "    if pd.isna(value):  # Handle missing values\n",
    "        return \"no_especificado\"\n",
    "    value = value.strip()  # Remove spaces at the beginning and end\n",
    "    value = unidecode(value)  # Remove accents\n",
    "    value = value.lower()  # Convert to lowercase\n",
    "    value = value.replace(\" \", \"_\")  # Replace spaces with underscores\n",
    "    return value\n",
    "\n",
    "# Apply function to the column\n",
    "df[\"Actividad\"] = df[\"Actividad\"].apply(clean_occupation)\n",
    "\n",
    "# rename column\n",
    "df = df.rename(columns={\"Actividad\": \"actividad\"})"
   ]
  },
  {
   "cell_type": "markdown",
   "metadata": {},
   "source": [
    "## Monto, cuota & plazo"
   ]
  },
  {
   "cell_type": "code",
   "execution_count": 31,
   "metadata": {},
   "outputs": [
    {
     "data": {
      "text/plain": [
       "Monto    float64\n",
       "Cuota     object\n",
       "Plazo      int64\n",
       "dtype: object"
      ]
     },
     "execution_count": 31,
     "metadata": {},
     "output_type": "execute_result"
    }
   ],
   "source": [
    "df[[\"Monto\",\"Cuota\",\"Plazo\"]].dtypes"
   ]
  },
  {
   "cell_type": "code",
   "execution_count": 32,
   "metadata": {},
   "outputs": [
    {
     "data": {
      "text/plain": [
       "Monto    0\n",
       "Cuota    0\n",
       "Plazo    0\n",
       "dtype: int64"
      ]
     },
     "execution_count": 32,
     "metadata": {},
     "output_type": "execute_result"
    }
   ],
   "source": [
    "df[[\"Monto\",\"Cuota\",\"Plazo\"]].isna().sum()"
   ]
  },
  {
   "cell_type": "code",
   "execution_count": 33,
   "metadata": {},
   "outputs": [
    {
     "data": {
      "text/plain": [
       "(12, 24)"
      ]
     },
     "execution_count": 33,
     "metadata": {},
     "output_type": "execute_result"
    }
   ],
   "source": [
    "df[(df[\"Cuota\"]==0) | (df[\"Plazo\"]==0) | (df[\"Monto\"]==0)].shape"
   ]
  },
  {
   "cell_type": "markdown",
   "metadata": {},
   "source": [
    "--> We note that the \"Cuota\" variable is an object, also there isnt nan values.  \n",
    "\n",
    "--> We also note that there are some observations with zero"
   ]
  },
  {
   "cell_type": "code",
   "execution_count": 34,
   "metadata": {},
   "outputs": [
    {
     "data": {
      "text/html": [
       "<div>\n",
       "<style scoped>\n",
       "    .dataframe tbody tr th:only-of-type {\n",
       "        vertical-align: middle;\n",
       "    }\n",
       "\n",
       "    .dataframe tbody tr th {\n",
       "        vertical-align: top;\n",
       "    }\n",
       "\n",
       "    .dataframe thead th {\n",
       "        text-align: right;\n",
       "    }\n",
       "</style>\n",
       "<table border=\"1\" class=\"dataframe\">\n",
       "  <thead>\n",
       "    <tr style=\"text-align: right;\">\n",
       "      <th></th>\n",
       "      <th>Monto</th>\n",
       "      <th>Cuota</th>\n",
       "      <th>Plazo</th>\n",
       "    </tr>\n",
       "  </thead>\n",
       "  <tbody>\n",
       "    <tr>\n",
       "      <th>0</th>\n",
       "      <td>15069.268</td>\n",
       "      <td>792.642</td>\n",
       "      <td>36</td>\n",
       "    </tr>\n",
       "    <tr>\n",
       "      <th>1</th>\n",
       "      <td>402.000</td>\n",
       "      <td>209.228</td>\n",
       "      <td>626</td>\n",
       "    </tr>\n",
       "    <tr>\n",
       "      <th>3</th>\n",
       "      <td>19213.296</td>\n",
       "      <td>991.582</td>\n",
       "      <td>42</td>\n",
       "    </tr>\n",
       "    <tr>\n",
       "      <th>4</th>\n",
       "      <td>1055.378</td>\n",
       "      <td>205.648</td>\n",
       "      <td>6</td>\n",
       "    </tr>\n",
       "    <tr>\n",
       "      <th>7</th>\n",
       "      <td>2481.136</td>\n",
       "      <td>170.529</td>\n",
       "      <td>24</td>\n",
       "    </tr>\n",
       "  </tbody>\n",
       "</table>\n",
       "</div>"
      ],
      "text/plain": [
       "       Monto    Cuota  Plazo\n",
       "0  15069.268  792.642     36\n",
       "1    402.000  209.228    626\n",
       "3  19213.296  991.582     42\n",
       "4   1055.378  205.648      6\n",
       "7   2481.136  170.529     24"
      ]
     },
     "execution_count": 34,
     "metadata": {},
     "output_type": "execute_result"
    }
   ],
   "source": [
    "df[[\"Monto\",\"Cuota\",\"Plazo\"]].iloc[0:5]"
   ]
  },
  {
   "cell_type": "markdown",
   "metadata": {},
   "source": [
    "--> We note that the values of Monto & Cuota are divided by 1000"
   ]
  },
  {
   "cell_type": "markdown",
   "metadata": {},
   "source": [
    "**CONCLUSIONS**\n",
    "\n",
    "1. We will modify the column names to avoid capital letters.\n",
    "2. **We will cast the Cuota column to float.** To do this, it is necessary to \"clean\" this column before cast it.\n",
    "3. **We will multiply the Monto & Cuota by 1000.**\n",
    "4. **We will drop the observations with a zero value in any of the three columns.**"
   ]
  },
  {
   "cell_type": "code",
   "execution_count": 35,
   "metadata": {},
   "outputs": [],
   "source": [
    "# rename columns\n",
    "df = df.rename(columns={\"Monto\": \"monto\", \"Cuota\": \"cuota\", \"Plazo\": \"plazo\"})\n",
    "\n",
    "# eliminate characters that are not numbers in Cuota\n",
    "df[\"cuota\"] = df[\"cuota\"].astype(str).str.replace(r'[^0-9.]', '', regex=True)\n",
    "\n",
    "# turn empty strings into 0\n",
    "df[\"cuota\"] = np.where(df[\"cuota\"] == \"\", \"0\", df[\"cuota\"])\n",
    "\n",
    "# convert to float\n",
    "df[\"cuota\"] = pd.to_numeric(df[\"cuota\"], errors='coerce')\n",
    "\n",
    "# multiply by 1000 to convert to thousands\n",
    "df[\"cuota\"] = round(df[\"cuota\"] * 1000)\n",
    "df[\"monto\"] = round(df[\"monto\"] * 1000)\n",
    "\n",
    "# drop the observations with a zero value in any of the three columns.\n",
    "df = df[(df[\"cuota\"] != 0) & (df[\"plazo\"] != 0) & (df[\"monto\"] != 0)]"
   ]
  },
  {
   "cell_type": "code",
   "execution_count": 36,
   "metadata": {},
   "outputs": [
    {
     "name": "stdout",
     "output_type": "stream",
     "text": [
      "        monto     cuota  plazo\n",
      "0  15069268.0  792642.0     36\n",
      "1    402000.0  209228.0    626\n"
     ]
    },
    {
     "data": {
      "text/plain": [
       "monto    float64\n",
       "cuota    float64\n",
       "plazo      int64\n",
       "dtype: object"
      ]
     },
     "execution_count": 36,
     "metadata": {},
     "output_type": "execute_result"
    }
   ],
   "source": [
    "print(df[[\"monto\",\"cuota\",\"plazo\"]].iloc[0:2])\n",
    "\n",
    "df[[\"monto\",\"cuota\",\"plazo\"]].dtypes\n"
   ]
  },
  {
   "cell_type": "markdown",
   "metadata": {},
   "source": [
    "## Categoria, hallazgo, tipo hallazgo, Riesgo"
   ]
  },
  {
   "cell_type": "code",
   "execution_count": 37,
   "metadata": {},
   "outputs": [
    {
     "data": {
      "text/plain": [
       "Categoria        object\n",
       "Hallazgo         object\n",
       "Tipo hallazgo    object\n",
       "Riesgo           object\n",
       "dtype: object"
      ]
     },
     "execution_count": 37,
     "metadata": {},
     "output_type": "execute_result"
    }
   ],
   "source": [
    "df[[\"Categoria\",\"Hallazgo\",\"Tipo hallazgo\", \"Riesgo\"]].dtypes"
   ]
  },
  {
   "cell_type": "code",
   "execution_count": 38,
   "metadata": {},
   "outputs": [
    {
     "data": {
      "text/plain": [
       "Categoria        0\n",
       "Hallazgo         1\n",
       "Tipo hallazgo    1\n",
       "Riesgo           4\n",
       "dtype: int64"
      ]
     },
     "execution_count": 38,
     "metadata": {},
     "output_type": "execute_result"
    }
   ],
   "source": [
    "df[[\"Categoria\",\"Hallazgo\",\"Tipo hallazgo\", \"Riesgo\"]].isna().sum()"
   ]
  },
  {
   "cell_type": "code",
   "execution_count": 39,
   "metadata": {},
   "outputs": [
    {
     "data": {
      "text/html": [
       "<div>\n",
       "<style scoped>\n",
       "    .dataframe tbody tr th:only-of-type {\n",
       "        vertical-align: middle;\n",
       "    }\n",
       "\n",
       "    .dataframe tbody tr th {\n",
       "        vertical-align: top;\n",
       "    }\n",
       "\n",
       "    .dataframe thead th {\n",
       "        text-align: right;\n",
       "    }\n",
       "</style>\n",
       "<table border=\"1\" class=\"dataframe\">\n",
       "  <thead>\n",
       "    <tr style=\"text-align: right;\">\n",
       "      <th></th>\n",
       "      <th>Categoria</th>\n",
       "      <th>Hallazgo</th>\n",
       "      <th>Tipo hallazgo</th>\n",
       "      <th>Riesgo</th>\n",
       "    </tr>\n",
       "  </thead>\n",
       "  <tbody>\n",
       "    <tr>\n",
       "      <th>898</th>\n",
       "      <td>ESTABILIDAD</td>\n",
       "      <td>Negocio en sociedad</td>\n",
       "      <td>Incumple P &amp; P</td>\n",
       "      <td>2 - Medio</td>\n",
       "    </tr>\n",
       "    <tr>\n",
       "      <th>2137</th>\n",
       "      <td>Flujo_de_Caja</td>\n",
       "      <td>Otros ingresos inexistentes</td>\n",
       "      <td>Acto Irregular</td>\n",
       "      <td>2 - Medio</td>\n",
       "    </tr>\n",
       "    <tr>\n",
       "      <th>1158</th>\n",
       "      <td>OTRAS_POLITICAS</td>\n",
       "      <td>Formato de vinculación con campos en blanco y/...</td>\n",
       "      <td>Incumple P &amp; P</td>\n",
       "      <td>2 - Medio</td>\n",
       "    </tr>\n",
       "    <tr>\n",
       "      <th>2495</th>\n",
       "      <td>Otras_Políticas</td>\n",
       "      <td>Formato de vinculación con campos en blanco y/...</td>\n",
       "      <td>Incumple\\n P &amp; P</td>\n",
       "      <td>2 - Medio</td>\n",
       "    </tr>\n",
       "    <tr>\n",
       "      <th>1009</th>\n",
       "      <td>FRAUDE_Y_PRÁCTICAS_INDEBIDAS</td>\n",
       "      <td>Alerta de Irregularidades</td>\n",
       "      <td>Acto Irregular</td>\n",
       "      <td>1 - Alto</td>\n",
       "    </tr>\n",
       "  </tbody>\n",
       "</table>\n",
       "</div>"
      ],
      "text/plain": [
       "                         Categoria  \\\n",
       "898                    ESTABILIDAD   \n",
       "2137                 Flujo_de_Caja   \n",
       "1158               OTRAS_POLITICAS   \n",
       "2495               Otras_Políticas   \n",
       "1009  FRAUDE_Y_PRÁCTICAS_INDEBIDAS   \n",
       "\n",
       "                                               Hallazgo     Tipo hallazgo  \\\n",
       "898                                 Negocio en sociedad    Incumple P & P   \n",
       "2137                        Otros ingresos inexistentes    Acto Irregular   \n",
       "1158  Formato de vinculación con campos en blanco y/...    Incumple P & P   \n",
       "2495  Formato de vinculación con campos en blanco y/...  Incumple\\n P & P   \n",
       "1009                          Alerta de Irregularidades    Acto Irregular   \n",
       "\n",
       "         Riesgo  \n",
       "898   2 - Medio  \n",
       "2137  2 - Medio  \n",
       "1158  2 - Medio  \n",
       "2495  2 - Medio  \n",
       "1009   1 - Alto  "
      ]
     },
     "execution_count": 39,
     "metadata": {},
     "output_type": "execute_result"
    }
   ],
   "source": [
    "df[[\"Categoria\",\"Hallazgo\",\"Tipo hallazgo\", \"Riesgo\"]].sample(5,random_state=2)"
   ]
  },
  {
   "cell_type": "markdown",
   "metadata": {},
   "source": [
    "--> We can see that each column have different strings formats, for example, capital letters, blank spaces, patterns like \"\\n\", etc.\n",
    "\n",
    "Now, we will review each column further"
   ]
  },
  {
   "cell_type": "markdown",
   "metadata": {},
   "source": [
    "### Categoria"
   ]
  },
  {
   "cell_type": "code",
   "execution_count": 40,
   "metadata": {},
   "outputs": [
    {
     "name": "stdout",
     "output_type": "stream",
     "text": [
      "Number of different Category values: 30\n",
      "Number of nan values: 0\n",
      "\n",
      "Category top:\n"
     ]
    },
    {
     "data": {
      "text/plain": [
       "Categoria\n",
       "Sin_Hallazgo                            996\n",
       "Otras_Políticas                         522\n",
       "OTRAS_POLITICAS                         339\n",
       "Limitación_en_el_Alcance                208\n",
       "LIMITACIÓN_EN_EL_ALCANCE                165\n",
       "ESTABILIDAD                             148\n",
       "Políticas_Críticas                      121\n",
       "Otros                                   107\n",
       "CALIDAD_DE_DATOS                        106\n",
       "Existencia_y_Continuidad_del_Negocio     87\n",
       "FRAUDE_Y_PRÁCTICAS_INDEBIDAS             85\n",
       "Estabilidad                              72\n",
       "Reputación                               67\n",
       "Calidad_de_Datos                         57\n",
       "FLUJO_DE_CAJA                            45\n",
       "INCUMPLIMIENTO_AL_SAC                    33\n",
       "Flujo_de_Caja                            30\n",
       "POLITICAS_CRITICAS                       27\n",
       "Controles_Gestión_Comercial              23\n",
       "EXISTENCIA_Y_CONTINUIDAD_DEL_NEGOCIO     22\n",
       "REPUTACIÓN                               15\n",
       "Habilidad_Empresarial                    13\n",
       "Incumplimiento_Al_SAC                    12\n",
       "Controles_Administrativos_de_Agencia      7\n",
       "HABILIDAD_EMPRESARIAL                     7\n",
       "CONTROLES_ADMINISTRATIVOS_DE_AGENCIA      3\n",
       "SIN_HALLAZGO                              1\n",
       "Fraude_y_Prácticas_Indebidas              1\n",
       "otros                                     1\n",
       "Seguridad_de_la_Información               1\n",
       "Name: count, dtype: int64"
      ]
     },
     "execution_count": 40,
     "metadata": {},
     "output_type": "execute_result"
    }
   ],
   "source": [
    "num_dif = df[\"Categoria\"].nunique()\n",
    "print(f'Number of different Category values: {num_dif}')\n",
    "print(f'Number of nan values: {df[\"Categoria\"].isna().sum()}')\n",
    "\n",
    "temp = df[\"Categoria\"].value_counts()\n",
    "print(f\"\\nCategory top:\")\n",
    "temp[0:]"
   ]
  },
  {
   "cell_type": "markdown",
   "metadata": {},
   "source": [
    "--> We find some values that are referred to the same but are wroten different."
   ]
  },
  {
   "cell_type": "markdown",
   "metadata": {},
   "source": [
    "### Hallazgo"
   ]
  },
  {
   "cell_type": "code",
   "execution_count": 41,
   "metadata": {},
   "outputs": [
    {
     "name": "stdout",
     "output_type": "stream",
     "text": [
      "Number of different Findings values: 88\n",
      "Number of nan values: 1\n",
      "\n",
      "Findings top:\n"
     ]
    },
    {
     "data": {
      "text/plain": [
       "Hallazgo\n",
       "Sin hallazgo                                                                                                                  996\n",
       "Formato de vinculación con campos en blanco y/o errados                                                                       390\n",
       "Formato de autorización de consulta parcialmente diligenciado                                                                 273\n",
       "Diferencias en el arraigo del cliente                                                                                          98\n",
       "No se logró evidenciar la existencia del cliente y/o negocio                                                                   97\n",
       "Se evidencio existencia del cliente pero no se pudo confirmar el negocio                                                       94\n",
       "Se evidenció existencia del cliente pero no se pudo confirmar el negocio                                                       84\n",
       "Negocio en sociedad                                                                                                            83\n",
       "Información Errada en datos Básicos                                                                                            80\n",
       "Otros Hallazgos                                                                                                                70\n",
       "No cumple con los requisitos propios del crédito                                                                               68\n",
       "Formato de autorización con fecha posterior a la consulta                                                                      65\n",
       "Presunto negocio inexistente                                                                                                   61\n",
       "Fallas en la georeferenciación                                                                                                 51\n",
       "Diferencias en flujos de caja que afectan la liquidez                                                                          50\n",
       "No presenta los formatos de la metodología                                                                                     49\n",
       "No se logro evidenciar la existencia del cliente y/o negocio                                                                   45\n",
       "Información errada en datos básicos                                                                                            43\n",
       "Crédito otorgado a mas de un titular con el mismo negocio                                                                      42\n",
       "Dirección del negocio no corresponde con la verificada por Auditoría                                                           38\n",
       "Seguimiento                                                                                                                    34\n",
       "Insatisfacción del consumidor financiero - información insuficiente y/o debilidades en la atención                             28\n",
       "Se evidenció existencia del negocio pero no se pudo confirmar la información financiera                                        27\n",
       "Se evidencio existencia del negocio pero no se pudo confirmar la información financiera                                        26\n",
       "Otros ingresos sin sustentación                                                                                                26\n",
       "El cliente no confirmó la visita                                                                                               24\n",
       "Referencias no contactadas por el analista                                                                                     23\n",
       "Analista gestiona créditos en zona que no corresponde                                                                          23\n",
       "Factores de riesgo en la familia no identificados por el analista                                                              22\n",
       "Carpeta no encontrada                                                                                                          22\n",
       "Prenda abierta sin firma del cónyuge                                                                                           19\n",
       "Incumplimiento a la política de garantías                                                                                      18\n",
       "Alerta de Irregularidades                                                                                                      13\n",
       "Negocio no es de propiedad del cliente                                                                                         13\n",
       "Negocio inactivo o en decadencia posterior al desembolso                                                                       12\n",
       "Fraude Interno (autocredito)                                                                                                   10\n",
       "No se ingresaron todas las cuotas financieras                                                                                  10\n",
       "Insatisfacción del consumidor financiero - prácticas indebidas                                                                 10\n",
       "Negocio no es del solicitante                                                                                                   9\n",
       "Negocio inactivo                                                                                                                9\n",
       "No cumple con las condiciones para cartera micro                                                                                9\n",
       "Negocio inactivo o en decadencia al momento del análisis                                                                        9\n",
       "No se diligencia autorización para consulta a centrales de riesgo                                                               9\n",
       "Incumplimiento en tolerancia de moras                                                                                           9\n",
       "Incumplimiento en posesión del negocio (primera vez y cambio de actividad)                                                      8\n",
       "Incumple referencias                                                                                                            7\n",
       "Formato de análisis de información financiera con enmendaduras y/o tachones                                                     7\n",
       "Queja del cliente                                                                                                               7\n",
       "Crédito otorgado con una actividad diferente a la realizada por el cliente                                                      7\n",
       "Factores de riesgo no identificados por el analista                                                                             6\n",
       "Aplican instrucciones comerciales por fuera de política\\n\\n                                                                     6\n",
       "No se efectuó visita por parte del Gerente a cliente con crédito o saldo expuesto superior a 25 SMMLV                           6\n",
       "Otros ingresos inexistentes                                                                                                     5\n",
       "Codeudor sin capacidad de pago                                                                                                  5\n",
       "Cliente vendio el negocio posterior al desembolso                                                                               4\n",
       "Dudas sobre propiedad del negocio                                                                                               4\n",
       "No se evidenció consulta a centrales de riesgo                                                                                  4\n",
       "Ventas sobreestimadas                                                                                                           3\n",
       "Crédito otorgado por una actividad secundaria                                                                                   3\n",
       "Dudas evolución del negocio                                                                                                     3\n",
       "Faltó profundizar en el conocimiento del negocio y/o cliente                                                                    3\n",
       "Diferencias en flujo de caja que no afectan liquidez                                                                            3\n",
       "Aplican instrucciones comerciales por fuera de política.\\n\\n                                                                    3\n",
       "Incumplimiento en posesión del negocio (Primera vez y cambio de actividad)                                                      3\n",
       "Formato de análisis de información fnanciera con enmendaduras y/o tachones                                                      3\n",
       "Fraude externo (Cobro de comisiones por un tercero) No atribuible al analista                                                   2\n",
       "Cliente ilocalizado (Alerta de fraude)                                                                                          2\n",
       "Factores de Riesgo – Crédito otorgado a cliente sabiendo que quien recibirá el dinero y pagará la obligación es un tercero      2\n",
       "Negocio inexistente hechos sobrevinientes                                                                                       2\n",
       "Información Errada en datos Básicos                                                                                             2\n",
       "Incumplimiento al proceso de Control de la Gestión de Créditos                                                                  2\n",
       "Negocio inactivo durante el proceso de analisis                                                                                 1\n",
       "Negocio inactivo posterior al desembolso                                                                                        1\n",
       "Negocio en decadencia                                                                                                           1\n",
       "Cliente ilocalizado                                                                                                             1\n",
       "No se efectuó visita por parte del Gerente a cliente con crédito superior a 25 SMMLV                                            1\n",
       "Fraude interno en recaudo de cuota con recibo de caja provisional                                                               1\n",
       "Incumplimiento en número de operaciones propias con el Banco W                                                                  1\n",
       "Otros ingresos parcialmente sustentados                                                                                         1\n",
       "Diferencias en balance vs detalle de cifras                                                                                     1\n",
       "Adulteración, modificación o elaboración de la información o firmas en cualquier documento                                      1\n",
       "Actividad de Alto Risgo                                                                                                         1\n",
       "Deficiencias en el análisis de comité de crédito                                                                                1\n",
       "Ingresos basados en combinación de actividades                                                                                  1\n",
       "Actividad de Alto Riesgo                                                                                                        1\n",
       "No se ingresaron todas las cuotas financieras (No afecta liquidez)                                                              1\n",
       "referencias no contactadas por el analista                                                                                      1\n",
       "Asuntos relacionados con seguridad de la información (Préstamo de usuarios y claves)                                            1\n",
       "Name: count, dtype: int64"
      ]
     },
     "execution_count": 41,
     "metadata": {},
     "output_type": "execute_result"
    }
   ],
   "source": [
    "num_dif = df[\"Hallazgo\"].nunique()\n",
    "print(f'Number of different Findings values: {num_dif}')\n",
    "print(f'Number of nan values: {df[\"Hallazgo\"].isna().sum()}')\n",
    "\n",
    "temp = df[\"Hallazgo\"].value_counts()\n",
    "print(f\"\\nFindings top:\")\n",
    "temp[0:]"
   ]
  },
  {
   "cell_type": "markdown",
   "metadata": {},
   "source": [
    "--> This column is a description of the findings, is like a comments column. So, it is not necessary to modify a lot this column. Even, we could ignore this column."
   ]
  },
  {
   "cell_type": "markdown",
   "metadata": {},
   "source": [
    "### Tipo hallazgo"
   ]
  },
  {
   "cell_type": "code",
   "execution_count": 42,
   "metadata": {},
   "outputs": [
    {
     "name": "stdout",
     "output_type": "stream",
     "text": [
      "Number of different finding types values: 10\n",
      "Number of nan values: 1\n",
      "\n",
      "finding types top:\n"
     ]
    },
    {
     "data": {
      "text/plain": [
       "Tipo hallazgo\n",
       "Sin Hallazgo                993\n",
       "Incumple\\n P & P            629\n",
       "Fallas en la Metodología    555\n",
       "Incumple P & P              434\n",
       "Limitación                  373\n",
       "Acto Irregular              215\n",
       "Otros                       108\n",
       "Incumple P&P                  9\n",
       "Sin_Hallazgo                  3\n",
       "Sin hallazgo                  1\n",
       "Name: count, dtype: int64"
      ]
     },
     "execution_count": 42,
     "metadata": {},
     "output_type": "execute_result"
    }
   ],
   "source": [
    "num_dif = df[\"Tipo hallazgo\"].nunique()\n",
    "print(f'Number of different finding types values: {num_dif}')\n",
    "print(f'Number of nan values: {df[\"Tipo hallazgo\"].isna().sum()}')\n",
    "\n",
    "temp = df[\"Tipo hallazgo\"].value_counts()\n",
    "print(f\"\\nfinding types top:\")\n",
    "temp[0:]"
   ]
  },
  {
   "cell_type": "markdown",
   "metadata": {},
   "source": [
    "--> \"Limitacion\" is referred that the audit cant be completed due to several reasons. This observations doesnt add value to the next steps."
   ]
  },
  {
   "cell_type": "markdown",
   "metadata": {},
   "source": [
    "### Riesgo"
   ]
  },
  {
   "cell_type": "code",
   "execution_count": 43,
   "metadata": {},
   "outputs": [
    {
     "name": "stdout",
     "output_type": "stream",
     "text": [
      "Number of different Risk values: 5\n",
      "Number of nan values: 4\n",
      "\n",
      "Risk top:\n"
     ]
    },
    {
     "data": {
      "text/plain": [
       "Riesgo\n",
       "4 - Otro     1339\n",
       "2 - Medio    1097\n",
       "3 - Bajo      436\n",
       "1 - Alto      327\n",
       "No aplica     118\n",
       "Name: count, dtype: int64"
      ]
     },
     "execution_count": 43,
     "metadata": {},
     "output_type": "execute_result"
    }
   ],
   "source": [
    "num_dif = df[\"Riesgo\"].nunique()\n",
    "print(f'Number of different Risk values: {num_dif}')\n",
    "print(f'Number of nan values: {df[\"Riesgo\"].isna().sum()}')\n",
    "\n",
    "temp = df[\"Riesgo\"].value_counts()\n",
    "print(f\"\\nRisk top:\")\n",
    "temp[0:]"
   ]
  },
  {
   "cell_type": "markdown",
   "metadata": {},
   "source": [
    "--> The \"Riesgo\" column is the cleanest one. It doesnt need cleaning steps.\n",
    "\n",
    "Now lets check the \"No aplica\" level"
   ]
  },
  {
   "cell_type": "code",
   "execution_count": 44,
   "metadata": {},
   "outputs": [
    {
     "data": {
      "text/plain": [
       "Categoria\n",
       "LIMITACIÓN_EN_EL_ALCANCE    65\n",
       "Sin_Hallazgo                53\n",
       "Name: count, dtype: int64"
      ]
     },
     "execution_count": 44,
     "metadata": {},
     "output_type": "execute_result"
    }
   ],
   "source": [
    "df[df[\"Riesgo\"]==\"No aplica\"][\"Categoria\"].value_counts()"
   ]
  },
  {
   "cell_type": "code",
   "execution_count": 45,
   "metadata": {},
   "outputs": [
    {
     "data": {
      "text/plain": [
       "Hallazgo\n",
       "Sin hallazgo                                                                               53\n",
       "Se evidencio existencia del cliente pero no se pudo confirmar el negocio                   32\n",
       "No se logro evidenciar la existencia del cliente y/o negocio                               23\n",
       "Se evidencio existencia del negocio pero no se pudo confirmar la información financiera    10\n",
       "Name: count, dtype: int64"
      ]
     },
     "execution_count": 45,
     "metadata": {},
     "output_type": "execute_result"
    }
   ],
   "source": [
    "df[df[\"Riesgo\"]==\"No aplica\"][\"Hallazgo\"].value_counts()"
   ]
  },
  {
   "cell_type": "code",
   "execution_count": 46,
   "metadata": {},
   "outputs": [
    {
     "data": {
      "text/plain": [
       "Riesgo\n",
       "4 - Otro     939\n",
       "No aplica     53\n",
       "Name: count, dtype: int64"
      ]
     },
     "execution_count": 46,
     "metadata": {},
     "output_type": "execute_result"
    }
   ],
   "source": [
    "df[df[\"Categoria\"]==\"Sin_Hallazgo\"][\"Riesgo\"].value_counts()"
   ]
  },
  {
   "cell_type": "markdown",
   "metadata": {},
   "source": [
    "--> The \"No aplica\" level have values without findings or with limitations to complete the audit."
   ]
  },
  {
   "cell_type": "markdown",
   "metadata": {},
   "source": [
    "----"
   ]
  },
  {
   "cell_type": "markdown",
   "metadata": {},
   "source": [
    "### Conclusion\n",
    "\n",
    "To clean this columns:\n",
    "\n",
    "1. We will drop the few NA values for each column\n",
    "2. **We will avoid capital letters and drop some patterns.**\n",
    "3. **We will rename some values of 'Categoria' & 'Tipo hallazgo' columns in order to unify levels.**\n",
    "4. We will rename the columns to avoid capital letters.\n",
    "5. **We will drop the observations with \"Tipo hallazgo\" equal to \"Limitacion\"**.\n",
    "6. Due to the previous step (#5), we will rename the level \"No aplica\" of the \"Riesgo\" column to \"4 - otro\""
   ]
  },
  {
   "cell_type": "code",
   "execution_count": 47,
   "metadata": {},
   "outputs": [],
   "source": [
    "# Drop nan values of the 4 columns\n",
    "df = df.dropna(subset=[\"Categoria\",\"Hallazgo\",\"Tipo hallazgo\", \"Riesgo\"])\n",
    "\n",
    "# Function to clean the column values\n",
    "def clean_string_column(value):\n",
    "    if pd.isna(value):  # Handle missing values\n",
    "        return \"no_especificado\"\n",
    "    value = value.strip()  # Remove spaces at the beginning and end\n",
    "    value = unidecode(value)  # Remove accents\n",
    "    value = value.lower()  # Convert to lowercase\n",
    "    return value\n",
    "\n",
    "# Apply function to the 3 columns\n",
    "df[\"Categoria\"] = df[\"Categoria\"].apply(clean_string_column)\n",
    "df[\"Hallazgo\"] = df[\"Hallazgo\"].apply(clean_string_column)\n",
    "df[\"Tipo hallazgo\"] = df[\"Tipo hallazgo\"].apply(clean_string_column)\n",
    "\n",
    "# Combine some finding types values due to typos (incumple p&p)\n",
    "df[\"Tipo hallazgo\"] = df[\"Tipo hallazgo\"].apply(lambda x: \"incumple_p&p\" if \"incumple\" in x else x)\n",
    "\n",
    "# after review, there isnt more typos in \"Categoria\" column\n",
    "\n",
    "# rename columns\n",
    "df = df.rename(\n",
    "    columns={\n",
    "        \"Tipo hallazgo\": \"tipo_hallazgo\",\n",
    "        \"Riesgo\": \"riesgo\",\n",
    "        \"Categoria\": \"categoria\",\n",
    "        \"Hallazgo\": \"hallazgo\",\n",
    "    }\n",
    ")\n",
    "\n",
    "# drop observations with limitations (audit incomplete)\n",
    "df=df[df[\"tipo_hallazgo\"]!=\"limitacion\"]\n",
    "\n",
    "# Rename values \"No aplica\" of column Riesgo\n",
    "df[\"riesgo\"] = df[\"riesgo\"].str.replace(\"No aplica\",\"4 - Otro\")"
   ]
  },
  {
   "cell_type": "code",
   "execution_count": 48,
   "metadata": {},
   "outputs": [
    {
     "data": {
      "text/html": [
       "<div>\n",
       "<style scoped>\n",
       "    .dataframe tbody tr th:only-of-type {\n",
       "        vertical-align: middle;\n",
       "    }\n",
       "\n",
       "    .dataframe tbody tr th {\n",
       "        vertical-align: top;\n",
       "    }\n",
       "\n",
       "    .dataframe thead th {\n",
       "        text-align: right;\n",
       "    }\n",
       "</style>\n",
       "<table border=\"1\" class=\"dataframe\">\n",
       "  <thead>\n",
       "    <tr style=\"text-align: right;\">\n",
       "      <th></th>\n",
       "      <th>categoria</th>\n",
       "      <th>hallazgo</th>\n",
       "      <th>tipo_hallazgo</th>\n",
       "      <th>riesgo</th>\n",
       "    </tr>\n",
       "  </thead>\n",
       "  <tbody>\n",
       "    <tr>\n",
       "      <th>2018</th>\n",
       "      <td>sin_hallazgo</td>\n",
       "      <td>sin hallazgo</td>\n",
       "      <td>sin hallazgo</td>\n",
       "      <td>4 - Otro</td>\n",
       "    </tr>\n",
       "    <tr>\n",
       "      <th>3348</th>\n",
       "      <td>otras_politicas</td>\n",
       "      <td>formato de vinculacion con campos en blanco y/...</td>\n",
       "      <td>incumple_p&amp;p</td>\n",
       "      <td>2 - Medio</td>\n",
       "    </tr>\n",
       "    <tr>\n",
       "      <th>640</th>\n",
       "      <td>sin_hallazgo</td>\n",
       "      <td>sin hallazgo</td>\n",
       "      <td>sin hallazgo</td>\n",
       "      <td>4 - Otro</td>\n",
       "    </tr>\n",
       "    <tr>\n",
       "      <th>783</th>\n",
       "      <td>calidad_de_datos</td>\n",
       "      <td>informacion errada en datos basicos</td>\n",
       "      <td>fallas en la metodologia</td>\n",
       "      <td>3 - Bajo</td>\n",
       "    </tr>\n",
       "    <tr>\n",
       "      <th>3286</th>\n",
       "      <td>existencia_y_continuidad_del_negocio</td>\n",
       "      <td>credito otorgado a mas de un titular con el mi...</td>\n",
       "      <td>acto irregular</td>\n",
       "      <td>1 - Alto</td>\n",
       "    </tr>\n",
       "  </tbody>\n",
       "</table>\n",
       "</div>"
      ],
      "text/plain": [
       "                                 categoria  \\\n",
       "2018                          sin_hallazgo   \n",
       "3348                       otras_politicas   \n",
       "640                           sin_hallazgo   \n",
       "783                       calidad_de_datos   \n",
       "3286  existencia_y_continuidad_del_negocio   \n",
       "\n",
       "                                               hallazgo  \\\n",
       "2018                                       sin hallazgo   \n",
       "3348  formato de vinculacion con campos en blanco y/...   \n",
       "640                                        sin hallazgo   \n",
       "783                 informacion errada en datos basicos   \n",
       "3286  credito otorgado a mas de un titular con el mi...   \n",
       "\n",
       "                 tipo_hallazgo     riesgo  \n",
       "2018              sin hallazgo   4 - Otro  \n",
       "3348              incumple_p&p  2 - Medio  \n",
       "640               sin hallazgo   4 - Otro  \n",
       "783   fallas en la metodologia   3 - Bajo  \n",
       "3286            acto irregular   1 - Alto  "
      ]
     },
     "execution_count": 48,
     "metadata": {},
     "output_type": "execute_result"
    }
   ],
   "source": [
    "df[[\"categoria\",\"hallazgo\",\"tipo_hallazgo\", \"riesgo\"]].sample(5,random_state=2)"
   ]
  },
  {
   "cell_type": "code",
   "execution_count": 49,
   "metadata": {},
   "outputs": [
    {
     "data": {
      "text/plain": [
       "categoria        0\n",
       "hallazgo         0\n",
       "tipo_hallazgo    0\n",
       "riesgo           0\n",
       "dtype: int64"
      ]
     },
     "execution_count": 49,
     "metadata": {},
     "output_type": "execute_result"
    }
   ],
   "source": [
    "df[[\"categoria\",\"hallazgo\",\"tipo_hallazgo\", \"riesgo\"]].isna().sum()"
   ]
  },
  {
   "cell_type": "code",
   "execution_count": 50,
   "metadata": {},
   "outputs": [
    {
     "data": {
      "text/plain": [
       "tipo_hallazgo\n",
       "incumple_p&p                1072\n",
       "sin hallazgo                 994\n",
       "fallas en la metodologia     555\n",
       "acto irregular               215\n",
       "otros                        108\n",
       "Name: count, dtype: int64"
      ]
     },
     "execution_count": 50,
     "metadata": {},
     "output_type": "execute_result"
    }
   ],
   "source": [
    "df.tipo_hallazgo.value_counts()"
   ]
  },
  {
   "cell_type": "code",
   "execution_count": 51,
   "metadata": {},
   "outputs": [
    {
     "data": {
      "text/plain": [
       "riesgo\n",
       "2 - Medio    1097\n",
       "4 - Otro     1084\n",
       "3 - Bajo      436\n",
       "1 - Alto      327\n",
       "Name: count, dtype: int64"
      ]
     },
     "execution_count": 51,
     "metadata": {},
     "output_type": "execute_result"
    }
   ],
   "source": [
    "df.riesgo.value_counts()"
   ]
  },
  {
   "cell_type": "code",
   "execution_count": 52,
   "metadata": {},
   "outputs": [
    {
     "data": {
      "text/plain": [
       "(2944, 24)"
      ]
     },
     "execution_count": 52,
     "metadata": {},
     "output_type": "execute_result"
    }
   ],
   "source": [
    "df.shape"
   ]
  },
  {
   "cell_type": "markdown",
   "metadata": {},
   "source": [
    "## Calificacion cartera y Relaciones laborales"
   ]
  },
  {
   "cell_type": "code",
   "execution_count": 53,
   "metadata": {},
   "outputs": [
    {
     "data": {
      "text/plain": [
       "Calificación cartera\n",
       "No    2725\n",
       "Si     216\n",
       "si       3\n",
       "Name: count, dtype: int64"
      ]
     },
     "execution_count": 53,
     "metadata": {},
     "output_type": "execute_result"
    }
   ],
   "source": [
    "df[\"Calificación cartera\"].value_counts()  "
   ]
  },
  {
   "cell_type": "code",
   "execution_count": 54,
   "metadata": {},
   "outputs": [
    {
     "data": {
      "text/plain": [
       "Relaciones Laborales\n",
       "No    2287\n",
       "Si     324\n",
       "Name: count, dtype: int64"
      ]
     },
     "execution_count": 54,
     "metadata": {},
     "output_type": "execute_result"
    }
   ],
   "source": [
    "df[\"Relaciones Laborales\"].value_counts()  "
   ]
  },
  {
   "cell_type": "code",
   "execution_count": 55,
   "metadata": {},
   "outputs": [
    {
     "data": {
      "text/plain": [
       "Calificación cartera      0\n",
       "Relaciones Laborales    333\n",
       "dtype: int64"
      ]
     },
     "execution_count": 55,
     "metadata": {},
     "output_type": "execute_result"
    }
   ],
   "source": [
    "df[[\"Calificación cartera\",\"Relaciones Laborales\"]].isna().sum()  "
   ]
  },
  {
   "cell_type": "markdown",
   "metadata": {},
   "source": [
    "--> This columns have few typos and Nan values"
   ]
  },
  {
   "cell_type": "markdown",
   "metadata": {},
   "source": [
    "**CONCLUSION**\n",
    "\n",
    "1. Rename columns to avoid ccapital letters\n",
    "2. We will change NA values to \"no_especificado\"\n",
    "3. fix typos in Calificación cartera"
   ]
  },
  {
   "cell_type": "code",
   "execution_count": 56,
   "metadata": {},
   "outputs": [],
   "source": [
    "# rename columns\n",
    "df.rename(columns={\"Calificación cartera\": \"calificacion_cartera\", \"Relaciones Laborales\": \"relaciones_laborales\"}, inplace=True)\n",
    "\n",
    "# NA values to \"no_especificado\"\n",
    "df[\"calificacion_cartera\"] = df[\"calificacion_cartera\"].fillna(\"no_especificado\")\n",
    "df[\"relaciones_laborales\"] = df[\"relaciones_laborales\"].fillna(\"no_especificado\")\n",
    "\n",
    "# fix typos\n",
    "df[\"calificacion_cartera\"] = df[\"calificacion_cartera\"].apply(lambda x: \"Si\" if \"si\" in x else x)\n"
   ]
  },
  {
   "cell_type": "markdown",
   "metadata": {},
   "source": [
    "## Oficina"
   ]
  },
  {
   "cell_type": "code",
   "execution_count": 57,
   "metadata": {},
   "outputs": [
    {
     "name": "stdout",
     "output_type": "stream",
     "text": [
      "Number of different \"Oficina\" values: 62\n",
      "Number of nan values: 0\n",
      "\n",
      "'Oficina' top:\n"
     ]
    },
    {
     "data": {
      "text/plain": [
       "Oficina \n",
       "Dosquebradas              177\n",
       "Ibague                    127\n",
       "Fonsecca                  125\n",
       "Tulua                      91\n",
       "Santa Rosa                 77\n",
       "Facatativa                 70\n",
       "Laureano Gómez             60\n",
       "Independencia              57\n",
       "Magangue                   55\n",
       "Pasto                      55\n",
       "Tulua Calle 25             54\n",
       "Engativa                   52\n",
       "Poblado                    51\n",
       "Sincelejo                  49\n",
       "Palmira                    49\n",
       "Sur                        49\n",
       "Maicao                     49\n",
       "Pasto Las Lunas            48\n",
       "Pereira Lagos              48\n",
       "Chaparral                  48\n",
       "Cartagena del Chaira       47\n",
       "Santa Marta                46\n",
       "El Espinal                 46\n",
       "San Juan del CesAR         45\n",
       "Armenia Sur                45\n",
       "Soledad                    45\n",
       "Santander de Quilichao     45\n",
       "La Plata                   45\n",
       "Jamundí                    45\n",
       "Corozal                    44\n",
       "Calima                     44\n",
       "La Unión                   44\n",
       "Ipiales                    43\n",
       "Chinchiná                  43\n",
       "Barranquilla               43\n",
       "Riohacha                   43\n",
       "Duitama                    43\n",
       "Murillo Toro               42\n",
       "Kennedy                    42\n",
       "Zipaquira                  42\n",
       "La Dorada                  42\n",
       "Quebradaseca               40\n",
       "Santa Librada              40\n",
       "Giron                      39\n",
       "Itagui                     39\n",
       "Villeta                    39\n",
       "Puerto Gaitan              37\n",
       "Rionegro                   37\n",
       "Autopista Norte            34\n",
       "Alfonso López              34\n",
       "Quibdo                     33\n",
       "Sabanalarga                33\n",
       "Fundación                  26\n",
       "Belen                      25\n",
       "Calle 25                   25\n",
       "Cereté                     25\n",
       "Buenaventura               25\n",
       "Patio Bonito               25\n",
       "Pradera                    24\n",
       "Soacha                     22\n",
       "Apartado                   14\n",
       "La Unión                   13\n",
       "Name: count, dtype: int64"
      ]
     },
     "execution_count": 57,
     "metadata": {},
     "output_type": "execute_result"
    }
   ],
   "source": [
    "num_dif = df[\"Oficina \"].nunique()\n",
    "print(f'Number of different \"Oficina\" values: {num_dif}')\n",
    "print(f'Number of nan values: {df[\"Oficina \"].isna().sum()}')\n",
    "\n",
    "temp = df[\"Oficina \"].value_counts()\n",
    "print(f\"\\n'Oficina' top:\")\n",
    "temp"
   ]
  },
  {
   "cell_type": "markdown",
   "metadata": {},
   "source": [
    "--> This column seems without problems nor typos.\n",
    "\n",
    "**CONCLUSION**\n",
    "\n",
    "1. Change column name.\n",
    "2. avoid capital letters and blank spaces."
   ]
  },
  {
   "cell_type": "code",
   "execution_count": 58,
   "metadata": {},
   "outputs": [],
   "source": [
    "# Rename column Oficina\n",
    "df = df.rename(columns={\"Oficina \": \"oficina\"})\n",
    "\n",
    "# avoid capital letters and blank spaces\n",
    "df[\"oficina\"] = df[\"oficina\"].apply(lambda x: x.strip().lower().replace(\" \",\"_\"))"
   ]
  },
  {
   "cell_type": "markdown",
   "metadata": {},
   "source": [
    "## Zona, regional"
   ]
  },
  {
   "cell_type": "code",
   "execution_count": 59,
   "metadata": {},
   "outputs": [
    {
     "name": "stdout",
     "output_type": "stream",
     "text": [
      "Number of different \"zona\" values: 17\n",
      "Number of nan values: 0\n",
      "\n",
      "'zona' top:\n"
     ]
    },
    {
     "data": {
      "text/plain": [
       "zona \n",
       "12    390\n",
       "11    305\n",
       "13    304\n",
       "7     220\n",
       "3     219\n",
       "4     216\n",
       "1     201\n",
       "15    193\n",
       "8     148\n",
       "6     137\n",
       "5     131\n",
       "14    121\n",
       "2      94\n",
       "10     92\n",
       "16     81\n",
       "17     55\n",
       "9      37\n",
       "Name: count, dtype: int64"
      ]
     },
     "execution_count": 59,
     "metadata": {},
     "output_type": "execute_result"
    }
   ],
   "source": [
    "num_dif = df[\"zona \"].nunique()\n",
    "print(f'Number of different \"zona\" values: {num_dif}')\n",
    "print(f'Number of nan values: {df[\"zona \"].isna().sum()}')\n",
    "\n",
    "temp = df[\"zona \"].value_counts()\n",
    "print(f\"\\n'zona' top:\")\n",
    "temp"
   ]
  },
  {
   "cell_type": "code",
   "execution_count": 60,
   "metadata": {},
   "outputs": [
    {
     "name": "stdout",
     "output_type": "stream",
     "text": [
      "Number of different \"zona\" values: 5\n",
      "Number of nan values: 0\n",
      "\n",
      "'zona' top:\n"
     ]
    },
    {
     "data": {
      "text/plain": [
       "Regional\n",
       "3    823\n",
       "4    722\n",
       "1    620\n",
       "5    498\n",
       "2    281\n",
       "Name: count, dtype: int64"
      ]
     },
     "execution_count": 60,
     "metadata": {},
     "output_type": "execute_result"
    }
   ],
   "source": [
    "num_dif = df[\"Regional\"].nunique()\n",
    "print(f'Number of different \"zona\" values: {num_dif}')\n",
    "print(f'Number of nan values: {df[\"Regional\"].isna().sum()}')\n",
    "\n",
    "temp = df[\"Regional\"].value_counts()\n",
    "print(f\"\\n'zona' top:\")\n",
    "temp"
   ]
  },
  {
   "cell_type": "markdown",
   "metadata": {},
   "source": [
    "--> Both columns also seems without problems\n",
    "\n",
    "**CONCLUSION**\n",
    "\n",
    "1. We will only change the column names."
   ]
  },
  {
   "cell_type": "code",
   "execution_count": 61,
   "metadata": {},
   "outputs": [],
   "source": [
    "# change column names\n",
    "df = df.rename(columns={\"zona \": \"zona\", \"Regional\": \"regional\"})"
   ]
  },
  {
   "cell_type": "markdown",
   "metadata": {},
   "source": [
    "## Validacion unico"
   ]
  },
  {
   "cell_type": "code",
   "execution_count": 62,
   "metadata": {},
   "outputs": [
    {
     "name": "stdout",
     "output_type": "stream",
     "text": [
      "Number of different \"validacion unico\" values: 2\n",
      "Number of nan values: 2732\n",
      "\n",
      "'validacion unico' top:\n"
     ]
    },
    {
     "data": {
      "text/plain": [
       "Validación unico\n",
       "ok          184\n",
       "repetido     28\n",
       "Name: count, dtype: int64"
      ]
     },
     "execution_count": 62,
     "metadata": {},
     "output_type": "execute_result"
    }
   ],
   "source": [
    "num_dif = df[\"Validación unico\"].nunique()\n",
    "print(f'Number of different \"validacion unico\" values: {num_dif}')\n",
    "print(f'Number of nan values: {df[\"Validación unico\"].isna().sum()}')\n",
    "\n",
    "temp = df[\"Validación unico\"].value_counts()\n",
    "print(f\"\\n'validacion unico' top:\")\n",
    "temp"
   ]
  },
  {
   "cell_type": "markdown",
   "metadata": {},
   "source": [
    "--> This column seems like a validation column to check some \"repeated\" observations based on something that we currently dont know.\n",
    "\n",
    "**CONCLUSION** \n",
    "1. For now, we will drop the observations with \"repetido\" and also drop the column."
   ]
  },
  {
   "cell_type": "code",
   "execution_count": 63,
   "metadata": {},
   "outputs": [],
   "source": [
    "# drop observations with \"repetido\" value and drop column\n",
    "df = df[df[\"Validación unico\"] != \"repetido\"]\n",
    "df = df.drop(columns=[\"Validación unico\"])"
   ]
  },
  {
   "cell_type": "markdown",
   "metadata": {},
   "source": [
    "## Tipo analisis"
   ]
  },
  {
   "cell_type": "code",
   "execution_count": 64,
   "metadata": {},
   "outputs": [
    {
     "name": "stdout",
     "output_type": "stream",
     "text": [
      "Number of different \"Tipo analisis\" values: 5\n",
      "Number of nan values: 1285\n",
      "\n",
      "'Tipo analisis' top:\n"
     ]
    },
    {
     "data": {
      "text/plain": [
       "Tipo analisis \n",
       "Análisis de carácter     970\n",
       "Sin hallazgo             553\n",
       "Otros                     56\n",
       "Analisis Cuantitativo     48\n",
       "Analisis de carácter       4\n",
       "Name: count, dtype: int64"
      ]
     },
     "execution_count": 64,
     "metadata": {},
     "output_type": "execute_result"
    }
   ],
   "source": [
    "num_dif = df[\"Tipo analisis \"].nunique()\n",
    "print(f'Number of different \"Tipo analisis\" values: {num_dif}')\n",
    "print(f'Number of nan values: {df[\"Tipo analisis \"].isna().sum()}')\n",
    "\n",
    "temp = df[\"Tipo analisis \"].value_counts()\n",
    "print(f\"\\n'Tipo analisis' top:\")\n",
    "temp"
   ]
  },
  {
   "cell_type": "markdown",
   "metadata": {},
   "source": [
    "--> This column have a lot of NA values and is no clear how this information could add value to our next steps.\n",
    "\n",
    "**CONCLUSIONS**\n",
    "1. We will drop this column due to the lack of valuable information"
   ]
  },
  {
   "cell_type": "code",
   "execution_count": 65,
   "metadata": {},
   "outputs": [],
   "source": [
    "#drop column Tipo analisis\n",
    "df = df.drop(columns=[\"Tipo analisis \"])"
   ]
  },
  {
   "cell_type": "markdown",
   "metadata": {},
   "source": [
    "## Clasificacion analisis"
   ]
  },
  {
   "cell_type": "code",
   "execution_count": 66,
   "metadata": {},
   "outputs": [
    {
     "name": "stdout",
     "output_type": "stream",
     "text": [
      "Number of different \"Clasificacion analisis\" values: 12\n",
      "Number of nan values: 1285\n",
      "\n",
      "'Clasificacion analisis' top:\n"
     ]
    },
    {
     "data": {
      "text/plain": [
       "Clasificac analisis\n",
       "Políticas                      614\n",
       "Sin hallazgo                   553\n",
       "Estabilidad                    103\n",
       "Alerta de fraude                98\n",
       "Reputación                      74\n",
       "Calidad de datos                65\n",
       "Flujo de caja                   48\n",
       "Otros                           42\n",
       "Quejas                          13\n",
       "Habilidad empresarial           12\n",
       "Control                          8\n",
       "Seguridad de la información      1\n",
       "Name: count, dtype: int64"
      ]
     },
     "execution_count": 66,
     "metadata": {},
     "output_type": "execute_result"
    }
   ],
   "source": [
    "num_dif = df[\"Clasificac analisis\"].nunique()\n",
    "print(f'Number of different \"Clasificacion analisis\" values: {num_dif}')\n",
    "print(f'Number of nan values: {df[\"Clasificac analisis\"].isna().sum()}')\n",
    "\n",
    "temp = df[\"Clasificac analisis\"].value_counts()\n",
    "print(f\"\\n'Clasificacion analisis' top:\")\n",
    "temp"
   ]
  },
  {
   "cell_type": "markdown",
   "metadata": {},
   "source": [
    "--> This column have a lot of NA values and we think that this column data is very similar to the column \"Categoria\".\n",
    "\n",
    "**CONCLUSIONS**\n",
    "1. We will drop this column due that its data is similar to other column that have more information"
   ]
  },
  {
   "cell_type": "code",
   "execution_count": 67,
   "metadata": {},
   "outputs": [],
   "source": [
    "#drop column Tipo analisis\n",
    "df = df.drop(columns=[\"Clasificac analisis\"])"
   ]
  },
  {
   "cell_type": "markdown",
   "metadata": {},
   "source": [
    "## Estado"
   ]
  },
  {
   "cell_type": "code",
   "execution_count": 68,
   "metadata": {},
   "outputs": [
    {
     "name": "stdout",
     "output_type": "stream",
     "text": [
      "Number of different status values: 6\n",
      "Number of nan values: 608\n",
      "\n",
      "Status top:\n"
     ]
    },
    {
     "data": {
      "text/plain": [
       "Estado\n",
       "Normal                            1060\n",
       "Cancelada                          944\n",
       "Castigo                            195\n",
       "Modificado                          91\n",
       "Cobro Judicial                      13\n",
       "Reestructurado                       5\n",
       "Name: count, dtype: int64"
      ]
     },
     "execution_count": 68,
     "metadata": {},
     "output_type": "execute_result"
    }
   ],
   "source": [
    "num_dif = df[\"Estado\"].nunique()\n",
    "print(f'Number of different status values: {num_dif}')\n",
    "print(f'Number of nan values: {df[\"Estado\"].isna().sum()}')\n",
    "\n",
    "temp = df[\"Estado\"].value_counts()\n",
    "print(f\"\\nStatus top:\")\n",
    "temp"
   ]
  },
  {
   "cell_type": "markdown",
   "metadata": {},
   "source": [
    "--> This columns seems to have valuable information about the credit status. Doesnt have typos but several NA values.\n",
    "\n",
    "**CONCLUSIONS**\n",
    "1. We will rename the column to avoid capital letters.\n",
    "2. We will fill NA values with \"no_especificado\".\n",
    "3. We will clean a little more the column to avoid capital letters nor blank spaces at the beginning or the last of the string."
   ]
  },
  {
   "cell_type": "code",
   "execution_count": 69,
   "metadata": {},
   "outputs": [],
   "source": [
    "#rename column Estado\n",
    "df = df.rename(columns={\"Estado\": \"estado\"})\n",
    "\n",
    "# fill NA with no_especificado\n",
    "df[\"estado\"] = df[\"estado\"].fillna(\"no_especificado\")\n",
    "\n",
    "# eliminate capital letters and blank spaces\n",
    "df[\"estado\"] = df[\"estado\"].apply(lambda x: x.strip().lower())"
   ]
  },
  {
   "cell_type": "markdown",
   "metadata": {},
   "source": [
    "## Año"
   ]
  },
  {
   "cell_type": "code",
   "execution_count": 70,
   "metadata": {},
   "outputs": [
    {
     "name": "stdout",
     "output_type": "stream",
     "text": [
      "Number of different year values: 3\n",
      "Number of nan values: 0\n",
      "\n",
      " Year top:\n"
     ]
    },
    {
     "data": {
      "text/plain": [
       "Año\n",
       "2022    1285\n",
       "2023    1023\n",
       "2024     608\n",
       "Name: count, dtype: int64"
      ]
     },
     "execution_count": 70,
     "metadata": {},
     "output_type": "execute_result"
    }
   ],
   "source": [
    "num_dif = df[\"Año\"].nunique()\n",
    "print(f'Number of different year values: {num_dif}')\n",
    "print(f'Number of nan values: {df[\"Año\"].isna().sum()}')\n",
    "\n",
    "temp = df[\"Año\"].value_counts()\n",
    "print(f\"\\n Year top:\")\n",
    "temp"
   ]
  },
  {
   "cell_type": "markdown",
   "metadata": {},
   "source": [
    "--> Seems without problems\n",
    "\n",
    "**CONCLUSIONS**\n",
    "1. We will only rename the column\n"
   ]
  },
  {
   "cell_type": "code",
   "execution_count": 71,
   "metadata": {},
   "outputs": [],
   "source": [
    "# rename the column year\n",
    "df = df.rename(columns={\"Año\": \"year\"})"
   ]
  },
  {
   "cell_type": "markdown",
   "metadata": {},
   "source": [
    "## Tipo"
   ]
  },
  {
   "cell_type": "code",
   "execution_count": 72,
   "metadata": {},
   "outputs": [
    {
     "name": "stdout",
     "output_type": "stream",
     "text": [
      "Number of different type values: 3\n",
      "Number of nan values: 608\n",
      "\n",
      " type top:\n"
     ]
    },
    {
     "data": {
      "text/plain": [
       "Tipo\n",
       "Otros Hallazgos       1431\n",
       "Sin Hallazgo           735\n",
       "Afecta Estabilidad     142\n",
       "Name: count, dtype: int64"
      ]
     },
     "execution_count": 72,
     "metadata": {},
     "output_type": "execute_result"
    }
   ],
   "source": [
    "num_dif = df[\"Tipo\"].nunique()\n",
    "print(f'Number of different type values: {num_dif}')\n",
    "print(f'Number of nan values: {df[\"Tipo\"].isna().sum()}')\n",
    "\n",
    "temp = df[\"Tipo\"].value_counts()\n",
    "print(f\"\\n type top:\")\n",
    "temp"
   ]
  },
  {
   "cell_type": "markdown",
   "metadata": {},
   "source": [
    "--> This column seems without typos but have several NA values. Right now, is not clear what is the information that this column have but we will keep it by now.\n",
    "\n",
    "**CONCLUSIONS**\n",
    "1. We will rename the column.\n",
    "2. We will fill the NA values with \"no_especificado\"\n",
    "3. We will avoid capital letters and blank spaces"
   ]
  },
  {
   "cell_type": "code",
   "execution_count": 73,
   "metadata": {},
   "outputs": [],
   "source": [
    "#rename the column\n",
    "df = df.rename(columns={\"Tipo\": \"tipo\"})\n",
    "\n",
    "#fill NA with no_especificado\n",
    "df[\"tipo\"] = df[\"tipo\"].fillna(\"no_especificado\")\n",
    "\n",
    "#avoid capital letters and blank spaces\n",
    "df[\"tipo\"] = df[\"tipo\"].apply(lambda x: x.strip().lower())"
   ]
  },
  {
   "cell_type": "markdown",
   "metadata": {},
   "source": [
    "# List of data cleaning steps"
   ]
  },
  {
   "cell_type": "code",
   "execution_count": null,
   "metadata": {},
   "outputs": [],
   "source": []
  },
  {
   "cell_type": "markdown",
   "metadata": {},
   "source": [
    "# Create new variables"
   ]
  },
  {
   "cell_type": "markdown",
   "metadata": {},
   "source": [
    "## New objective variables"
   ]
  },
  {
   "cell_type": "code",
   "execution_count": 74,
   "metadata": {},
   "outputs": [
    {
     "name": "stdout",
     "output_type": "stream",
     "text": [
      "Label encoding \"riesgo\":\n",
      "riesgo_int\n",
      "4    1084\n",
      "2    1084\n",
      "3     423\n",
      "1     325\n",
      "Name: count, dtype: int64\n",
      "--\n",
      "Binomial encodign \"riesgo\":\n",
      "riesgo_bin\n",
      "1    1832\n",
      "0    1084\n",
      "Name: count, dtype: int64\n"
     ]
    },
    {
     "name": "stderr",
     "output_type": "stream",
     "text": [
      "C:\\Users\\jhona\\AppData\\Local\\Temp\\ipykernel_20208\\809145858.py:3: FutureWarning: Downcasting behavior in `replace` is deprecated and will be removed in a future version. To retain the old behavior, explicitly call `result.infer_objects(copy=False)`. To opt-in to the future behavior, set `pd.set_option('future.no_silent_downcasting', True)`\n",
      "  df[\"riesgo_int\"] = df[\"riesgo\"].replace({\n",
      "C:\\Users\\jhona\\AppData\\Local\\Temp\\ipykernel_20208\\809145858.py:11: FutureWarning: Downcasting behavior in `replace` is deprecated and will be removed in a future version. To retain the old behavior, explicitly call `result.infer_objects(copy=False)`. To opt-in to the future behavior, set `pd.set_option('future.no_silent_downcasting', True)`\n",
      "  df[\"riesgo_bin\"] = df[\"riesgo\"].replace({\n"
     ]
    }
   ],
   "source": [
    "# Create new column \"riesgo\", labeling the values to numbers (integers)\n",
    "\n",
    "df[\"riesgo_int\"] = df[\"riesgo\"].replace({\n",
    "    \"1 - Alto\": 1,\n",
    "    \"2 - Medio\": 2,\n",
    "    \"3 - Bajo\": 3,\n",
    "    \"4 - Otro\": 4\n",
    "})\n",
    "\n",
    "# Create new binomial \"riesgo\"ArithmeticError\n",
    "df[\"riesgo_bin\"] = df[\"riesgo\"].replace({\n",
    "    \"1 - Alto\": 1,\n",
    "    \"2 - Medio\": 1,\n",
    "    \"3 - Bajo\": 1,\n",
    "    \"4 - Otro\": 0\n",
    "})\n",
    "\n",
    "print(f'Label encoding \"riesgo\":\\n{df[\"riesgo_int\"].value_counts()}')\n",
    "print(\"--\")\n",
    "print(f'Binomial encodign \"riesgo\":\\n{df[\"riesgo_bin\"].value_counts()}')"
   ]
  },
  {
   "cell_type": "markdown",
   "metadata": {},
   "source": [
    "## New occupation variable"
   ]
  },
  {
   "cell_type": "code",
   "execution_count": 75,
   "metadata": {},
   "outputs": [],
   "source": [
    "# Function to combine some Activity values to create macro-activities\n",
    "def combine_occupation(value):\n",
    "    if any(char in value for char in [\"no_especificado\"]):\n",
    "        return \"no_especificado\"\n",
    "    if any(char in value for char in [\"ambulant\"]):\n",
    "        return \"comercio_ambulante\"\n",
    "    elif any(\n",
    "        char in value\n",
    "        for char in [\n",
    "            \"agrico\",\n",
    "            \"agricultura\",\n",
    "            \"agro\",\n",
    "            \"agricultor\",\n",
    "            \"culti\",\n",
    "            \"ganad\",\n",
    "            \"cerdo\",\n",
    "            \"pollo\",\n",
    "            \"vaca\",\n",
    "            \"animal\",\n",
    "            \"cr?\",\n",
    "            \"cria\",\n",
    "            \"platano\",\n",
    "            \"banano\",\n",
    "        ]\n",
    "    ):\n",
    "        return \"agricultura_ganaderia_y_afines\"\n",
    "    elif any(\n",
    "        char in value\n",
    "        for char in [\n",
    "            \"comida\",\n",
    "            \"restau\",\n",
    "            \"alimen\",\n",
    "            \"condimento\",\n",
    "            \"cafe\",\n",
    "            \"caf?\",\n",
    "            \"frit\",\n",
    "            \"plato\",\n",
    "            \"frut\",\n",
    "            \"fruv\",\n",
    "            \"pan\",\n",
    "            \"helad\",\n",
    "            \"arepa\",\n",
    "            \"empana\",\n",
    "            \"piz\",\n",
    "            \"leche\",\n",
    "            \"almuerz\",\n",
    "            \"carnic\",\n",
    "            \"salsa\",\n",
    "            \"lacte\",\n",
    "        ]\n",
    "    ):\n",
    "        return \"sector_alimenticio\"\n",
    "    elif any(char in value for char in [\"arriendo\", \"arren\", \"inmobi\", \"alquil\"]):\n",
    "        return \"arriendos_alquiler_e_inmobiliarios\"\n",
    "    elif any(char in value for char in [\"obra\", \"const\", \"interior\",\"acabado\"]):\n",
    "        return \"construccion_obras_y_afines\"\n",
    "    elif any(\n",
    "        char in value for char in [\"confec\", \"modist\", \"sastr\", \"costur\", \"prenda\"]\n",
    "    ):\n",
    "        return \"confeccion_y_afines\"\n",
    "    elif any(char in value for char in [\"miscel\",\"papel\",\"boutique\",\"floriste\",\"flores\",\"detall\",\"sorpre\",\"perfum\",\"artesani\",\"variedades\"]):\n",
    "        return \"comercios_varios_y_detallistas\"\n",
    "    elif any(\n",
    "        char in value for char in [\"venta\", \"vta\", \"comercio\", \"mercanc\", \"comerci\"]\n",
    "    ):\n",
    "        return \"comercio_y_ventas_general\"\n",
    "    elif any(char in value for char in [\"tienda\", \"almac\", \"supermer\", \"abarro\",\"mercado_\",\"ferret\"]):\n",
    "        return \"tiendas_almacenes_y_ferreterias\"\n",
    "    elif any(\n",
    "        char in value\n",
    "        for char in [\n",
    "            \"mecan\",\n",
    "            \"autom\",\n",
    "            \"metal\",\n",
    "            \"tecnico\",\n",
    "            \"t?cni\",\n",
    "            \"fabricac\",\n",
    "            \"electri\",\n",
    "            \"soldad\",\n",
    "            \"pint\",\n",
    "            \"laton\",\n",
    "            \"taller\",\n",
    "            \"manteni\",\n",
    "            \"reparaci\",\n",
    "            \"arregl\",\n",
    "            \"ebanist\",\n",
    "            \"herr\",\n",
    "            \"plome\",\n",
    "            \"artesan\",\n",
    "            \"mueble\",\n",
    "            \"manualida\",\n",
    "            \"fundici\",\n",
    "            \"guada\",\n",
    "            \"llant\",\n",
    "            \"vulcaniz\",\n",
    "        ]\n",
    "    ):\n",
    "        return \"oficios_tecnicos_y_manuales\"\n",
    "    elif any(\n",
    "        char in value for char in [\"parquead\", \"parki\", \"lavade\", \"carwash\"]\n",
    "    ):\n",
    "        return \"lavaderos_parqueaderos_y_afines\"\n",
    "    elif any(\n",
    "        char in value for char in [\"transp\", \"trasp\", \"taxi\", \"bus\", \"vehicu\", \"moto\",\"carga\"]\n",
    "    ):\n",
    "        return \"transporte_vehiculos_y_afines\"\n",
    "    elif any(\n",
    "        char in value\n",
    "        for char in [\n",
    "            \"manicur\",\n",
    "            \"peluq\",\n",
    "            \"bell\",\n",
    "            \"unas\",\n",
    "            \"u?as\",\n",
    "            \"nail\",\n",
    "            \"spa\",\n",
    "            \"pein\",\n",
    "            \"estili\",\n",
    "            \"maquill\",\n",
    "            \"barber\",\n",
    "            \"masaj\",\n",
    "            \"depil\",\n",
    "            \"esteti\",\n",
    "            \"cosmet\",\n",
    "        ]\n",
    "    ):\n",
    "        return \"belleza_y_estetica\"\n",
    "    elif any(\n",
    "        char in value for char in [\"enferm\", \"medic\", \"salud\", \"drog\", \"farm\", \"hospi\",\"dental\",\"odonto\"]\n",
    "    ):\n",
    "        return \"salud_y_afines\"\n",
    "    elif any(\n",
    "        char in value\n",
    "        for char in [\"educ\", \"escol\", \"refuer\", \"univ\", \"coleg\", \"clase\", \"docen\"]\n",
    "    ):\n",
    "        return \"servicios_educativos\"\n",
    "    elif any(char in value for char in [\"aseo\", \"limpieza\", \"aseador\"]):\n",
    "        return \"servicios_de_limpieza\"\n",
    "    # elif any(\n",
    "    #     char in value\n",
    "    #     for char in [\"eria\", \"aria\", \"vario\", \"guada\", \"miscel\", \"publici\"]\n",
    "    # ):\n",
    "    #     return \"otros_comercios_servicios_oficios\"\n",
    "    else:\n",
    "        return \"otros_servicios_y_negocios\"\n",
    "\n",
    "\n",
    "df[\"actividad_v2\"] = df[\"actividad\"].apply(combine_occupation)\n",
    "\n",
    "# To check all the activities that have \"venta\" or \"vta\" or \"comercio\" or \"mercancia\" or \"comerci\" in the name\n",
    "# pd.Series([x for x in df[\"actividad\"] if any(char in x for char in [\"venta\", \"vta\", \"comercio\",\"mercancia\",\"comerci\"])]).unique()"
   ]
  },
  {
   "cell_type": "code",
   "execution_count": 76,
   "metadata": {},
   "outputs": [
    {
     "name": "stdout",
     "output_type": "stream",
     "text": [
      "Number of different activities (Version2) values: 18\n",
      "Number of nan values: 0\n",
      "\n",
      "Activities (Version2) with more than one record:\n"
     ]
    },
    {
     "data": {
      "text/plain": [
       "actividad_v2\n",
       "comercio_y_ventas_general             593\n",
       "otros_servicios_y_negocios            489\n",
       "sector_alimenticio                    409\n",
       "tiendas_almacenes_y_ferreterias       202\n",
       "oficios_tecnicos_y_manuales           188\n",
       "agricultura_ganaderia_y_afines        185\n",
       "belleza_y_estetica                    158\n",
       "confeccion_y_afines                   140\n",
       "arriendos_alquiler_e_inmobiliarios    126\n",
       "comercios_varios_y_detallistas        117\n",
       "construccion_obras_y_afines            99\n",
       "transporte_vehiculos_y_afines          65\n",
       "no_especificado                        51\n",
       "salud_y_afines                         42\n",
       "servicios_educativos                   17\n",
       "comercio_ambulante                     15\n",
       "servicios_de_limpieza                  11\n",
       "lavaderos_parqueaderos_y_afines         9\n",
       "Name: count, dtype: int64"
      ]
     },
     "execution_count": 76,
     "metadata": {},
     "output_type": "execute_result"
    }
   ],
   "source": [
    "num_dif = df[\"actividad_v2\"].nunique()\n",
    "print(f'Number of different activities (Version2) values: {num_dif}')\n",
    "print(f'Number of nan values: {df[\"actividad_v2\"].isna().sum()}')\n",
    "\n",
    "temp = df[\"actividad_v2\"].value_counts()\n",
    "print(f\"\\nActivities (Version2) with more than one record:\")\n",
    "temp"
   ]
  },
  {
   "cell_type": "code",
   "execution_count": 77,
   "metadata": {},
   "outputs": [
    {
     "data": {
      "text/html": [
       "<div>\n",
       "<style scoped>\n",
       "    .dataframe tbody tr th:only-of-type {\n",
       "        vertical-align: middle;\n",
       "    }\n",
       "\n",
       "    .dataframe tbody tr th {\n",
       "        vertical-align: top;\n",
       "    }\n",
       "\n",
       "    .dataframe thead th {\n",
       "        text-align: right;\n",
       "    }\n",
       "</style>\n",
       "<table border=\"1\" class=\"dataframe\">\n",
       "  <thead>\n",
       "    <tr style=\"text-align: right;\">\n",
       "      <th></th>\n",
       "      <th>cliente</th>\n",
       "      <th>analista</th>\n",
       "      <th>tipo_credito</th>\n",
       "      <th>fecha_desembolso</th>\n",
       "      <th>visita_analista_credito</th>\n",
       "      <th>actividad</th>\n",
       "      <th>monto</th>\n",
       "      <th>cuota</th>\n",
       "      <th>plazo</th>\n",
       "      <th>categoria</th>\n",
       "      <th>hallazgo</th>\n",
       "      <th>tipo_hallazgo</th>\n",
       "      <th>riesgo</th>\n",
       "      <th>calificacion_cartera</th>\n",
       "      <th>relaciones_laborales</th>\n",
       "      <th>oficina</th>\n",
       "      <th>zona</th>\n",
       "      <th>regional</th>\n",
       "      <th>estado</th>\n",
       "      <th>year</th>\n",
       "      <th>tipo</th>\n",
       "      <th>riesgo_int</th>\n",
       "      <th>riesgo_bin</th>\n",
       "      <th>actividad_v2</th>\n",
       "    </tr>\n",
       "  </thead>\n",
       "  <tbody>\n",
       "    <tr>\n",
       "      <th>0</th>\n",
       "      <td>Hector Julio Pabon Castano</td>\n",
       "      <td>AIZ</td>\n",
       "      <td>Renovacion</td>\n",
       "      <td>2021-06-11</td>\n",
       "      <td>NaT</td>\n",
       "      <td>don_patacon_postobon</td>\n",
       "      <td>15069268.0</td>\n",
       "      <td>792642.0</td>\n",
       "      <td>36</td>\n",
       "      <td>fraude_y_practicas_indebidas</td>\n",
       "      <td>credito otorgado a mas de un titular con el mi...</td>\n",
       "      <td>acto irregular</td>\n",
       "      <td>1 - Alto</td>\n",
       "      <td>Si</td>\n",
       "      <td>Si</td>\n",
       "      <td>dosquebradas</td>\n",
       "      <td>12</td>\n",
       "      <td>4</td>\n",
       "      <td>cancelada</td>\n",
       "      <td>2022</td>\n",
       "      <td>afecta estabilidad</td>\n",
       "      <td>1</td>\n",
       "      <td>1</td>\n",
       "      <td>otros_servicios_y_negocios</td>\n",
       "    </tr>\n",
       "    <tr>\n",
       "      <th>1</th>\n",
       "      <td>Casas Marisol                                 ...</td>\n",
       "      <td>JQQ</td>\n",
       "      <td>Renovacion</td>\n",
       "      <td>2021-06-15</td>\n",
       "      <td>2021-06-08</td>\n",
       "      <td>expendio_de_comidas_preparadas_en_cafeterias</td>\n",
       "      <td>402000.0</td>\n",
       "      <td>209228.0</td>\n",
       "      <td>626</td>\n",
       "      <td>fraude_y_practicas_indebidas</td>\n",
       "      <td>presunto negocio inexistente</td>\n",
       "      <td>acto irregular</td>\n",
       "      <td>1 - Alto</td>\n",
       "      <td>No</td>\n",
       "      <td>Si</td>\n",
       "      <td>poblado</td>\n",
       "      <td>1</td>\n",
       "      <td>1</td>\n",
       "      <td>castigo</td>\n",
       "      <td>2022</td>\n",
       "      <td>afecta estabilidad</td>\n",
       "      <td>1</td>\n",
       "      <td>1</td>\n",
       "      <td>sector_alimenticio</td>\n",
       "    </tr>\n",
       "    <tr>\n",
       "      <th>3</th>\n",
       "      <td>Jennifer  Lopez Perez</td>\n",
       "      <td>IOC</td>\n",
       "      <td>Nuevo</td>\n",
       "      <td>2022-05-03</td>\n",
       "      <td>NaT</td>\n",
       "      <td>drogueria</td>\n",
       "      <td>19213296.0</td>\n",
       "      <td>991582.0</td>\n",
       "      <td>42</td>\n",
       "      <td>fraude_y_practicas_indebidas</td>\n",
       "      <td>negocio no es del solicitante</td>\n",
       "      <td>acto irregular</td>\n",
       "      <td>1 - Alto</td>\n",
       "      <td>Si</td>\n",
       "      <td>Si</td>\n",
       "      <td>dosquebradas</td>\n",
       "      <td>12</td>\n",
       "      <td>4</td>\n",
       "      <td>modificado</td>\n",
       "      <td>2022</td>\n",
       "      <td>afecta estabilidad</td>\n",
       "      <td>1</td>\n",
       "      <td>1</td>\n",
       "      <td>salud_y_afines</td>\n",
       "    </tr>\n",
       "    <tr>\n",
       "      <th>4</th>\n",
       "      <td>Laura Marcela Valdes Zapata</td>\n",
       "      <td>CZL</td>\n",
       "      <td>Renovacion</td>\n",
       "      <td>2022-03-11</td>\n",
       "      <td>2022-03-05</td>\n",
       "      <td>manualidades_artes_plasticas</td>\n",
       "      <td>1055378.0</td>\n",
       "      <td>205648.0</td>\n",
       "      <td>6</td>\n",
       "      <td>fraude_y_practicas_indebidas</td>\n",
       "      <td>credito otorgado a mas de un titular con el mi...</td>\n",
       "      <td>acto irregular</td>\n",
       "      <td>1 - Alto</td>\n",
       "      <td>Si</td>\n",
       "      <td>no_especificado</td>\n",
       "      <td>tulua</td>\n",
       "      <td>3</td>\n",
       "      <td>1</td>\n",
       "      <td>cancelada</td>\n",
       "      <td>2022</td>\n",
       "      <td>afecta estabilidad</td>\n",
       "      <td>1</td>\n",
       "      <td>1</td>\n",
       "      <td>oficios_tecnicos_y_manuales</td>\n",
       "    </tr>\n",
       "    <tr>\n",
       "      <th>7</th>\n",
       "      <td>Martha Cecilia Veru</td>\n",
       "      <td>AQT</td>\n",
       "      <td>Preferencial</td>\n",
       "      <td>2022-07-23</td>\n",
       "      <td>2022-07-18</td>\n",
       "      <td>venta_de_mercancia</td>\n",
       "      <td>2481136.0</td>\n",
       "      <td>170529.0</td>\n",
       "      <td>24</td>\n",
       "      <td>fraude_y_practicas_indebidas</td>\n",
       "      <td>presunto negocio inexistente</td>\n",
       "      <td>acto irregular</td>\n",
       "      <td>1 - Alto</td>\n",
       "      <td>Si</td>\n",
       "      <td>Si</td>\n",
       "      <td>independencia</td>\n",
       "      <td>1</td>\n",
       "      <td>1</td>\n",
       "      <td>normal</td>\n",
       "      <td>2022</td>\n",
       "      <td>afecta estabilidad</td>\n",
       "      <td>1</td>\n",
       "      <td>1</td>\n",
       "      <td>comercio_y_ventas_general</td>\n",
       "    </tr>\n",
       "    <tr>\n",
       "      <th>...</th>\n",
       "      <td>...</td>\n",
       "      <td>...</td>\n",
       "      <td>...</td>\n",
       "      <td>...</td>\n",
       "      <td>...</td>\n",
       "      <td>...</td>\n",
       "      <td>...</td>\n",
       "      <td>...</td>\n",
       "      <td>...</td>\n",
       "      <td>...</td>\n",
       "      <td>...</td>\n",
       "      <td>...</td>\n",
       "      <td>...</td>\n",
       "      <td>...</td>\n",
       "      <td>...</td>\n",
       "      <td>...</td>\n",
       "      <td>...</td>\n",
       "      <td>...</td>\n",
       "      <td>...</td>\n",
       "      <td>...</td>\n",
       "      <td>...</td>\n",
       "      <td>...</td>\n",
       "      <td>...</td>\n",
       "      <td>...</td>\n",
       "    </tr>\n",
       "    <tr>\n",
       "      <th>3909</th>\n",
       "      <td>Jhon Alexander Valencia Rodriguez</td>\n",
       "      <td>MFP</td>\n",
       "      <td>Nuevo</td>\n",
       "      <td>2024-07-13</td>\n",
       "      <td>2024-07-11</td>\n",
       "      <td>venta_de_banano_verde</td>\n",
       "      <td>400000.0</td>\n",
       "      <td>87229.0</td>\n",
       "      <td>8</td>\n",
       "      <td>otras_politicas</td>\n",
       "      <td>formato de autorizacion de consulta parcialmen...</td>\n",
       "      <td>incumple_p&amp;p</td>\n",
       "      <td>2 - Medio</td>\n",
       "      <td>No</td>\n",
       "      <td>No</td>\n",
       "      <td>buenaventura</td>\n",
       "      <td>4</td>\n",
       "      <td>1</td>\n",
       "      <td>no_especificado</td>\n",
       "      <td>2024</td>\n",
       "      <td>no_especificado</td>\n",
       "      <td>2</td>\n",
       "      <td>1</td>\n",
       "      <td>agricultura_ganaderia_y_afines</td>\n",
       "    </tr>\n",
       "    <tr>\n",
       "      <th>3912</th>\n",
       "      <td>Uriel Alejandro Sepulveda Morales</td>\n",
       "      <td>JPR</td>\n",
       "      <td>Nuevo</td>\n",
       "      <td>2024-07-12</td>\n",
       "      <td>2024-07-12</td>\n",
       "      <td>venta_de_jugos</td>\n",
       "      <td>500000.0</td>\n",
       "      <td>108938.0</td>\n",
       "      <td>8</td>\n",
       "      <td>otras_politicas</td>\n",
       "      <td>formato de vinculacion con campos en blanco y/...</td>\n",
       "      <td>incumple_p&amp;p</td>\n",
       "      <td>2 - Medio</td>\n",
       "      <td>No</td>\n",
       "      <td>No</td>\n",
       "      <td>buenaventura</td>\n",
       "      <td>4</td>\n",
       "      <td>1</td>\n",
       "      <td>no_especificado</td>\n",
       "      <td>2024</td>\n",
       "      <td>no_especificado</td>\n",
       "      <td>2</td>\n",
       "      <td>1</td>\n",
       "      <td>comercio_y_ventas_general</td>\n",
       "    </tr>\n",
       "    <tr>\n",
       "      <th>3913</th>\n",
       "      <td>Yasneli  Rodallega Mondragon</td>\n",
       "      <td>ASB</td>\n",
       "      <td>Nuevo</td>\n",
       "      <td>2024-07-15</td>\n",
       "      <td>2024-07-11</td>\n",
       "      <td>peinados_y_u?as</td>\n",
       "      <td>2796256.0</td>\n",
       "      <td>236302.0</td>\n",
       "      <td>24</td>\n",
       "      <td>sin_hallazgo</td>\n",
       "      <td>sin hallazgo</td>\n",
       "      <td>sin hallazgo</td>\n",
       "      <td>4 - Otro</td>\n",
       "      <td>No</td>\n",
       "      <td>No</td>\n",
       "      <td>buenaventura</td>\n",
       "      <td>4</td>\n",
       "      <td>1</td>\n",
       "      <td>no_especificado</td>\n",
       "      <td>2024</td>\n",
       "      <td>no_especificado</td>\n",
       "      <td>4</td>\n",
       "      <td>0</td>\n",
       "      <td>belleza_y_estetica</td>\n",
       "    </tr>\n",
       "    <tr>\n",
       "      <th>3914</th>\n",
       "      <td>Marcela Alexandra Torres Montano</td>\n",
       "      <td>OFE</td>\n",
       "      <td>Renovacion</td>\n",
       "      <td>2024-07-18</td>\n",
       "      <td>2024-07-08</td>\n",
       "      <td>venta_de_productos_por_catalogo</td>\n",
       "      <td>2861720.0</td>\n",
       "      <td>207570.0</td>\n",
       "      <td>30</td>\n",
       "      <td>otras_politicas</td>\n",
       "      <td>formato de vinculacion con campos en blanco y/...</td>\n",
       "      <td>incumple_p&amp;p</td>\n",
       "      <td>2 - Medio</td>\n",
       "      <td>No</td>\n",
       "      <td>No</td>\n",
       "      <td>buenaventura</td>\n",
       "      <td>4</td>\n",
       "      <td>1</td>\n",
       "      <td>no_especificado</td>\n",
       "      <td>2024</td>\n",
       "      <td>no_especificado</td>\n",
       "      <td>2</td>\n",
       "      <td>1</td>\n",
       "      <td>comercio_y_ventas_general</td>\n",
       "    </tr>\n",
       "    <tr>\n",
       "      <th>3918</th>\n",
       "      <td>Dionisia  Hinestroza Salazar</td>\n",
       "      <td>NPI</td>\n",
       "      <td>Nuevo</td>\n",
       "      <td>2024-07-19</td>\n",
       "      <td>2024-07-12</td>\n",
       "      <td>dionicia</td>\n",
       "      <td>3836256.0</td>\n",
       "      <td>325182.0</td>\n",
       "      <td>24</td>\n",
       "      <td>otras_politicas</td>\n",
       "      <td>formato de vinculacion con campos en blanco y/...</td>\n",
       "      <td>incumple_p&amp;p</td>\n",
       "      <td>2 - Medio</td>\n",
       "      <td>No</td>\n",
       "      <td>No</td>\n",
       "      <td>buenaventura</td>\n",
       "      <td>4</td>\n",
       "      <td>1</td>\n",
       "      <td>no_especificado</td>\n",
       "      <td>2024</td>\n",
       "      <td>no_especificado</td>\n",
       "      <td>2</td>\n",
       "      <td>1</td>\n",
       "      <td>otros_servicios_y_negocios</td>\n",
       "    </tr>\n",
       "  </tbody>\n",
       "</table>\n",
       "<p>2916 rows × 24 columns</p>\n",
       "</div>"
      ],
      "text/plain": [
       "                                                cliente analista  \\\n",
       "0                            Hector Julio Pabon Castano      AIZ   \n",
       "1     Casas Marisol                                 ...      JQQ   \n",
       "3                                 Jennifer  Lopez Perez      IOC   \n",
       "4                           Laura Marcela Valdes Zapata      CZL   \n",
       "7                                  Martha Cecilia Veru       AQT   \n",
       "...                                                 ...      ...   \n",
       "3909                  Jhon Alexander Valencia Rodriguez      MFP   \n",
       "3912                  Uriel Alejandro Sepulveda Morales      JPR   \n",
       "3913                       Yasneli  Rodallega Mondragon      ASB   \n",
       "3914                   Marcela Alexandra Torres Montano      OFE   \n",
       "3918                       Dionisia  Hinestroza Salazar      NPI   \n",
       "\n",
       "      tipo_credito fecha_desembolso visita_analista_credito  \\\n",
       "0       Renovacion       2021-06-11                     NaT   \n",
       "1       Renovacion       2021-06-15              2021-06-08   \n",
       "3            Nuevo       2022-05-03                     NaT   \n",
       "4       Renovacion       2022-03-11              2022-03-05   \n",
       "7     Preferencial       2022-07-23              2022-07-18   \n",
       "...            ...              ...                     ...   \n",
       "3909         Nuevo       2024-07-13              2024-07-11   \n",
       "3912         Nuevo       2024-07-12              2024-07-12   \n",
       "3913         Nuevo       2024-07-15              2024-07-11   \n",
       "3914    Renovacion       2024-07-18              2024-07-08   \n",
       "3918         Nuevo       2024-07-19              2024-07-12   \n",
       "\n",
       "                                         actividad       monto     cuota  \\\n",
       "0                             don_patacon_postobon  15069268.0  792642.0   \n",
       "1     expendio_de_comidas_preparadas_en_cafeterias    402000.0  209228.0   \n",
       "3                                        drogueria  19213296.0  991582.0   \n",
       "4                     manualidades_artes_plasticas   1055378.0  205648.0   \n",
       "7                               venta_de_mercancia   2481136.0  170529.0   \n",
       "...                                            ...         ...       ...   \n",
       "3909                         venta_de_banano_verde    400000.0   87229.0   \n",
       "3912                                venta_de_jugos    500000.0  108938.0   \n",
       "3913                               peinados_y_u?as   2796256.0  236302.0   \n",
       "3914               venta_de_productos_por_catalogo   2861720.0  207570.0   \n",
       "3918                                      dionicia   3836256.0  325182.0   \n",
       "\n",
       "      plazo                     categoria  \\\n",
       "0        36  fraude_y_practicas_indebidas   \n",
       "1       626  fraude_y_practicas_indebidas   \n",
       "3        42  fraude_y_practicas_indebidas   \n",
       "4         6  fraude_y_practicas_indebidas   \n",
       "7        24  fraude_y_practicas_indebidas   \n",
       "...     ...                           ...   \n",
       "3909      8               otras_politicas   \n",
       "3912      8               otras_politicas   \n",
       "3913     24                  sin_hallazgo   \n",
       "3914     30               otras_politicas   \n",
       "3918     24               otras_politicas   \n",
       "\n",
       "                                               hallazgo   tipo_hallazgo  \\\n",
       "0     credito otorgado a mas de un titular con el mi...  acto irregular   \n",
       "1                          presunto negocio inexistente  acto irregular   \n",
       "3                         negocio no es del solicitante  acto irregular   \n",
       "4     credito otorgado a mas de un titular con el mi...  acto irregular   \n",
       "7                          presunto negocio inexistente  acto irregular   \n",
       "...                                                 ...             ...   \n",
       "3909  formato de autorizacion de consulta parcialmen...    incumple_p&p   \n",
       "3912  formato de vinculacion con campos en blanco y/...    incumple_p&p   \n",
       "3913                                       sin hallazgo    sin hallazgo   \n",
       "3914  formato de vinculacion con campos en blanco y/...    incumple_p&p   \n",
       "3918  formato de vinculacion con campos en blanco y/...    incumple_p&p   \n",
       "\n",
       "         riesgo calificacion_cartera relaciones_laborales        oficina  \\\n",
       "0      1 - Alto                   Si                   Si   dosquebradas   \n",
       "1      1 - Alto                   No                   Si        poblado   \n",
       "3      1 - Alto                   Si                   Si   dosquebradas   \n",
       "4      1 - Alto                   Si      no_especificado          tulua   \n",
       "7      1 - Alto                   Si                   Si  independencia   \n",
       "...         ...                  ...                  ...            ...   \n",
       "3909  2 - Medio                   No                   No   buenaventura   \n",
       "3912  2 - Medio                   No                   No   buenaventura   \n",
       "3913   4 - Otro                   No                   No   buenaventura   \n",
       "3914  2 - Medio                   No                   No   buenaventura   \n",
       "3918  2 - Medio                   No                   No   buenaventura   \n",
       "\n",
       "      zona  regional           estado  year                tipo  riesgo_int  \\\n",
       "0       12         4        cancelada  2022  afecta estabilidad           1   \n",
       "1        1         1          castigo  2022  afecta estabilidad           1   \n",
       "3       12         4       modificado  2022  afecta estabilidad           1   \n",
       "4        3         1        cancelada  2022  afecta estabilidad           1   \n",
       "7        1         1           normal  2022  afecta estabilidad           1   \n",
       "...    ...       ...              ...   ...                 ...         ...   \n",
       "3909     4         1  no_especificado  2024     no_especificado           2   \n",
       "3912     4         1  no_especificado  2024     no_especificado           2   \n",
       "3913     4         1  no_especificado  2024     no_especificado           4   \n",
       "3914     4         1  no_especificado  2024     no_especificado           2   \n",
       "3918     4         1  no_especificado  2024     no_especificado           2   \n",
       "\n",
       "      riesgo_bin                    actividad_v2  \n",
       "0              1      otros_servicios_y_negocios  \n",
       "1              1              sector_alimenticio  \n",
       "3              1                  salud_y_afines  \n",
       "4              1     oficios_tecnicos_y_manuales  \n",
       "7              1       comercio_y_ventas_general  \n",
       "...          ...                             ...  \n",
       "3909           1  agricultura_ganaderia_y_afines  \n",
       "3912           1       comercio_y_ventas_general  \n",
       "3913           0              belleza_y_estetica  \n",
       "3914           1       comercio_y_ventas_general  \n",
       "3918           1      otros_servicios_y_negocios  \n",
       "\n",
       "[2916 rows x 24 columns]"
      ]
     },
     "execution_count": 77,
     "metadata": {},
     "output_type": "execute_result"
    }
   ],
   "source": [
    "df"
   ]
  },
  {
   "cell_type": "markdown",
   "metadata": {},
   "source": [
    "# Final result"
   ]
  },
  {
   "cell_type": "code",
   "execution_count": 78,
   "metadata": {},
   "outputs": [
    {
     "name": "stdout",
     "output_type": "stream",
     "text": [
      "<class 'pandas.core.frame.DataFrame'>\n",
      "Index: 2916 entries, 0 to 3918\n",
      "Data columns (total 24 columns):\n",
      " #   Column                   Non-Null Count  Dtype         \n",
      "---  ------                   --------------  -----         \n",
      " 0   cliente                  2915 non-null   object        \n",
      " 1   analista                 2916 non-null   object        \n",
      " 2   tipo_credito             2916 non-null   object        \n",
      " 3   fecha_desembolso         2913 non-null   datetime64[ns]\n",
      " 4   visita_analista_credito  2127 non-null   datetime64[ns]\n",
      " 5   actividad                2916 non-null   object        \n",
      " 6   monto                    2916 non-null   float64       \n",
      " 7   cuota                    2916 non-null   float64       \n",
      " 8   plazo                    2916 non-null   int64         \n",
      " 9   categoria                2916 non-null   object        \n",
      " 10  hallazgo                 2916 non-null   object        \n",
      " 11  tipo_hallazgo            2916 non-null   object        \n",
      " 12  riesgo                   2916 non-null   object        \n",
      " 13  calificacion_cartera     2916 non-null   object        \n",
      " 14  relaciones_laborales     2916 non-null   object        \n",
      " 15  oficina                  2916 non-null   object        \n",
      " 16  zona                     2916 non-null   int64         \n",
      " 17  regional                 2916 non-null   int64         \n",
      " 18  estado                   2916 non-null   object        \n",
      " 19  year                     2916 non-null   int64         \n",
      " 20  tipo                     2916 non-null   object        \n",
      " 21  riesgo_int               2916 non-null   int64         \n",
      " 22  riesgo_bin               2916 non-null   int64         \n",
      " 23  actividad_v2             2916 non-null   object        \n",
      "dtypes: datetime64[ns](2), float64(2), int64(6), object(14)\n",
      "memory usage: 569.5+ KB\n"
     ]
    }
   ],
   "source": [
    "df.info()"
   ]
  },
  {
   "cell_type": "code",
   "execution_count": 79,
   "metadata": {},
   "outputs": [],
   "source": [
    "# re order the columns of the df\n",
    "df = df[[\"cliente\", \"analista\", \"tipo_credito\", \"actividad\", \"actividad_v2\", \"monto\", \"cuota\", \"plazo\", \"oficina\", \"zona\", \"regional\", \"fecha_desembolso\", \"visita_analista_credito\",\n",
    "         \"calificacion_cartera\", \"relaciones_laborales\", \"estado\", \"year\", \"tipo\",\n",
    "       \"categoria\", \"hallazgo\", \"tipo_hallazgo\", \"riesgo\",\"riesgo_int\",\"riesgo_bin\"]]"
   ]
  },
  {
   "cell_type": "code",
   "execution_count": 80,
   "metadata": {},
   "outputs": [
    {
     "data": {
      "text/html": [
       "<div>\n",
       "<style scoped>\n",
       "    .dataframe tbody tr th:only-of-type {\n",
       "        vertical-align: middle;\n",
       "    }\n",
       "\n",
       "    .dataframe tbody tr th {\n",
       "        vertical-align: top;\n",
       "    }\n",
       "\n",
       "    .dataframe thead th {\n",
       "        text-align: right;\n",
       "    }\n",
       "</style>\n",
       "<table border=\"1\" class=\"dataframe\">\n",
       "  <thead>\n",
       "    <tr style=\"text-align: right;\">\n",
       "      <th></th>\n",
       "      <th>cliente</th>\n",
       "      <th>analista</th>\n",
       "      <th>tipo_credito</th>\n",
       "      <th>actividad</th>\n",
       "      <th>actividad_v2</th>\n",
       "      <th>monto</th>\n",
       "      <th>cuota</th>\n",
       "      <th>plazo</th>\n",
       "      <th>oficina</th>\n",
       "      <th>zona</th>\n",
       "      <th>regional</th>\n",
       "      <th>fecha_desembolso</th>\n",
       "      <th>visita_analista_credito</th>\n",
       "      <th>calificacion_cartera</th>\n",
       "      <th>relaciones_laborales</th>\n",
       "      <th>estado</th>\n",
       "      <th>year</th>\n",
       "      <th>tipo</th>\n",
       "      <th>categoria</th>\n",
       "      <th>hallazgo</th>\n",
       "      <th>tipo_hallazgo</th>\n",
       "      <th>riesgo</th>\n",
       "      <th>riesgo_int</th>\n",
       "      <th>riesgo_bin</th>\n",
       "    </tr>\n",
       "  </thead>\n",
       "  <tbody>\n",
       "    <tr>\n",
       "      <th>958</th>\n",
       "      <td>Dora  Caicedo Perlaza</td>\n",
       "      <td>BHU</td>\n",
       "      <td>Nuevo</td>\n",
       "      <td>flor_del_mar</td>\n",
       "      <td>otros_servicios_y_negocios</td>\n",
       "      <td>1187350.0</td>\n",
       "      <td>227158.0</td>\n",
       "      <td>6</td>\n",
       "      <td>tulua</td>\n",
       "      <td>3</td>\n",
       "      <td>1</td>\n",
       "      <td>2022-05-05</td>\n",
       "      <td>2022-05-05</td>\n",
       "      <td>Si</td>\n",
       "      <td>no_especificado</td>\n",
       "      <td>castigo</td>\n",
       "      <td>2022</td>\n",
       "      <td>otros hallazgos</td>\n",
       "      <td>existencia_y_continuidad_del_negocio</td>\n",
       "      <td>negocio inexistente hechos sobrevinientes</td>\n",
       "      <td>fallas en la metodologia</td>\n",
       "      <td>3 - Bajo</td>\n",
       "      <td>3</td>\n",
       "      <td>1</td>\n",
       "    </tr>\n",
       "    <tr>\n",
       "      <th>3077</th>\n",
       "      <td>Nancy  Trochez Trochez</td>\n",
       "      <td>ISY</td>\n",
       "      <td>Preferencial</td>\n",
       "      <td>distribucion_y_cultivo_de_cafe</td>\n",
       "      <td>agricultura_ganaderia_y_afines</td>\n",
       "      <td>30994080.0</td>\n",
       "      <td>1204510.0</td>\n",
       "      <td>48</td>\n",
       "      <td>jamundí</td>\n",
       "      <td>13</td>\n",
       "      <td>3</td>\n",
       "      <td>2023-07-07</td>\n",
       "      <td>NaT</td>\n",
       "      <td>Si</td>\n",
       "      <td>Si</td>\n",
       "      <td>no_especificado</td>\n",
       "      <td>2024</td>\n",
       "      <td>no_especificado</td>\n",
       "      <td>existencia_y_continuidad_del_negocio</td>\n",
       "      <td>credito otorgado a mas de un titular con el mi...</td>\n",
       "      <td>acto irregular</td>\n",
       "      <td>1 - Alto</td>\n",
       "      <td>1</td>\n",
       "      <td>1</td>\n",
       "    </tr>\n",
       "    <tr>\n",
       "      <th>1899</th>\n",
       "      <td>Daniel Alejandro Barrientos Correa</td>\n",
       "      <td>EJV</td>\n",
       "      <td>Nuevo</td>\n",
       "      <td>conercializadora_de_productos_alimenticios</td>\n",
       "      <td>sector_alimenticio</td>\n",
       "      <td>3478880.0</td>\n",
       "      <td>536980.0</td>\n",
       "      <td>8</td>\n",
       "      <td>armenia_sur</td>\n",
       "      <td>12</td>\n",
       "      <td>4</td>\n",
       "      <td>2023-04-12</td>\n",
       "      <td>2023-04-10</td>\n",
       "      <td>No</td>\n",
       "      <td>No</td>\n",
       "      <td>cancelada</td>\n",
       "      <td>2023</td>\n",
       "      <td>sin hallazgo</td>\n",
       "      <td>sin_hallazgo</td>\n",
       "      <td>sin hallazgo</td>\n",
       "      <td>sin hallazgo</td>\n",
       "      <td>4 - Otro</td>\n",
       "      <td>4</td>\n",
       "      <td>0</td>\n",
       "    </tr>\n",
       "    <tr>\n",
       "      <th>1367</th>\n",
       "      <td>Martha Elvia Perez Wilchez</td>\n",
       "      <td>IRI</td>\n",
       "      <td>Renovacion</td>\n",
       "      <td>venta_de_fritos</td>\n",
       "      <td>sector_alimenticio</td>\n",
       "      <td>4968375.0</td>\n",
       "      <td>638685.0</td>\n",
       "      <td>15</td>\n",
       "      <td>santa_marta</td>\n",
       "      <td>13</td>\n",
       "      <td>5</td>\n",
       "      <td>2022-07-28</td>\n",
       "      <td>2022-07-22</td>\n",
       "      <td>No</td>\n",
       "      <td>No</td>\n",
       "      <td>castigo</td>\n",
       "      <td>2022</td>\n",
       "      <td>otros hallazgos</td>\n",
       "      <td>otras_politicas</td>\n",
       "      <td>no cumple con los requisitos propios del credito</td>\n",
       "      <td>incumple_p&amp;p</td>\n",
       "      <td>3 - Bajo</td>\n",
       "      <td>3</td>\n",
       "      <td>1</td>\n",
       "    </tr>\n",
       "    <tr>\n",
       "      <th>2396</th>\n",
       "      <td>Gloria Amparo Diaz Osorio</td>\n",
       "      <td>BGZ</td>\n",
       "      <td>Renovacion</td>\n",
       "      <td>venta_de_lociones_y_ropa</td>\n",
       "      <td>comercio_y_ventas_general</td>\n",
       "      <td>2245900.0</td>\n",
       "      <td>238326.0</td>\n",
       "      <td>18</td>\n",
       "      <td>la_unión</td>\n",
       "      <td>16</td>\n",
       "      <td>1</td>\n",
       "      <td>2022-12-06</td>\n",
       "      <td>2022-12-05</td>\n",
       "      <td>No</td>\n",
       "      <td>No</td>\n",
       "      <td>normal</td>\n",
       "      <td>2023</td>\n",
       "      <td>otros hallazgos</td>\n",
       "      <td>otras_politicas</td>\n",
       "      <td>formato de autorizacion de consulta parcialmen...</td>\n",
       "      <td>incumple_p&amp;p</td>\n",
       "      <td>2 - Medio</td>\n",
       "      <td>2</td>\n",
       "      <td>1</td>\n",
       "    </tr>\n",
       "  </tbody>\n",
       "</table>\n",
       "</div>"
      ],
      "text/plain": [
       "                                 cliente analista  tipo_credito  \\\n",
       "958                Dora  Caicedo Perlaza      BHU         Nuevo   \n",
       "3077              Nancy  Trochez Trochez      ISY  Preferencial   \n",
       "1899  Daniel Alejandro Barrientos Correa      EJV         Nuevo   \n",
       "1367          Martha Elvia Perez Wilchez      IRI    Renovacion   \n",
       "2396           Gloria Amparo Diaz Osorio      BGZ    Renovacion   \n",
       "\n",
       "                                       actividad  \\\n",
       "958                                 flor_del_mar   \n",
       "3077              distribucion_y_cultivo_de_cafe   \n",
       "1899  conercializadora_de_productos_alimenticios   \n",
       "1367                             venta_de_fritos   \n",
       "2396                    venta_de_lociones_y_ropa   \n",
       "\n",
       "                        actividad_v2       monto      cuota  plazo  \\\n",
       "958       otros_servicios_y_negocios   1187350.0   227158.0      6   \n",
       "3077  agricultura_ganaderia_y_afines  30994080.0  1204510.0     48   \n",
       "1899              sector_alimenticio   3478880.0   536980.0      8   \n",
       "1367              sector_alimenticio   4968375.0   638685.0     15   \n",
       "2396       comercio_y_ventas_general   2245900.0   238326.0     18   \n",
       "\n",
       "          oficina  zona  regional fecha_desembolso visita_analista_credito  \\\n",
       "958         tulua     3         1       2022-05-05              2022-05-05   \n",
       "3077      jamundí    13         3       2023-07-07                     NaT   \n",
       "1899  armenia_sur    12         4       2023-04-12              2023-04-10   \n",
       "1367  santa_marta    13         5       2022-07-28              2022-07-22   \n",
       "2396     la_unión    16         1       2022-12-06              2022-12-05   \n",
       "\n",
       "     calificacion_cartera relaciones_laborales           estado  year  \\\n",
       "958                    Si      no_especificado          castigo  2022   \n",
       "3077                   Si                   Si  no_especificado  2024   \n",
       "1899                   No                   No        cancelada  2023   \n",
       "1367                   No                   No          castigo  2022   \n",
       "2396                   No                   No           normal  2023   \n",
       "\n",
       "                 tipo                             categoria  \\\n",
       "958   otros hallazgos  existencia_y_continuidad_del_negocio   \n",
       "3077  no_especificado  existencia_y_continuidad_del_negocio   \n",
       "1899     sin hallazgo                          sin_hallazgo   \n",
       "1367  otros hallazgos                       otras_politicas   \n",
       "2396  otros hallazgos                       otras_politicas   \n",
       "\n",
       "                                               hallazgo  \\\n",
       "958           negocio inexistente hechos sobrevinientes   \n",
       "3077  credito otorgado a mas de un titular con el mi...   \n",
       "1899                                       sin hallazgo   \n",
       "1367   no cumple con los requisitos propios del credito   \n",
       "2396  formato de autorizacion de consulta parcialmen...   \n",
       "\n",
       "                 tipo_hallazgo     riesgo  riesgo_int  riesgo_bin  \n",
       "958   fallas en la metodologia   3 - Bajo           3           1  \n",
       "3077            acto irregular   1 - Alto           1           1  \n",
       "1899              sin hallazgo   4 - Otro           4           0  \n",
       "1367              incumple_p&p   3 - Bajo           3           1  \n",
       "2396              incumple_p&p  2 - Medio           2           1  "
      ]
     },
     "execution_count": 80,
     "metadata": {},
     "output_type": "execute_result"
    }
   ],
   "source": [
    "df.sample(5)"
   ]
  },
  {
   "cell_type": "markdown",
   "metadata": {},
   "source": [
    "# Export data"
   ]
  },
  {
   "cell_type": "code",
   "execution_count": null,
   "metadata": {},
   "outputs": [],
   "source": [
    "# # Export df to output DIR --- AWARE-ONLY WHEN NEEDED\n",
    "# OUTPUT_FILE = os.path.join(OUTPUT_DIR, \"hallazgos_clean.xlsx\")\n",
    "# df.to_excel(OUTPUT_FILE)"
   ]
  }
 ],
 "metadata": {
  "kernelspec": {
   "display_name": "Python 3",
   "language": "python",
   "name": "python3"
  },
  "language_info": {
   "codemirror_mode": {
    "name": "ipython",
    "version": 3
   },
   "file_extension": ".py",
   "mimetype": "text/x-python",
   "name": "python",
   "nbconvert_exporter": "python",
   "pygments_lexer": "ipython3",
   "version": "3.13.2"
  }
 },
 "nbformat": 4,
 "nbformat_minor": 2
}
