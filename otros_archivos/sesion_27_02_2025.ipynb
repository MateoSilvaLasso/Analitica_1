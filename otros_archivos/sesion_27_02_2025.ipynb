{
 "cells": [
  {
   "cell_type": "code",
   "execution_count": null,
   "metadata": {},
   "outputs": [],
   "source": [
    "import pandas as pd\n",
    "import numpy as np\n",
    "import matplotlib.pyplot as plt\n",
    "import seaborn as sns\n",
    "from sklearn.model_selection import train_test_split\n",
    "from sklearn import metrics\n",
    "from sklearn.linear_model import LinearRegression\n",
    "import statsmodels.api as sm\n",
    "from sklearn.preprocessing import PolynomialFeatures\n"
   ]
  },
  {
   "cell_type": "code",
   "execution_count": null,
   "metadata": {},
   "outputs": [],
   "source": [
    "df = pd.read_excel(\"C:/Users/jhorea/Dropbox/ASPECTOS MAESTRIA/Retos_maestria/Reto_bancow/Historico_hallazgos.xlsx\")"
   ]
  },
  {
   "cell_type": "code",
   "execution_count": null,
   "metadata": {},
   "outputs": [],
   "source": [
    "df.head()"
   ]
  },
  {
   "cell_type": "code",
   "execution_count": null,
   "metadata": {},
   "outputs": [],
   "source": [
    "df.columns"
   ]
  },
  {
   "cell_type": "code",
   "execution_count": null,
   "metadata": {},
   "outputs": [],
   "source": [
    "df.isna().sum().sort_values(ascending=False)"
   ]
  },
  {
   "cell_type": "code",
   "execution_count": null,
   "metadata": {},
   "outputs": [],
   "source": [
    "df.dtypes.sort_values()"
   ]
  },
  {
   "cell_type": "code",
   "execution_count": null,
   "metadata": {},
   "outputs": [],
   "source": [
    "df.Monto.describe(percentiles=[.1,.2,.3,.4,.5,.6,.7,.8,.9])"
   ]
  },
  {
   "cell_type": "code",
   "execution_count": null,
   "metadata": {},
   "outputs": [],
   "source": [
    "# visualize outliers\n",
    "sns.boxplot(x=df.Monto)\n",
    "\n",
    "# visualize distribution\n",
    "\n",
    "plt.figure(figsize=(10,6))\n",
    "sns.distplot(df.Monto, bins=50, color='red')\n",
    "plt.title('Distribución del monto de microcreditos')\n",
    "plt.show()\n",
    "\n",
    "# contadores\n",
    "\n",
    "# df['value'].value_counts()\n",
    "\n",
    "import warnings\n",
    "warnings.filterwarnings('ignore')\n"
   ]
  },
  {
   "cell_type": "code",
   "execution_count": null,
   "metadata": {},
   "outputs": [],
   "source": [
    "\n",
    "# Calcular Q1, Q3 y el IQR\n",
    "Q1 = np.percentile(df.Monto, 25)  # Primer cuartil (25%)\n",
    "Q3 = np.percentile(df.Monto, 75)  # Tercer cuartil (75%)\n",
    "IQR = Q3 - Q1  # Rango intercuartílico\n",
    "\n",
    "# Calcular los límites para valores atípicos\n",
    "limite_inferior = Q1 - 1.5 * IQR\n",
    "limite_superior = Q3 + 1.5 * IQR\n",
    "\n",
    "# Identificar valores atípicos\n",
    "valores_atipicos = df.Monto[(df.Monto < limite_inferior) | (df.Monto > limite_superior)]\n",
    "valores_atipicos_superior = df.Monto[(df.Monto > limite_superior)]"
   ]
  },
  {
   "cell_type": "code",
   "execution_count": null,
   "metadata": {},
   "outputs": [],
   "source": [
    "\n",
    "print(f'Limite superior para valores atipicos: {limite_superior}\\n')\n",
    "print(f'Numero de microcreditos consideramos como valores atipicos superiores: {valores_atipicos_superior.shape[0]}')\n",
    "print(f'Porcentaje del total: {round(valores_atipicos_superior.shape[0]/df.shape[0]*100,3)}%')\n",
    "\n"
   ]
  },
  {
   "cell_type": "code",
   "execution_count": null,
   "metadata": {},
   "outputs": [],
   "source": [
    "plt.figure(figsize=(10,5))\n",
    "plt.hist(df.Monto,bins=100)\n",
    "plt.title(\"Distribución del monto de microcreditos\")\n",
    "plt.grid()\n",
    "plt.show()"
   ]
  },
  {
   "cell_type": "code",
   "execution_count": null,
   "metadata": {},
   "outputs": [],
   "source": [
    "plt.figure(figsize=(15,5))\n",
    "\n",
    "plt.subplot(1,2,1)\n",
    "plt.hist(df[df[\"Monto\"]<limite_superior].Monto)\n",
    "plt.title(\"Distribución del Monto para microcreditos no atipicos\")\n",
    "plt.grid()\n",
    "\n",
    "plt.subplot(1,2,2)\n",
    "plt.hist(df[df[\"Monto\"]>limite_superior].Monto)\n",
    "plt.title(\"Distribución del Monto para microcreditos atipicos\")\n",
    "plt.grid()\n",
    "\n",
    "\n",
    "plt.show()"
   ]
  },
  {
   "cell_type": "code",
   "execution_count": null,
   "metadata": {},
   "outputs": [],
   "source": [
    "df.groupby(by=\"Año\").agg(\n",
    "    {\n",
    "        \"Monto\": [\n",
    "            (\"#\",\"count\"),\n",
    "            (\"min\",\"min\"),\n",
    "            (\"Q 10\",lambda x: round(x.quantile(q=0.1),3)),\n",
    "            (\"Promedio\", \"mean\"),\n",
    "            (\"Q 90\",lambda x: round(x.quantile(q=0.9),3)),\n",
    "            (\"max\",\"max\")\n",
    "        ]\n",
    "    }\n",
    ")"
   ]
  }
 ],
 "metadata": {
  "kernelspec": {
   "display_name": "base",
   "language": "python",
   "name": "python3"
  },
  "language_info": {
   "codemirror_mode": {
    "name": "ipython",
    "version": 3
   },
   "file_extension": ".py",
   "mimetype": "text/x-python",
   "name": "python",
   "nbconvert_exporter": "python",
   "pygments_lexer": "ipython3",
   "version": "3.10.9"
  }
 },
 "nbformat": 4,
 "nbformat_minor": 2
}
