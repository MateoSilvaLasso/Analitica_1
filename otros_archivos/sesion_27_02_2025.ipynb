{
 "cells": [
  {
   "cell_type": "markdown",
   "metadata": {},
   "source": [
    "Context: This notebook was developed the 27-02-2025 for an specific group class work"
   ]
  },
  {
   "cell_type": "code",
   "execution_count": 14,
   "metadata": {},
   "outputs": [],
   "source": [
    "# Importing the libraries\n",
    "\n",
    "import pandas as pd\n",
    "import numpy as np\n",
    "import matplotlib.pyplot as plt\n",
    "import seaborn as sns\n",
    "from sklearn.model_selection import train_test_split\n",
    "from sklearn import metrics\n",
    "from sklearn.linear_model import LinearRegression\n",
    "import statsmodels.api as sm\n",
    "from sklearn.preprocessing import PolynomialFeatures\n",
    "import os\n"
   ]
  },
  {
   "cell_type": "code",
   "execution_count": 15,
   "metadata": {},
   "outputs": [],
   "source": [
    "# Importing the dataset \n",
    "data_path = r\"C:\\Users\\Usuario\\OneDrive - Centro Cultural Colombo Americano\\Documentos\\ICESI\\ANALISIS DE DATOS 1\\Sesión 1\\Reto Banco W\\Historico_hallazgos.xlsx\"\n",
    "df = pd.read_excel(data_path)"
   ]
  },
  {
   "cell_type": "code",
   "execution_count": 16,
   "metadata": {},
   "outputs": [
    {
     "data": {
      "text/html": [
       "<div>\n",
       "<style scoped>\n",
       "    .dataframe tbody tr th:only-of-type {\n",
       "        vertical-align: middle;\n",
       "    }\n",
       "\n",
       "    .dataframe tbody tr th {\n",
       "        vertical-align: top;\n",
       "    }\n",
       "\n",
       "    .dataframe thead th {\n",
       "        text-align: right;\n",
       "    }\n",
       "</style>\n",
       "<table border=\"1\" class=\"dataframe\">\n",
       "  <thead>\n",
       "    <tr style=\"text-align: right;\">\n",
       "      <th></th>\n",
       "      <th>Num</th>\n",
       "      <th>ID_modif</th>\n",
       "      <th>Cliente</th>\n",
       "      <th>Analista</th>\n",
       "      <th>Nombre analista</th>\n",
       "      <th>Tipo crédito</th>\n",
       "      <th>Fecha desem</th>\n",
       "      <th>Visita_analista_crédito</th>\n",
       "      <th>Visita_auditor</th>\n",
       "      <th>Actividad</th>\n",
       "      <th>...</th>\n",
       "      <th>Relaciones Laborales</th>\n",
       "      <th>Oficina</th>\n",
       "      <th>zona</th>\n",
       "      <th>Regional</th>\n",
       "      <th>Validación unico</th>\n",
       "      <th>Tipo analisis</th>\n",
       "      <th>Clasificac analisis</th>\n",
       "      <th>Estado</th>\n",
       "      <th>Año</th>\n",
       "      <th>Tipo</th>\n",
       "    </tr>\n",
       "  </thead>\n",
       "  <tbody>\n",
       "    <tr>\n",
       "      <th>0</th>\n",
       "      <td>1</td>\n",
       "      <td>7252440</td>\n",
       "      <td>Hector Julio Pabon Castano</td>\n",
       "      <td>AIZ</td>\n",
       "      <td>Juan Alejandro Trujillo Garcia</td>\n",
       "      <td>Renovacion</td>\n",
       "      <td>2021-06-11 00:00:00</td>\n",
       "      <td>NaN</td>\n",
       "      <td>2022-09-20 00:00:00</td>\n",
       "      <td>don patacon postobon</td>\n",
       "      <td>...</td>\n",
       "      <td>Si</td>\n",
       "      <td>Dosquebradas</td>\n",
       "      <td>12</td>\n",
       "      <td>4</td>\n",
       "      <td>NaN</td>\n",
       "      <td>NaN</td>\n",
       "      <td>NaN</td>\n",
       "      <td>Cancelada</td>\n",
       "      <td>2022</td>\n",
       "      <td>Afecta Estabilidad</td>\n",
       "    </tr>\n",
       "    <tr>\n",
       "      <th>1</th>\n",
       "      <td>2</td>\n",
       "      <td>1143936676</td>\n",
       "      <td>Casas Marisol                                 ...</td>\n",
       "      <td>JQQ</td>\n",
       "      <td>Alexander Joaqui Quintero</td>\n",
       "      <td>Renovacion</td>\n",
       "      <td>2021-06-15 00:00:00</td>\n",
       "      <td>2021-06-08 00:00:00</td>\n",
       "      <td>NaN</td>\n",
       "      <td>expendio de comidas preparadas en cafeterias  ...</td>\n",
       "      <td>...</td>\n",
       "      <td>Si</td>\n",
       "      <td>Poblado</td>\n",
       "      <td>1</td>\n",
       "      <td>1</td>\n",
       "      <td>NaN</td>\n",
       "      <td>NaN</td>\n",
       "      <td>NaN</td>\n",
       "      <td>Castigo</td>\n",
       "      <td>2022</td>\n",
       "      <td>Afecta Estabilidad</td>\n",
       "    </tr>\n",
       "    <tr>\n",
       "      <th>2</th>\n",
       "      <td>3</td>\n",
       "      <td>1193501439</td>\n",
       "      <td>Jose Armando Agudelo Gomez</td>\n",
       "      <td>HZT</td>\n",
       "      <td>Aleatorio</td>\n",
       "      <td>NaN</td>\n",
       "      <td>2022-10-02 00:00:00</td>\n",
       "      <td>2022-02-10 00:00:00</td>\n",
       "      <td>00:00:00</td>\n",
       "      <td>Gallera Trebol</td>\n",
       "      <td>...</td>\n",
       "      <td>NaN</td>\n",
       "      <td>Chaparral</td>\n",
       "      <td>11</td>\n",
       "      <td>4</td>\n",
       "      <td>NaN</td>\n",
       "      <td>NaN</td>\n",
       "      <td>NaN</td>\n",
       "      <td>Cancelada</td>\n",
       "      <td>2022</td>\n",
       "      <td>Afecta Estabilidad</td>\n",
       "    </tr>\n",
       "    <tr>\n",
       "      <th>3</th>\n",
       "      <td>4</td>\n",
       "      <td>1088033647</td>\n",
       "      <td>Jennifer  Lopez Perez</td>\n",
       "      <td>IOC</td>\n",
       "      <td>Nicolas  Suaza Pulgarin</td>\n",
       "      <td>Nuevo</td>\n",
       "      <td>2022-05-03 00:00:00</td>\n",
       "      <td>NaN</td>\n",
       "      <td>2022-08-22 00:00:00</td>\n",
       "      <td>drogueria</td>\n",
       "      <td>...</td>\n",
       "      <td>Si</td>\n",
       "      <td>Dosquebradas</td>\n",
       "      <td>12</td>\n",
       "      <td>4</td>\n",
       "      <td>NaN</td>\n",
       "      <td>NaN</td>\n",
       "      <td>NaN</td>\n",
       "      <td>Modificado</td>\n",
       "      <td>2022</td>\n",
       "      <td>Afecta Estabilidad</td>\n",
       "    </tr>\n",
       "    <tr>\n",
       "      <th>4</th>\n",
       "      <td>5</td>\n",
       "      <td>1116271559</td>\n",
       "      <td>Laura Marcela Valdes Zapata</td>\n",
       "      <td>CZL</td>\n",
       "      <td>Martha  Herrera Giraldo</td>\n",
       "      <td>Renovación</td>\n",
       "      <td>2022-03-11 00:00:00</td>\n",
       "      <td>2022-03-05 00:00:00</td>\n",
       "      <td>2022-06-07 00:00:00</td>\n",
       "      <td>manualidades artes plasticas</td>\n",
       "      <td>...</td>\n",
       "      <td>NaN</td>\n",
       "      <td>Tulua</td>\n",
       "      <td>3</td>\n",
       "      <td>1</td>\n",
       "      <td>NaN</td>\n",
       "      <td>NaN</td>\n",
       "      <td>NaN</td>\n",
       "      <td>Cancelada</td>\n",
       "      <td>2022</td>\n",
       "      <td>Afecta Estabilidad</td>\n",
       "    </tr>\n",
       "  </tbody>\n",
       "</table>\n",
       "<p>5 rows × 28 columns</p>\n",
       "</div>"
      ],
      "text/plain": [
       "   Num    ID_modif                                            Cliente  \\\n",
       "0    1     7252440                         Hector Julio Pabon Castano   \n",
       "1    2  1143936676  Casas Marisol                                 ...   \n",
       "2    3  1193501439                         Jose Armando Agudelo Gomez   \n",
       "3    4  1088033647                              Jennifer  Lopez Perez   \n",
       "4    5  1116271559                        Laura Marcela Valdes Zapata   \n",
       "\n",
       "  Analista                 Nombre analista Tipo crédito          Fecha desem  \\\n",
       "0      AIZ  Juan Alejandro Trujillo Garcia   Renovacion  2021-06-11 00:00:00   \n",
       "1      JQQ       Alexander Joaqui Quintero   Renovacion  2021-06-15 00:00:00   \n",
       "2      HZT                       Aleatorio          NaN  2022-10-02 00:00:00   \n",
       "3      IOC         Nicolas  Suaza Pulgarin        Nuevo  2022-05-03 00:00:00   \n",
       "4      CZL         Martha  Herrera Giraldo   Renovación  2022-03-11 00:00:00   \n",
       "\n",
       "  Visita_analista_crédito       Visita_auditor  \\\n",
       "0                     NaN  2022-09-20 00:00:00   \n",
       "1     2021-06-08 00:00:00                  NaN   \n",
       "2     2022-02-10 00:00:00             00:00:00   \n",
       "3                     NaN  2022-08-22 00:00:00   \n",
       "4     2022-03-05 00:00:00  2022-06-07 00:00:00   \n",
       "\n",
       "                                           Actividad  ...  \\\n",
       "0                               don patacon postobon  ...   \n",
       "1  expendio de comidas preparadas en cafeterias  ...  ...   \n",
       "2                                     Gallera Trebol  ...   \n",
       "3                                          drogueria  ...   \n",
       "4                       manualidades artes plasticas  ...   \n",
       "\n",
       "   Relaciones Laborales      Oficina   zona  Regional Validación unico  \\\n",
       "0                    Si  Dosquebradas     12        4              NaN   \n",
       "1                    Si       Poblado      1        1              NaN   \n",
       "2                   NaN     Chaparral     11        4              NaN   \n",
       "3                    Si  Dosquebradas     12        4              NaN   \n",
       "4                   NaN         Tulua      3        1              NaN   \n",
       "\n",
       "  Tipo analisis  Clasificac analisis                          Estado   Año  \\\n",
       "0            NaN                 NaN  Cancelada                       2022   \n",
       "1            NaN                 NaN  Castigo                         2022   \n",
       "2            NaN                 NaN  Cancelada                       2022   \n",
       "3            NaN                 NaN  Modificado                      2022   \n",
       "4            NaN                 NaN  Cancelada                       2022   \n",
       "\n",
       "                 Tipo  \n",
       "0  Afecta Estabilidad  \n",
       "1  Afecta Estabilidad  \n",
       "2  Afecta Estabilidad  \n",
       "3  Afecta Estabilidad  \n",
       "4  Afecta Estabilidad  \n",
       "\n",
       "[5 rows x 28 columns]"
      ]
     },
     "execution_count": 16,
     "metadata": {},
     "output_type": "execute_result"
    }
   ],
   "source": [
    "df.head()"
   ]
  },
  {
   "cell_type": "code",
   "execution_count": 17,
   "metadata": {},
   "outputs": [
    {
     "data": {
      "text/plain": [
       "Index(['Num', 'ID_modif', 'Cliente', 'Analista', 'Nombre analista',\n",
       "       'Tipo crédito', 'Fecha desem', 'Visita_analista_crédito',\n",
       "       'Visita_auditor', 'Actividad', 'Monto', 'Cuota', 'Plazo', 'Categoria',\n",
       "       'Hallazgo', 'Tipo hallazgo', 'Riesgo', 'Calificación cartera',\n",
       "       'Relaciones Laborales', 'Oficina ', 'zona ', 'Regional',\n",
       "       'Validación unico', 'Tipo analisis ', 'Clasificac analisis', 'Estado',\n",
       "       'Año', 'Tipo'],\n",
       "      dtype='object')"
      ]
     },
     "execution_count": 17,
     "metadata": {},
     "output_type": "execute_result"
    }
   ],
   "source": [
    "df.columns"
   ]
  },
  {
   "cell_type": "code",
   "execution_count": 18,
   "metadata": {},
   "outputs": [
    {
     "data": {
      "text/plain": [
       "Validación unico           3672\n",
       "Tipo analisis              1522\n",
       "Clasificac analisis        1522\n",
       "Estado                     1133\n",
       "Tipo                       1133\n",
       "Visita_analista_crédito     800\n",
       "Relaciones Laborales        496\n",
       "Tipo crédito                202\n",
       "Visita_auditor              119\n",
       "Actividad                    52\n",
       "Calificación cartera         30\n",
       "Riesgo                        4\n",
       "Fecha desem                   3\n",
       "Hallazgo                      2\n",
       "Cliente                       1\n",
       "Tipo hallazgo                 1\n",
       "ID_modif                      0\n",
       "Num                           0\n",
       "Nombre analista               0\n",
       "Analista                      0\n",
       "Cuota                         0\n",
       "Monto                         0\n",
       "Categoria                     0\n",
       "Plazo                         0\n",
       "Oficina                       0\n",
       "Regional                      0\n",
       "zona                          0\n",
       "Año                           0\n",
       "dtype: int64"
      ]
     },
     "execution_count": 18,
     "metadata": {},
     "output_type": "execute_result"
    }
   ],
   "source": [
    "df.isna().sum().sort_values(ascending=False)"
   ]
  },
  {
   "cell_type": "code",
   "execution_count": 19,
   "metadata": {},
   "outputs": [
    {
     "data": {
      "text/plain": [
       "Num                          int64\n",
       "ID_modif                     int64\n",
       "Regional                     int64\n",
       "zona                         int64\n",
       "Plazo                        int64\n",
       "Año                          int64\n",
       "Monto                      float64\n",
       "Estado                      object\n",
       "Clasificac analisis         object\n",
       "Tipo analisis               object\n",
       "Validación unico            object\n",
       "Oficina                     object\n",
       "Relaciones Laborales        object\n",
       "Calificación cartera        object\n",
       "Riesgo                      object\n",
       "Categoria                   object\n",
       "Hallazgo                    object\n",
       "Cuota                       object\n",
       "Actividad                   object\n",
       "Visita_auditor              object\n",
       "Visita_analista_crédito     object\n",
       "Fecha desem                 object\n",
       "Tipo crédito                object\n",
       "Nombre analista             object\n",
       "Analista                    object\n",
       "Cliente                     object\n",
       "Tipo hallazgo               object\n",
       "Tipo                        object\n",
       "dtype: object"
      ]
     },
     "execution_count": 19,
     "metadata": {},
     "output_type": "execute_result"
    }
   ],
   "source": [
    "df.dtypes.sort_values()"
   ]
  },
  {
   "cell_type": "code",
   "execution_count": 20,
   "metadata": {},
   "outputs": [
    {
     "data": {
      "text/plain": [
       "count      3919.000000\n",
       "mean       7868.221327\n",
       "std       12527.212956\n",
       "min           0.000000\n",
       "10%        1118.800000\n",
       "20%        1591.942000\n",
       "30%        2232.629200\n",
       "40%        2844.280800\n",
       "50%        3697.600000\n",
       "60%        5150.600000\n",
       "70%        6496.681600\n",
       "80%        9308.400000\n",
       "90%       19578.292800\n",
       "max      130000.000000\n",
       "Name: Monto, dtype: float64"
      ]
     },
     "execution_count": 20,
     "metadata": {},
     "output_type": "execute_result"
    }
   ],
   "source": [
    "df.Monto.describe(percentiles=[.1,.2,.3,.4,.5,.6,.7,.8,.9])"
   ]
  },
  {
   "cell_type": "code",
   "execution_count": 21,
   "metadata": {},
   "outputs": [
    {
     "name": "stderr",
     "output_type": "stream",
     "text": [
      "C:\\Users\\Usuario\\AppData\\Local\\Temp\\ipykernel_1120\\968150165.py:7: UserWarning: \n",
      "\n",
      "`distplot` is a deprecated function and will be removed in seaborn v0.14.0.\n",
      "\n",
      "Please adapt your code to use either `displot` (a figure-level function with\n",
      "similar flexibility) or `histplot` (an axes-level function for histograms).\n",
      "\n",
      "For a guide to updating your code to use the new functions, please see\n",
      "https://gist.github.com/mwaskom/de44147ed2974457ad6372750bbe5751\n",
      "\n",
      "  sns.distplot(df.Monto, bins=50, color='red')\n"
     ]
    },
    {
     "data": {
      "image/png": "[encoded data removed]",
      "text/plain": [
       "<Figure size 640x480 with 1 Axes>"
      ]
     },
     "metadata": {},
     "output_type": "display_data"
    },
    {
     "data": {
      "image/png": "[encoded data removed]",
      "text/plain": [
       "<Figure size 1000x600 with 1 Axes>"
      ]
     },
     "metadata": {},
     "output_type": "display_data"
    }
   ],
   "source": [
    "# visualize outliers\n",
    "sns.boxplot(x=df.Monto)\n",
    "\n",
    "# visualize distribution\n",
    "\n",
    "plt.figure(figsize=(10,6))\n",
    "sns.distplot(df.Monto, bins=50, color='red')\n",
    "plt.title('Distribución del monto de microcreditos')\n",
    "plt.show()\n",
    "\n",
    "# contadores\n",
    "\n",
    "# df['value'].value_counts()\n",
    "\n",
    "import warnings\n",
    "warnings.filterwarnings('ignore')\n"
   ]
  },
  {
   "cell_type": "code",
   "execution_count": 22,
   "metadata": {},
   "outputs": [],
   "source": [
    "\n",
    "# Calcular Q1, Q3 y el IQR\n",
    "Q1 = np.percentile(df.Monto, 25)  # Primer cuartil (25%)\n",
    "Q3 = np.percentile(df.Monto, 75)  # Tercer cuartil (75%)\n",
    "IQR = Q3 - Q1  # Rango intercuartílico\n",
    "\n",
    "# Calcular los límites para valores atípicos\n",
    "limite_inferior = Q1 - 1.5 * IQR\n",
    "limite_superior = Q3 + 1.5 * IQR\n",
    "\n",
    "# Identificar valores atípicos\n",
    "valores_atipicos = df.Monto[(df.Monto < limite_inferior) | (df.Monto > limite_superior)]\n",
    "valores_atipicos_superior = df.Monto[(df.Monto > limite_superior)]"
   ]
  },
  {
   "cell_type": "code",
   "execution_count": 23,
   "metadata": {},
   "outputs": [
    {
     "name": "stdout",
     "output_type": "stream",
     "text": [
      "Limite superior para valores atipicos: 14681.172499999999\n",
      "\n",
      "Numero de microcreditos consideramos como valores atipicos superiores: 518\n",
      "Porcentaje del total: 13.218%\n"
     ]
    }
   ],
   "source": [
    "\n",
    "print(f'Limite superior para valores atipicos: {limite_superior}\\n')\n",
    "print(f'Numero de microcreditos consideramos como valores atipicos superiores: {valores_atipicos_superior.shape[0]}')\n",
    "print(f'Porcentaje del total: {round(valores_atipicos_superior.shape[0]/df.shape[0]*100,3)}%')\n",
    "\n"
   ]
  },
  {
   "cell_type": "code",
   "execution_count": 24,
   "metadata": {},
   "outputs": [
    {
     "data": {
      "image/png": "[encoded data removed]",
      "text/plain": [
       "<Figure size 1000x500 with 1 Axes>"
      ]
     },
     "metadata": {},
     "output_type": "display_data"
    }
   ],
   "source": [
    "plt.figure(figsize=(10,5))\n",
    "plt.hist(df.Monto,bins=100)\n",
    "plt.title(\"Distribución del monto de microcreditos\")\n",
    "plt.grid()\n",
    "plt.show()"
   ]
  },
  {
   "cell_type": "code",
   "execution_count": 25,
   "metadata": {},
   "outputs": [
    {
     "data": {
      "image/png": "[encoded data removed]",
      "text/plain": [
       "<Figure size 1500x500 with 2 Axes>"
      ]
     },
     "metadata": {},
     "output_type": "display_data"
    }
   ],
   "source": [
    "plt.figure(figsize=(15,5))\n",
    "\n",
    "plt.subplot(1,2,1)\n",
    "plt.hist(df[df[\"Monto\"]<limite_superior].Monto)\n",
    "plt.title(\"Distribución del Monto para microcreditos no atipicos\")\n",
    "plt.grid()\n",
    "\n",
    "plt.subplot(1,2,2)\n",
    "plt.hist(df[df[\"Monto\"]>limite_superior].Monto)\n",
    "plt.title(\"Distribución del Monto para microcreditos atipicos\")\n",
    "plt.grid()\n",
    "\n",
    "\n",
    "plt.show()"
   ]
  },
  {
   "cell_type": "code",
   "execution_count": 26,
   "metadata": {},
   "outputs": [
    {
     "data": {
      "text/html": [
       "<div>\n",
       "<style scoped>\n",
       "    .dataframe tbody tr th:only-of-type {\n",
       "        vertical-align: middle;\n",
       "    }\n",
       "\n",
       "    .dataframe tbody tr th {\n",
       "        vertical-align: top;\n",
       "    }\n",
       "\n",
       "    .dataframe thead tr th {\n",
       "        text-align: left;\n",
       "    }\n",
       "\n",
       "    .dataframe thead tr:last-of-type th {\n",
       "        text-align: right;\n",
       "    }\n",
       "</style>\n",
       "<table border=\"1\" class=\"dataframe\">\n",
       "  <thead>\n",
       "    <tr>\n",
       "      <th></th>\n",
       "      <th colspan=\"6\" halign=\"left\">Monto</th>\n",
       "    </tr>\n",
       "    <tr>\n",
       "      <th></th>\n",
       "      <th>#</th>\n",
       "      <th>min</th>\n",
       "      <th>Q 10</th>\n",
       "      <th>Promedio</th>\n",
       "      <th>Q 90</th>\n",
       "      <th>max</th>\n",
       "    </tr>\n",
       "    <tr>\n",
       "      <th>Año</th>\n",
       "      <th></th>\n",
       "      <th></th>\n",
       "      <th></th>\n",
       "      <th></th>\n",
       "      <th></th>\n",
       "      <th></th>\n",
       "    </tr>\n",
       "  </thead>\n",
       "  <tbody>\n",
       "    <tr>\n",
       "      <th>2022</th>\n",
       "      <td>1522</td>\n",
       "      <td>400.0</td>\n",
       "      <td>1079.971</td>\n",
       "      <td>8229.754491</td>\n",
       "      <td>25112.090</td>\n",
       "      <td>130000.000</td>\n",
       "    </tr>\n",
       "    <tr>\n",
       "      <th>2023</th>\n",
       "      <td>1264</td>\n",
       "      <td>400.0</td>\n",
       "      <td>1428.916</td>\n",
       "      <td>7089.103865</td>\n",
       "      <td>14140.560</td>\n",
       "      <td>100983.196</td>\n",
       "    </tr>\n",
       "    <tr>\n",
       "      <th>2024</th>\n",
       "      <td>1133</td>\n",
       "      <td>0.0</td>\n",
       "      <td>500.000</td>\n",
       "      <td>8251.761481</td>\n",
       "      <td>19851.728</td>\n",
       "      <td>121469.280</td>\n",
       "    </tr>\n",
       "  </tbody>\n",
       "</table>\n",
       "</div>"
      ],
      "text/plain": [
       "     Monto                                                     \n",
       "         #    min      Q 10     Promedio       Q 90         max\n",
       "Año                                                            \n",
       "2022  1522  400.0  1079.971  8229.754491  25112.090  130000.000\n",
       "2023  1264  400.0  1428.916  7089.103865  14140.560  100983.196\n",
       "2024  1133    0.0   500.000  8251.761481  19851.728  121469.280"
      ]
     },
     "execution_count": 26,
     "metadata": {},
     "output_type": "execute_result"
    }
   ],
   "source": [
    "df.groupby(by=\"Año\").agg(\n",
    "    {\n",
    "        \"Monto\": [\n",
    "            (\"#\",\"count\"),\n",
    "            (\"min\",\"min\"),\n",
    "            (\"Q 10\",lambda x: round(x.quantile(q=0.1),3)),\n",
    "            (\"Promedio\", \"mean\"),\n",
    "            (\"Q 90\",lambda x: round(x.quantile(q=0.9),3)),\n",
    "            (\"max\",\"max\")\n",
    "        ]\n",
    "    }\n",
    ")"
   ]
  },
  {
   "cell_type": "code",
   "execution_count": null,
   "metadata": {},
   "outputs": [],
   "source": []
  },
  {
   "cell_type": "code",
   "execution_count": null,
   "metadata": {},
   "outputs": [],
   "source": []
  }
 ],
 "metadata": {
  "kernelspec": {
   "display_name": "Python 3",
   "language": "python",
   "name": "python3"
  },
  "language_info": {
   "codemirror_mode": {
    "name": "ipython",
    "version": 3
   },
   "file_extension": ".py",
   "mimetype": "text/x-python",
   "name": "python",
   "nbconvert_exporter": "python",
   "pygments_lexer": "ipython3",
   "version": "3.13.0"
  }
 },
 "nbformat": 4,
 "nbformat_minor": 2
}
